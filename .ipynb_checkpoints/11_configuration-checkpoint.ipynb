{
 "cells": [
  {
   "cell_type": "markdown",
   "id": "14567855-f5c6-48b8-a928-21edc48586ea",
   "metadata": {},
   "source": [
    "<h1 style='font-size:40px'> Read, Generate and Modify Configuration</h1>\n",
    "<div> \n",
    "    <ul style='font-size:20px'> \n",
    "        <li>\n",
    "            Esta seção revisitará conceitos já apresentados ao longo do curso, a fim de aprofundá-los.\n",
    "        </li>\n",
    "    </ul>\n",
    " </div>"
   ]
  },
  {
   "cell_type": "markdown",
   "id": "4ede5450-3cd8-4722-bc28-fef49ea63c2d",
   "metadata": {},
   "source": [
    "<h2 style='font-size:30px'> \n",
    "    Local Variables</h2>\n",
    "<div> \n",
    "    <ul style='font-size:20px'> \n",
    "        <li>\n",
    "            As Local Variables possuem algumas restrições, comparadas às variáveis tradicionais. Elas apenas podem ser referenciadas dentro do arquivo em que estão sendo usadas, e não podem ter seu valor alterado (penso que seria mais apropriado chamá-las de local constants).\n",
    "        </li>\n",
    "        <li>\n",
    "            Um truque legal ensinado é que, caso deseje usar múltiplas variáveis no parâmetro de um recurso, você pode criar um local cujo valor seja um dicionário com os argumentos e valores necessários. Quando for escrever a configuração do recurso, se referencie ao conjunto de variáveis como &lt; locals.argument_name&gt;. \n",
    "        </li>\n",
    "    </ul>\n",
    " </div>"
   ]
  },
  {
   "cell_type": "markdown",
   "id": "2032029b-d7b4-48d4-9d52-a8fa00f7d463",
   "metadata": {},
   "source": [
    " <center style='margin-top:20px'> \n",
    "        <figure>\n",
    "            <img src='img/11_locals_argument.png'>\n",
    "            <figcaption> Exemplo de declaração de um local que se refere a múltiplas variáveis.</figcaption>\n",
    "        </figure>\n",
    "    </center>"
   ]
  },
  {
   "cell_type": "markdown",
   "id": "315e02f8-aa65-4a0b-bc6e-48a96b5f6fa7",
   "metadata": {},
   "source": [
    "<h2 style='font-size:30px'> \n",
    "     Input Variables</h2>\n",
    "<div> \n",
    "    <ul style='font-size:20px'> \n",
    "        <li>\n",
    "            As variáveis de input admitem uma maior flexibilidade do que as locals. Conseguimos importá-las em diferentes arquivos e redefini-las.\n",
    "        </li>\n",
    "    </ul>\n",
    " </div>"
   ]
  },
  {
   "cell_type": "markdown",
   "id": "dc81d385-b243-4d80-8274-7ad7dcd776a0",
   "metadata": {},
   "source": [
    " <center style='margin-top:20px'> \n",
    "        <figure>\n",
    "            <img src='img/04_variables_precedence.png'>\n",
    "            <figcaption> Podemos editar os valores de variáveis respeitando a ordem de precedência imposta pelo Terraform.</figcaption>\n",
    "        </figure>\n",
    "    </center>"
   ]
  },
  {
   "cell_type": "markdown",
   "id": "4356c3dc-c449-4c9e-84a8-5fbb2d7695f4",
   "metadata": {},
   "source": [
    "<h3 style='font-size:30px;font-style:italic'> Variáveis de Ambiente</h3>\n",
    "<div> \n",
    "    <ul style='font-size:20px'>\n",
    "        <li> \n",
    "            Para fazer o Terraform utilizar uma variável de ambiente como input variable, você deverá exportá-la em seu terminal, tendo o prefixo \"TF_VAR_\".\n",
    "        </li>\n",
    "        <li>\n",
    "            Observe que, caso esteja usando um backend remoto, você deverá definir as variáveis de ambiente dentro da plataforma utilizada, e não em seu terminal!\n",
    "        </li>\n",
    "     </ul>\n",
    "</div>"
   ]
  },
  {
   "cell_type": "markdown",
   "id": "8c94c18b-bcf0-494d-a9d4-e9ebceff229c",
   "metadata": {},
   "source": [
    " <center style='margin-top:20px'> \n",
    "        <figure>\n",
    "            <img src='img/11_export_variable.png'>\n",
    "            <figcaption> Exemplo da declaração de uma variável \"variable_sub_cidr\".</figcaption>\n",
    "        </figure>\n",
    "    </center>"
   ]
  },
  {
   "cell_type": "markdown",
   "id": "4b0d83ea-c267-4e8d-ae52-fbde08cedb4c",
   "metadata": {
    "jp-MarkdownHeadingCollapsed": true
   },
   "source": [
    "<h3 style='font-size:30px;font-style:italic'> terraform.tfvars</h3>\n",
    "<div> \n",
    "    <ul style='font-size:20px'>\n",
    "        <li> \n",
    "            Em arquivos .tfvars, você deve apenas declarar o nome da variável e o respectivo valor que deseja dar a ela.\n",
    "        </li>\n",
    "        <li>\n",
    "            É a maneira mais utilizada na declaração de variáveis.\n",
    "        </li>\n",
    "     </ul>\n",
    "</div>"
   ]
  },
  {
   "cell_type": "markdown",
   "id": "3ed87f08-03fb-4478-8d8c-9e84df3e102c",
   "metadata": {},
   "source": [
    "<h3 style='font-size:30px;font-style:italic'> CLI</h3>\n",
    "<div> \n",
    "    <ul style='font-size:20px'>\n",
    "        <li> \n",
    "            A CLI é a entidade com a maior precedência na declaração de input variables. Quando for rodar um plan ou apply, passe a flag `-var &lt; variable_name&gt;=&lt; variable_value&gt;`.\n",
    "        </li>\n",
    "     </ul>\n",
    "</div>"
   ]
  },
  {
   "cell_type": "markdown",
   "id": "43e9becb-264e-4315-b30a-7388fe41576f",
   "metadata": {
    "tags": []
   },
   "source": [
    "<h4 style='font-size:30px;font-style:italic;text-decoration:underline'> Observação</h4>\n",
    "<div> \n",
    "    <ul style='font-size:20px'>\n",
    "        <li> \n",
    "            Todos os recursos apresentados servem apenas para a definição do valor das variáveis já declaradas num <i>variables.tf</i>. O desenvolvedor não consegue criar uma nova variável a partir da CLI, ou em um .tfvars.\n",
    "        </li>\n",
    "     </ul>\n",
    "</div>"
   ]
  },
  {
   "cell_type": "markdown",
   "id": "0e1673c6-54b7-4c9f-abb2-6808ffa60d4d",
   "metadata": {},
   "source": [
    "<h2 style='font-size:30px'> \n",
    "     Terraform Outputs</h2>\n",
    "<div> \n",
    "    <ul style='font-size:20px'> \n",
    "        <li>\n",
    "            Como vimos em outros labs, outputs funcionam como valores disponibilizados por um módulo para serem consumidos por outros. Caso deseje ter acesso aos outputs de seu módulo atual, execute `terraform output`.\n",
    "        </li>\n",
    "        <li>\n",
    "            Outputs declarados com `sensitive=true` terão seus valores omitidos no output do terminal.\n",
    "        </li>\n",
    "    </ul>\n",
    " </div>"
   ]
  },
  {
   "cell_type": "markdown",
   "id": "e27e5bf1-12ac-4862-9e2e-bfc026e77150",
   "metadata": {},
   "source": [
    "<h2 style='font-size:30px'> \n",
    "     Variable Validation and Suppression</h2>\n",
    "<div> \n",
    "    <ul style='font-size:20px'> \n",
    "        <li>\n",
    "            O Terraform oferece um bloco <i> validation</i>, que pode ser usado dentro da definição de uma variável. Ele atua como uma cláusula `assert`, que verifica se o valor da variável respeita regras impostas.\n",
    "        </li>\n",
    "    </ul>\n",
    " </div>"
   ]
  },
  {
   "cell_type": "markdown",
   "id": "87304ff0-175a-4753-a9c7-e260780397ef",
   "metadata": {},
   "source": [
    " <center style='margin-top:20px'> \n",
    "        <figure>\n",
    "            <img src='img/11_variable_val.png'>\n",
    "            <figcaption> Exemplo de um bloco de validação. Repare que podemos utilizar as funções built-in do Terraform, para nos auxiliar na construção das cláusulas.</figcaption>\n",
    "        </figure>\n",
    "    </center>"
   ]
  },
  {
   "cell_type": "markdown",
   "id": "893ab40f-725c-4f5e-9664-f9f669a98d25",
   "metadata": {},
   "source": [
    "<div> \n",
    "    <ul style='font-size:20px'> \n",
    "        <li>\n",
    "            É mencionada novamente a capacidade de supressão de dados sensíveis dos outputs. Além disso, foi mostrado como tais informações são exibidas, caso utilizemos o Terraform Cloud como backend:\n",
    "        </li>\n",
    "    </ul>\n",
    " </div>"
   ]
  },
  {
   "cell_type": "markdown",
   "id": "e24d7522-7bf4-415d-94eb-33b1fa64f3fa",
   "metadata": {},
   "source": [
    " <center style='margin-top:20px'> \n",
    "        <figure>\n",
    "            <img src='img/11_tfcloud_sensitive.png'>\n",
    "            <figcaption> Observe que os outputs sensíveis ficam omitidos no site do Terraform Cloud.</figcaption>\n",
    "        </figure>\n",
    "    </center>"
   ]
  },
  {
   "cell_type": "markdown",
   "id": "9bb03304-443e-4766-839c-bada85cc1efc",
   "metadata": {},
   "source": [
    "<h2 style='font-size:30px'> \n",
    "     Secure Secrets in Terraform Code</h2>\n",
    "<div> \n",
    "    <ul style='font-size:20px'> \n",
    "        <li>\n",
    "            Até o momento, aprendemos algumas maneiras de evitar a exposição de variáveis sensíveis. Podemos sinalizá-las como sensitive, assim como apenas declarar o seu valor via linha de comando, mas nenhuma dessas maneiras é bastante eficaz. Seria interessante usufruir tanto do automatismo no resgate dos dados, quanto de sua confidencialidade.\n",
    "        </li>\n",
    "        <li>\n",
    "            Para isso, soluções como o Hashicorp Vault foram criadas. Elas consistem em repositórios seguros, de onde os dados sensíveis podem ser coletados.\n",
    "        </li>\n",
    "    </ul>\n",
    " </div>"
   ]
  },
  {
   "cell_type": "markdown",
   "id": "1841c770-5ea1-4691-81b0-7726cc3ee9e4",
   "metadata": {},
   "source": [
    "<h3 style='font-size:30px;font-style:italic'> Uso do Hashicorp Vault</h3>\n",
    "<div> \n",
    "    <ul style='font-size:20px'>\n",
    "        <li> \n",
    "            O uso do Hashicorp Vault envolve o uso de uma CLI própria. Com ela, deveremos criar o vault onde nossos valores sensíveis serão guardados.\n",
    "        </li>\n",
    "        <li>\n",
    "            Uma vez depositadas as variáveis, deveremos declarar um backend Vault em nosso projeto Terraform. Feito isso, cada variável poderá ser coletada com um data block.\n",
    "        </li>\n",
    "        <li>\n",
    "            Além disso, o Terraform já está programado para reconhecer qualquer dado proveniente do Vault como sensível. Por isso, ele jamais exporá o seu valor (caso você o ponha como output, por exemplo).\n",
    "        </li>\n",
    "     </ul>\n",
    "</div>"
   ]
  },
  {
   "cell_type": "markdown",
   "id": "d28c985a-1b24-4930-bc23-861dc4e382b4",
   "metadata": {},
   "source": [
    " <center style='margin-top:20px'> \n",
    "        <figure>\n",
    "            <img src='img/11_vault_data.png'>\n",
    "            <figcaption> Caso queira resgatar o valor puro de seu dado sensível, resgate o atributo `.data[&lt;nome_variavel&gt;]` de sua variável.</figcaption>\n",
    "        </figure>\n",
    "    </center>"
   ]
  },
  {
   "cell_type": "markdown",
   "id": "471eb61d-9a7c-4cd6-aff1-3dbd561225a5",
   "metadata": {},
   "source": [
    "<h2 style='font-size:30px'> \n",
    "     Variable Collection and Structure Types</h2>\n",
    "<div> \n",
    "    <ul style='font-size:20px'> \n",
    "        <li>\n",
    "            Nessa aula, aprendemos os data types admitidos pelo Terraform.\n",
    "        </li>\n",
    "        <li>\n",
    "            De maneira geral, os tipos são bastante semelhantes com os da maioria das linguagens de programação.\n",
    "        </li>\n",
    "        <li>\n",
    "            Os tipos primitivos do Terraform são string, bool e number. Este último contempla tanto inteiros, quanto floats.\n",
    "        </li>\n",
    "    </ul>\n",
    " </div>"
   ]
  },
  {
   "cell_type": "markdown",
   "id": "99e356bb-438b-4eb2-9aab-6704fbb8e926",
   "metadata": {},
   "source": [
    "<h3 style='font-size:30px;font-style:italic'> Estruturas de Dados</h3>"
   ]
  },
  {
   "cell_type": "markdown",
   "id": "2edec039-5a72-4538-8014-c3c5ed2027b4",
   "metadata": {
    "tags": []
   },
   "source": [
    "<h4 style='font-size:30px;font-style:italic;text-decoration:underline'> List</h4>\n",
    "<div> \n",
    "    <ul style='font-size:20px'>\n",
    "        <li> \n",
    "            As listas no Terraform são sequências de dados de mesmo tipo. Ou seja, não é admitido um ordenamento com um number e um bool, por exemplo.\n",
    "        </li>\n",
    "     </ul>\n",
    "</div>"
   ]
  },
  {
   "cell_type": "markdown",
   "id": "14fb9661-c496-4c9e-b4df-e96b122d7ced",
   "metadata": {
    "tags": []
   },
   "source": [
    "<h4 style='font-size:30px;font-style:italic;text-decoration:underline'> Tuple</h4>\n",
    "<div> \n",
    "    <ul style='font-size:20px'>\n",
    "        <li> \n",
    "            Tuplas no Terraform são ordenamentos que admitem diversidade de data types.\n",
    "        </li>\n",
    "     </ul>\n",
    "</div>"
   ]
  },
  {
   "cell_type": "markdown",
   "id": "c6ac4dfb-892f-43f6-85cb-2f5ef2d90940",
   "metadata": {},
   "source": [
    "<div> \n",
    "    <ul style='font-size:20px'>\n",
    "        <li> \n",
    "            Listas e Tuplas têm 0 como primeiro índice. Elas são declaradas usando colchetes [].\n",
    "        </li>\n",
    "     </ul>\n",
    "</div>"
   ]
  },
  {
   "cell_type": "markdown",
   "id": "1a2ef95c-b2b2-4768-8877-702aa0e2b3e7",
   "metadata": {
    "tags": []
   },
   "source": [
    "<h4 style='font-size:30px;font-style:italic;text-decoration:underline'> Map</h4>\n",
    "<div> \n",
    "    <ul style='font-size:20px'>\n",
    "        <li> \n",
    "            Equivalente aos dicionários. São relações de chave-valor.\n",
    "        </li>\n",
    "        <li>\n",
    "            O resgate do valor de uma chave funciona de forma igual à do Python (var.&lt;dict_name&gt;[&lt;key_name&gt;]). Além disso, quando iteramos por um map, os nomes das chaves e valores podem ser resgatados com `each.key` e `each.value`. \n",
    "        </li>\n",
    "     </ul>\n",
    "</div>"
   ]
  },
  {
   "cell_type": "markdown",
   "id": "d362600d-a33e-4580-b1c2-d76a7aa80580",
   "metadata": {},
   "source": [
    " <center style='margin-top:20px'> \n",
    "        <figure>\n",
    "            <img src='img/11_iter_map.png'>\n",
    "            <figcaption> Exemplo de iteração sobre um map para a configuração de múltiplos CIDR Blocks de Subnets..</figcaption>\n",
    "        </figure>\n",
    "    </center>"
   ]
  },
  {
   "cell_type": "markdown",
   "id": "f7b9746f-35d8-4423-9064-0ef2a4681ca1",
   "metadata": {},
   "source": [
    "<div> \n",
    "    <ul style='font-size:20px'>\n",
    "        <li> \n",
    "            O Terraform ainda admite criarmos Maps aninhados. Podemos usá-los para aplicar um mesmo recurso em múltiplos ambientes com configs distinas.\n",
    "        </li>\n",
    "     </ul>\n",
    "</div>"
   ]
  },
  {
   "cell_type": "markdown",
   "id": "4826d61c-2310-454f-a4a1-3fffd73971f9",
   "metadata": {},
   "source": [
    " <center style='margin-top:20px'> \n",
    "        <figure>\n",
    "            <img src='img/11_nested_maps.png'>\n",
    "            <figcaption> Exemplo de um dicionário aninhado no Terraform.</figcaption>\n",
    "        </figure>\n",
    "    </center>"
   ]
  },
  {
   "cell_type": "markdown",
   "id": "88f0e843-17fe-4321-ac2a-e1d8203aa1c0",
   "metadata": {},
   "source": [
    "<h2 style='font-size:30px'> \n",
    "     Working with Data Blocks</h2>\n",
    "<div> \n",
    "    <ul style='font-size:20px'> \n",
    "        <li>\n",
    "            Breve revisão sobre o uso de data blocks.\n",
    "        </li>\n",
    "    </ul>\n",
    " </div>"
   ]
  },
  {
   "cell_type": "markdown",
   "id": "26cb22fc-329e-4bc4-89c1-d89f683a15f5",
   "metadata": {},
   "source": [
    "<h2 style='font-size:30px'> \n",
    "     Terraform Built-In Functions</h2>\n",
    "<div> \n",
    "    <ul style='font-size:20px'> \n",
    "        <li>\n",
    "            O Terraform possui algumas funções built-in para que possamos manipular dados de diversos tipos. Eles são bastante similares aos do Python.\n",
    "        </li>\n",
    "        <li>\n",
    "            Você pode consultá-los na documentação do Terraform. \n",
    "        </li>\n",
    "    </ul>\n",
    " </div>"
   ]
  },
  {
   "cell_type": "markdown",
   "id": "2639802f-e5df-4c25-9f50-14b505ab3e87",
   "metadata": {},
   "source": [
    "<h2 style='font-size:30px'> \n",
    "    <a href='https://spacelift.io/blog/terraform-for-each'>\n",
    "     How to Use Terraform For_Each Meta-Argument\n",
    "    </a>\n",
    "</h2>\n",
    "<div> \n",
    "    <ul style='font-size:20px'> \n",
    "        <li>\n",
    "            Os blocos de resource possuem um meta-argumento `for_each`. Nele, passamos um objeto iterável cujos elementos podem ser usados para configurar múltiplas cópias de um recurso, cada uma com uma configuração diferente. \n",
    "        </li>\n",
    "        <li>\n",
    "            O uso desse argumento possibilita economia de espaço nos arquivos de configuração.\n",
    "        </li>\n",
    "    </ul>\n",
    " </div>"
   ]
  },
  {
   "cell_type": "markdown",
   "id": "3884df18-22fc-4d9b-9a1a-eab08d04e6ff",
   "metadata": {},
   "source": [
    "<h3 style='font-size:30px;font-style:italic'> Funcionamento dos Loops</h3>\n",
    "<div> \n",
    "    <ul style='font-size:20px'> \n",
    "        <li>\n",
    "            À cada iteração, o item resgatado é associado à variável `each`.\n",
    "        </li>\n",
    "        <li>\n",
    "            Em listas e tuplas, o `each` receberá um atributo `value` contendo o valor da variável. Já em Maps, o item terá um atributo `key` e outro `value` com as suas respectivas chaves e valores.\n",
    "        </li>\n",
    "    </ul>\n",
    " </div>"
   ]
  },
  {
   "cell_type": "markdown",
   "id": "b56e9719-f41f-40b1-8892-65f752cbe344",
   "metadata": {},
   "source": [
    "<h3 style='font-size:30px;font-style:italic'> Loops Condicionais</h3>\n",
    "<div> \n",
    "    <ul style='font-size:20px'> \n",
    "        <li>\n",
    "            Podemos acrescentar um nível de detalhe, fazendo com que as iterações apenas considerem itens que satisfaçam uma determinada condição.\n",
    "        </li>\n",
    "        <li>\n",
    "            Nesse caso, podemos inserir uma expressão no argumento `for_each` que crie uma versão filtrada do objeto original, respeitando uma determinada regra.\n",
    "        </li>\n",
    "    </ul>\n",
    " </div>"
   ]
  },
  {
   "cell_type": "markdown",
   "id": "560ae77d-0f86-4907-b0c8-6ba80e2d1530",
   "metadata": {},
   "source": [
    "```tf\n",
    "# Definindo um Map que configurará instâncias EC2.\n",
    "variable \"instance_object\" {\n",
    "  type = list(object({\n",
    "    name = string\n",
    "    enabled = bool\n",
    "    instance_type = string\n",
    "    env = string\n",
    "  }))\n",
    "  default = [\n",
    "  {\n",
    "    name = \"instance A\"\n",
    "    enabled = true\n",
    "    instance_type = \"t2.micro\"\n",
    "    env = \"dev\"\n",
    "  },\n",
    "  {\n",
    "    name = \"instance B\"\n",
    "    enabled = false\n",
    "    instance_type = \"t2.micro\"\n",
    "    env = \"prod\"\n",
    "  },\n",
    "  ]\n",
    "}\n",
    "\n",
    "# No deployment, consideraremos apenas configurações de `instance_object` cujo \n",
    "# atributo `enabled` seja `true`.\n",
    "resource \"aws_instance\" \"by_object\" {\n",
    "  for_each = { for inst in var.instance_object : inst.name => inst if inst.enabled }\n",
    "  ami = \"ami-0b08bfc6ff7069aff\"\n",
    "  instance_type = each.value.instance_type\n",
    "\n",
    "  tags = {\n",
    "    Name = each.key\n",
    "    Env = each.value.env\n",
    "  }\n",
    "}\n",
    "```"
   ]
  },
  {
   "cell_type": "markdown",
   "id": "ed3c9c85-bd5b-4c22-9090-82e60d5f0eb0",
   "metadata": {},
   "source": [
    "<h2 style='font-size:30px'> \n",
    "    <a href='https://spacelift.io/blog/terraform-dynamic-blocks'>\n",
    "     Dynamic Blocks\n",
    "    </a>\n",
    "</h2>\n",
    "<div> \n",
    "    <ul style='font-size:20px'> \n",
    "        <li>\n",
    "            Blocos dinâmicos são blocos especiais responsáveis por aplicar diferentes instâncias de configuration blocks.\n",
    "        </li>\n",
    "        <li>\n",
    "            Eles são admitidos em blocos resource, data, provider e provisioner.\n",
    "        </li>\n",
    "    </ul>\n",
    " </div>"
   ]
  },
  {
   "cell_type": "markdown",
   "id": "c09fc7b3-3e88-4a36-8b6d-e642270268c7",
   "metadata": {},
   "source": [
    "<h3 style='font-size:30px;font-style:italic'> Funcionamento do Bloco</h3>\n",
    "<div> \n",
    "    <ul style='font-size:20px'> \n",
    "        <li>\n",
    "            Nomeamos o Dynamic Block com o nome do bloco que desejamos repetir. Em seguida, especificamos o argumento `for_each`, que definirá a variável que será iterada para configurarmos as várias instâncias do bloco.\n",
    "        </li>\n",
    "        <li>\n",
    "            É importante apontar que a variável da iteração atual não será nomeada como each, e sim como o nome do bloco sendo representado. Caso queira dar uma denominação diferente para ela, use o argumento `iterator`.\n",
    "        </li>\n",
    "    </ul>\n",
    " </div>"
   ]
  },
  {
   "cell_type": "markdown",
   "id": "bc2b65e3-d77a-4c3b-be4d-996650c0aaba",
   "metadata": {},
   "source": [
    "* Exemplo do uso de um Dynamic Block.\n",
    "```terraform\n",
    "resource \"azurerm_virtual_network\" \"dynamic_block\" {\n",
    "  name                = \"vnet-dynamicblock-example-centralus\"\n",
    "  resource_group_name = azurerm_resource_group.dynamic_block.name\n",
    "  location            = azurerm_resource_group.dynamic_block.location\n",
    "  address_space       = [\"10.10.0.0/16\"]\n",
    "\n",
    "  dynamic \"subnet\" {\n",
    "    for_each = var.subnets\n",
    "    iterator = item   #optional\n",
    "    content {\n",
    "      name           = item.value.name\n",
    "      address_prefix = item.value.address_prefix\n",
    "    }\n",
    "  }\n",
    "}\n",
    "```"
   ]
  },
  {
   "cell_type": "markdown",
   "id": "dcd647d9-be2f-4a4e-af01-1c879fd097f5",
   "metadata": {},
   "source": [
    "<h2 style='font-size:30px'> \n",
    "     Terraform Graph\n",
    "</h2>\n",
    "<div> \n",
    "    <ul style='font-size:20px'> \n",
    "        <li>\n",
    "            O Terraform nos permite enxergar uma representação visual das relações dos recursos declarados por nossa configuração. \n",
    "        </li>\n",
    "        <li>\n",
    "            O comando `terraform graph` lança uma declaração do grafo de conexões, que pode ser visualizado em sites como o <a href='http://webgraphviz.com/'>Webgraphviz</a>.\n",
    "        </li>\n",
    "    </ul>\n",
    " </div>"
   ]
  },
  {
   "cell_type": "markdown",
   "id": "01b8d6af-1c11-4ab1-be99-e2e25d911914",
   "metadata": {},
   "source": [
    " <center style='margin-top:20px'> \n",
    "        <figure>\n",
    "            <img src='img/11_graph.png'>\n",
    "            <figcaption> Exemplo de um grafo do Terraform</figcaption>\n",
    "        </figure>\n",
    "    </center>"
   ]
  },
  {
   "cell_type": "markdown",
   "id": "50cd1de2-302b-40ed-bc7a-04546db42202",
   "metadata": {},
   "source": [
    "<h2 style='font-size:30px'> \n",
    "     Terraform Resource Lifecycles\n",
    "</h2>\n",
    "<div> \n",
    "    <ul style='font-size:20px'> \n",
    "        <li>\n",
    "            O bloco de lifecycle define a abordagem que o Terraform terá diante de substituições ou deleções de um determinado recurso.\n",
    "        </li>\n",
    "        <li>\n",
    "            Por padrão, o Terraform destrói a instância do recurso, antes de criar a nova com a configuração atualizada. Podemos inverter isso passando o seguinte bloco:\n",
    "        </li>\n",
    "    </ul>\n",
    " </div>"
   ]
  },
  {
   "cell_type": "markdown",
   "id": "ea25151a-ef07-4220-a0c7-db9b78c4ea98",
   "metadata": {},
   "source": [
    "```terraform\n",
    "    lifecycle{\n",
    "        create_before_destroy = true\n",
    "    }\n",
    "```"
   ]
  },
  {
   "cell_type": "markdown",
   "id": "8a561117-d549-414d-aecc-b069a093257c",
   "metadata": {},
   "source": [
    "<div> \n",
    "    <ul style='font-size:20px'> \n",
    "        <li>\n",
    "             Além disso, podemos impedir que um recurso seja deletado, passando a flag `prevent_destroy = true`.\n",
    "            ss\n",
    "        </li>\n",
    "    </ul>\n",
    " </div>"
   ]
  },
  {
   "cell_type": "code",
   "execution_count": 5,
   "id": "447d956c-5a72-49ef-abfa-9f6ab157603e",
   "metadata": {},
   "outputs": [
    {
     "name": "stdout",
     "output_type": "stream",
     "text": [
      "[master b7dbdc4] Aula 67\n",
      " 3 files changed, 114 insertions(+), 16 deletions(-)\n",
      " create mode 100644 img/11_graph.png\n",
      "Enumerating objects: 10, done.\n",
      "Counting objects: 100% (10/10), done.\n",
      "Delta compression using up to 24 threads\n",
      "Compressing objects: 100% (6/6), done.\n",
      "Writing objects: 100% (6/6), 39.65 KiB | 39.65 MiB/s, done.\n",
      "Total 6 (delta 4), reused 0 (delta 0), pack-reused 0\n",
      "remote: Resolving deltas: 100% (4/4), completed with 4 local objects.\u001b[K\n",
      "To https://github.com/felipesveiga/terraform.git\n",
      "   49ff533..b7dbdc4  master -> master\n"
     ]
    }
   ],
   "source": [
    "! git add .\n",
    "! git commit -m 'Fazer Quiz 8'\n",
    "! git push"
   ]
  },
  {
   "cell_type": "markdown",
   "id": "9877bab8-b775-4500-99d5-bef44197897d",
   "metadata": {
    "editable": true,
    "slideshow": {
     "slide_type": ""
    },
    "tags": []
   },
   "source": [
    "<p style='color:red'> Vi Aula 67; Fazer Quiz 8 </p>"
   ]
  },
  {
   "cell_type": "markdown",
   "id": "a26683a0-3b18-45b2-b852-045032031f92",
   "metadata": {
    "editable": true,
    "slideshow": {
     "slide_type": ""
    },
    "tags": []
   },
   "source": [
    "<p style='color:red'> Usar a imagem \"ubuntu/images/hvm-ssd/ubuntu-focal-20.04-amd64-server-*\" no Ubuntu Server </p>"
   ]
  }
 ],
 "metadata": {
  "kernelspec": {
   "display_name": "Python 3 (ipykernel)",
   "language": "python",
   "name": "python3"
  },
  "language_info": {
   "codemirror_mode": {
    "name": "ipython",
    "version": 3
   },
   "file_extension": ".py",
   "mimetype": "text/x-python",
   "name": "python",
   "nbconvert_exporter": "python",
   "pygments_lexer": "ipython3",
   "version": "3.10.12"
  }
 },
 "nbformat": 4,
 "nbformat_minor": 5
}

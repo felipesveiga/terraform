{
 "cells": [
  {
   "cell_type": "markdown",
   "id": "14567855-f5c6-48b8-a928-21edc48586ea",
   "metadata": {},
   "source": [
    "<h1 style='font-size:40px'> Read, Generate and Modify Configuration</h1>\n",
    "<div> \n",
    "    <ul style='font-size:20px'> \n",
    "        <li>\n",
    "            Esta seção revisitará conceitos já apresentados ao longo do curso, a fim de aprofundá-los.\n",
    "        </li>\n",
    "    </ul>\n",
    " </div>"
   ]
  },
  {
   "cell_type": "markdown",
   "id": "4ede5450-3cd8-4722-bc28-fef49ea63c2d",
   "metadata": {},
   "source": [
    "<h2 style='font-size:30px'> \n",
    "    Local Variables</h2>\n",
    "<div> \n",
    "    <ul style='font-size:20px'> \n",
    "        <li>\n",
    "            As Local Variables possuem algumas restrições, comparadas às variáveis tradicionais. Elas apenas podem ser referenciadas dentro do arquivo em que estão sendo usadas, e não podem ter seu valor alterado (penso que seria mais apropriado chamá-las de local constants).\n",
    "        </li>\n",
    "        <li>\n",
    "            Um truque legal ensinado é que, caso deseje usar múltiplas variáveis no parâmetro de um recurso, você pode criar um local cujo valor seja um dicionário com os argumentos e valores necessários. Quando for escrever a configuração do recurso, se referencie ao conjunto de variáveis como &lt; locals.argument_name&gt;. \n",
    "        </li>\n",
    "    </ul>\n",
    " </div>"
   ]
  },
  {
   "cell_type": "markdown",
   "id": "2032029b-d7b4-48d4-9d52-a8fa00f7d463",
   "metadata": {},
   "source": [
    " <center style='margin-top:20px'> \n",
    "        <figure>\n",
    "            <img src='img/11_locals_argument.png'>\n",
    "            <figcaption> Exemplo de declaração de um local que se refere a múltiplas variáveis.</figcaption>\n",
    "        </figure>\n",
    "    </center>"
   ]
  },
  {
   "cell_type": "markdown",
   "id": "315e02f8-aa65-4a0b-bc6e-48a96b5f6fa7",
   "metadata": {},
   "source": [
    "<h2 style='font-size:30px'> \n",
    "     Input Variables</h2>\n",
    "<div> \n",
    "    <ul style='font-size:20px'> \n",
    "        <li>\n",
    "            As variáveis de input admitem uma maior flexibilidade do que as locals. Conseguimos importá-las em diferentes arquivos e redefini-las.\n",
    "        </li>\n",
    "    </ul>\n",
    " </div>"
   ]
  },
  {
   "cell_type": "markdown",
   "id": "dc81d385-b243-4d80-8274-7ad7dcd776a0",
   "metadata": {},
   "source": [
    " <center style='margin-top:20px'> \n",
    "        <figure>\n",
    "            <img src='img/04_variables_precedence.png'>\n",
    "            <figcaption> Podemos editar os valores de variáveis respeitando a ordem de precedência imposta pelo Terraform.</figcaption>\n",
    "        </figure>\n",
    "    </center>"
   ]
  },
  {
   "cell_type": "code",
   "execution_count": 2,
   "id": "447d956c-5a72-49ef-abfa-9f6ab157603e",
   "metadata": {},
   "outputs": [
    {
     "name": "stdout",
     "output_type": "stream",
     "text": [
      "[master 4a555f1] Aula 57\n",
      " 2 files changed, 17 insertions(+), 11 deletions(-)\n",
      " delete mode 100644 labs/pdf/rico.pdf\n"
     ]
    }
   ],
   "source": [
    "! git add .\n",
    "! git commit -m 'Explicar a declaração de variáveis por variáveis de ambiente e .tfvars'\n",
    "! git push"
   ]
  },
  {
   "cell_type": "markdown",
   "id": "9877bab8-b775-4500-99d5-bef44197897d",
   "metadata": {
    "editable": true,
    "slideshow": {
     "slide_type": ""
    },
    "tags": []
   },
   "source": [
    "<p style='color:red'> Iniciei Aula 57; Explicar a declaração de variáveis por variáveis de ambiente e .tfvars</p>"
   ]
  },
  {
   "cell_type": "markdown",
   "id": "a26683a0-3b18-45b2-b852-045032031f92",
   "metadata": {
    "editable": true,
    "slideshow": {
     "slide_type": ""
    },
    "tags": []
   },
   "source": [
    "<p style='color:red'> Usar a imagem \"ubuntu/images/hvm-ssd/ubuntu-focal-20.04-amd64-server-*\" no Ubuntu Server </p>"
   ]
  }
 ],
 "metadata": {
  "kernelspec": {
   "display_name": "Python 3 (ipykernel)",
   "language": "python",
   "name": "python3"
  },
  "language_info": {
   "codemirror_mode": {
    "name": "ipython",
    "version": 3
   },
   "file_extension": ".py",
   "mimetype": "text/x-python",
   "name": "python",
   "nbconvert_exporter": "python",
   "pygments_lexer": "ipython3",
   "version": "3.10.12"
  }
 },
 "nbformat": 4,
 "nbformat_minor": 5
}

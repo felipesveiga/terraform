{
 "cells": [
  {
   "cell_type": "markdown",
   "id": "a19abe35-2738-4939-b385-cf1f8ab44a05",
   "metadata": {},
   "source": [
    "<h1 style='font-size:40px'> Implement and Maintain State</h1>"
   ]
  },
  {
   "cell_type": "markdown",
   "id": "607d49b2-c852-4d81-81ed-d37cb3c08332",
   "metadata": {},
   "source": [
    "<h2 style='font-size:30px'> \n",
    "    Terraform State Locking</h2>\n",
    "<div> \n",
    "    <ul style='font-size:20px'> \n",
    "        <li>\n",
    "            \n",
    "        </li>\n",
    "    </ul>\n",
    " </div>"
   ]
  },
  {
   "cell_type": "code",
   "execution_count": 1,
   "id": "4a8b395e-d9dc-4db8-97c6-0de4b084fd09",
   "metadata": {},
   "outputs": [
    {
     "name": "stdout",
     "output_type": "stream",
     "text": [
      "[master bc91a99] Aula 48\n",
      " 4 files changed, 182 insertions(+), 118 deletions(-)\n",
      " create mode 100644 .ipynb_checkpoints/10_state-checkpoint.ipynb\n",
      " create mode 100644 10_state.ipynb\n",
      "Enumerating objects: 8, done.\n",
      "Counting objects: 100% (8/8), done.\n",
      "Delta compression using up to 24 threads\n",
      "Compressing objects: 100% (5/5), done.\n",
      "Writing objects: 100% (5/5), 870 bytes | 870.00 KiB/s, done.\n",
      "Total 5 (delta 4), reused 0 (delta 0), pack-reused 0\n",
      "remote: Resolving deltas: 100% (4/4), completed with 3 local objects.\u001b[K\n",
      "To https://github.com/felipesveiga/terraform.git\n",
      "   941ffee..bc91a99  master -> master\n"
     ]
    }
   ],
   "source": [
    "! git add .\n",
    "! git commit -m 'Explicar lock state file'\n",
    "! git push"
   ]
  },
  {
   "cell_type": "markdown",
   "id": "59f597c1-0d41-4781-b8ed-96b196da6ec9",
   "metadata": {
    "editable": true,
    "slideshow": {
     "slide_type": ""
    },
    "tags": []
   },
   "source": [
    "<p style='color:red'> Vi Aula 48; Explicar lock state file</p>"
   ]
  },
  {
   "cell_type": "markdown",
   "id": "48270b98-f9a3-4361-9557-2b34475e1b28",
   "metadata": {
    "editable": true,
    "slideshow": {
     "slide_type": ""
    },
    "tags": []
   },
   "source": [
    "<p style='color:red'> Usar a imagem \"ubuntu/images/hvm-ssd/ubuntu-focal-20.04-amd64-server-*\" no Ubuntu Server </p>"
   ]
  }
 ],
 "metadata": {
  "kernelspec": {
   "display_name": "Python 3 (ipykernel)",
   "language": "python",
   "name": "python3"
  },
  "language_info": {
   "codemirror_mode": {
    "name": "ipython",
    "version": 3
   },
   "file_extension": ".py",
   "mimetype": "text/x-python",
   "name": "python",
   "nbconvert_exporter": "python",
   "pygments_lexer": "ipython3",
   "version": "3.10.12"
  }
 },
 "nbformat": 4,
 "nbformat_minor": 5
}

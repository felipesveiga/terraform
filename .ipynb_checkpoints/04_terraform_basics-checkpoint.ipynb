{
 "cells": [
  {
   "cell_type": "markdown",
   "id": "5074d9df-6890-4449-b045-689b50a5e875",
   "metadata": {},
   "source": [
    "<h1 style='font-size:40px'> Understand Terraform Basics</h1>"
   ]
  },
  {
   "cell_type": "markdown",
   "id": "ab1ad9a7-46f0-434d-9ab0-7d6cd390eebd",
   "metadata": {},
   "source": [
    "<h2 style='font-size:30px'> Terraform Basics</h2>\n",
    "<div> \n",
    "    <ul style='font-size:20px'> \n",
    "        <li>\n",
    "            Aula que introduzirá os principais comandos do Terraform.\n",
    "        </li>\n",
    "    </ul>\n",
    " </div>"
   ]
  },
  {
   "cell_type": "markdown",
   "id": "2e645250-de7c-4736-93c4-9af75944c86c",
   "metadata": {},
   "source": [
    "<h4 style='font-size:30px;font-style:italic;text-decoration:underline'> terraform init</h4>\n",
    "<div> \n",
    "    <ul style='font-size:20px'> \n",
    "        <li>\n",
    "            Executado, quando criamos qualquer arquivo de configuração em nosso diretório. Ele preparará o backend do projeto, além de baixar todos os plug-ins necessários para o deploy.\n",
    "        </li>\n",
    "    </ul>\n",
    " </div>"
   ]
  },
  {
   "cell_type": "markdown",
   "id": "df02fef9-f207-4c9e-a222-39edc382cca3",
   "metadata": {
    "jp-MarkdownHeadingCollapsed": true
   },
   "source": [
    "<h4 style='font-size:30px;font-style:italic;text-decoration:underline'> terraform validate</h4>\n",
    "<div> \n",
    "    <ul style='font-size:20px'> \n",
    "        <li>\n",
    "            Validador de sintaxe dos arquivos. Analisará se ocorreu algum erro de escrita.\n",
    "        </li>\n",
    "    </ul>\n",
    " </div>"
   ]
  },
  {
   "cell_type": "markdown",
   "id": "9557c058-45e9-4859-a478-51173537e2c9",
   "metadata": {},
   "source": [
    "<h4 style='font-size:30px;font-style:italic;text-decoration:underline'> terraform plan</h4>\n",
    "<div> \n",
    "    <ul style='font-size:20px'> \n",
    "        <li>\n",
    "            Comparará as configurações de nosso arquivo de state com o estado real de nossas aplicações na nuvem, a fim de atualizá-lo.\n",
    "        </li>\n",
    "        <li>\n",
    "            Uma vez feito isso, o comando comparará o arquivo de state com o de configurações. Caso este tenha diferenças, ele sugerirá a aplicação delas no ambiente de nuvem.\n",
    "        </li>\n",
    "    </ul>\n",
    " </div>"
   ]
  },
  {
   "cell_type": "markdown",
   "id": "e71effc1-b96e-4acb-ba2a-88bdb9eedb47",
   "metadata": {},
   "source": [
    "<h4 style='font-size:30px;font-style:italic;text-decoration:underline'> terraform apply</h4>\n",
    "<div> \n",
    "    <ul style='font-size:20px'> \n",
    "        <li>\n",
    "            Comando que aplicará o deploy, de fato!\n",
    "        </li>\n",
    "        <li>\n",
    "            Uma vez executado, o arquivo de state (em `resources`) listará todos os recursos atualmente tidos pela sua aplicação.\n",
    "        </li>\n",
    "    </ul>\n",
    " </div>"
   ]
  },
  {
   "cell_type": "markdown",
   "id": "50dcbc04-ea59-4559-b0d6-5f8b867048f7",
   "metadata": {},
   "source": [
    "<h4 style='font-size:30px;font-style:italic;text-decoration:underline'> terraform destroy</h4>\n",
    "<div> \n",
    "    <ul style='font-size:20px'> \n",
    "        <li>\n",
    "            Comando de deleção dos recursos mencionados pelo arquivo de configuração.\n",
    "        </li>\n",
    "    </ul>\n",
    " </div>"
   ]
  },
  {
   "cell_type": "markdown",
   "id": "f3fd50a3-26df-455e-b4c0-720a71f868ce",
   "metadata": {
    "jp-MarkdownHeadingCollapsed": true
   },
   "source": [
    "<h3 style='font-size:30px;font-style:italic'> Salvamento de Plans</h3>\n",
    "<div> \n",
    "    <ul style='font-size:20px'> \n",
    "        <li> \n",
    "            Caso deseje, podemos salvar um determinado execution plan para um apply futuro. Para isso, digite `terraform plan -out &lt;plan_name&gt;`.\n",
    "        </li>\n",
    "        <li>\n",
    "            Para aplicá-lo, apenas informe `terraform apply &lt;plan_name&gt;`.\n",
    "        </li>\n",
    "    </ul>\n",
    " </div>"
   ]
  },
  {
   "cell_type": "markdown",
   "id": "2752c903-7706-49bd-b4b9-1bb297c67eda",
   "metadata": {},
   "source": [
    "<h3 style='font-size:30px;font-style:italic'> Destruction Plans</h3>\n",
    "<div> \n",
    "    <ul style='font-size:20px'> \n",
    "        <li> \n",
    "            Podemos gerar um plano de destruição, que detalhará a remoção de nossos recursos com `terraform plan -destroy`.\n",
    "        </li>\n",
    "        <li>\n",
    "            Caso você salve um determinado plano de destruição `-out`, você deverá executá-lo com `apply`, e não `destroy`.  \n",
    "        </li>\n",
    "    </ul>\n",
    " </div>"
   ]
  },
  {
   "cell_type": "markdown",
   "id": "3cbe3abd-22be-4020-b3f8-bf399b76ef0c",
   "metadata": {},
   "source": [
    "<h2 style='font-size:30px'> HashiCorp Configuration Language (HCL)\n",
    "</h2>\n",
    "<div> \n",
    "    <ul style='font-size:20px'> \n",
    "        <li>\n",
    "            Os arquivos .tf seguem uma sintaxe muita parecida com a do json.\n",
    "        </li>\n",
    "        <li>\n",
    "            A primeira palavra de cada declaração deve informar o que você deseja provisionar (resource, por exemplo). Esse termo será seguido por duas outras strings, uma com o nome do tipo de componente a ser requisitado, e a outra com um apelido definido pelo próprio usuário.\n",
    "        </li>\n",
    "        <li>\n",
    "            Em seguida, você deverá especificar um dicionário com as configurações do recurso da ser requisitado.\n",
    "        </li>\n",
    "    </ul>\n",
    "    <center style='margin-top:20px'>\n",
    "                <img src='img/04_hcl_example.png'>\n",
    "            </center>\n",
    " </div>"
   ]
  },
  {
   "cell_type": "markdown",
   "id": "507ae39e-41cb-44ca-8148-87a844ce131f",
   "metadata": {},
   "source": [
    "<h2 style='font-size:30px'>  Terraform Plug-in Based Architecture\n",
    "</h2>\n",
    "<div> \n",
    "    <ul style='font-size:20px'> \n",
    "        <li>\n",
    "            A interação do Terraform com diferentes provedores de nuvem ocorre por meio de plug-ins. Eles são declarados logo no início de nosso main.tf.\n",
    "        </li>\n",
    "        <li>\n",
    "            O arquivo terraform.tf declara as versões do Terraform e dos provedores para que o apply possa ser realizado. O comando `terraform providers` sinalizará quais provedores são necessários para o projeto, com base nesse arquivo.\n",
    "        </li>\n",
    "        <li>\n",
    "            `terraform version`, por sua vez, sinaliza as versões dos plug-ins atualmente instaladas em sua máquina.\n",
    "        </li>\n",
    "    </ul>\n",
    "     <figure>\n",
    "        <center style='margin-top:20px'>\n",
    "            <img src='img/04_terraform_tf.png'>\n",
    "                <figcaption> Exemplo de um terraform.tf</figcaption>\n",
    "        </center>\n",
    "    </figure>\n",
    " </div>"
   ]
  },
  {
   "cell_type": "markdown",
   "id": "fd343fac-396e-42a4-a0ea-b6f48ca3ff63",
   "metadata": {},
   "source": [
    "<h2 style='font-size:30px'>   Terraform Provider Block</h2>\n",
    "<div> \n",
    "    <ul style='font-size:20px'> \n",
    "        <li>\n",
    "            O bloco provider é o lugar onde especificamos informações gerais a respeito de nosso deploy. Por exemplo, nele podemos dizer qual provedor queremos usar, e onde é que queremos que a infraestrutura seja implantada.\n",
    "        </li>\n",
    "        <li>\n",
    "            Você pode também informar as suas chaves de acesso diretamente nele, apesar de isso não ser uma boa prártica (obviamente).\n",
    "        </li>\n",
    "    </ul>\n",
    " </div>"
   ]
  },
  {
   "cell_type": "markdown",
   "id": "4250c96c-6a8c-41e6-94c7-606c305d8e99",
   "metadata": {},
   "source": [
    " <center style='margin-top:20px'> \n",
    "        <figure>\n",
    "            <img src='img/04_provider.png'>\n",
    "            <figcaption> Devemos informar o nome do provedor entre aspas</figcaption>\n",
    "        </figure>\n",
    "    </center>"
   ]
  },
  {
   "cell_type": "markdown",
   "id": "7d513d5b-bcec-4d12-9df8-1d27ffa865a0",
   "metadata": {},
   "source": [
    "<h2 style='font-size:30px'>   Terraform Resource Block</h2>\n",
    "<div> \n",
    "    <ul style='font-size:20px'> \n",
    "        <li>\n",
    "            Podemos enxergar cada bloco de resource como uma função, que realizará o deploy de um determinado recurso, com  base nos parâmetros especificados. \n",
    "        </li>\n",
    "        <li>\n",
    "            Você pode reaproveitar parâmetros de recursos na criação de outros novos. Nesse caso, você deve se referir a eles como &lt;resource_name&gt;.&lt;resource_surname&gt;.&lt;parameter&gt;.\n",
    "        </li>\n",
    "    </ul>\n",
    " </div>"
   ]
  },
  {
   "cell_type": "markdown",
   "id": "9790b226-2259-4c3f-a254-e81dea5133fa",
   "metadata": {},
   "source": [
    " <center style='margin-top:20px'> \n",
    "        <figure>\n",
    "            <img src='img/04_name_reference.png'>\n",
    "            <figcaption> Observe que a subnet da imagem se refere ao id da VPC criada acima.</figcaption>\n",
    "        </figure>\n",
    "    </center>"
   ]
  },
  {
   "cell_type": "markdown",
   "id": "e7a770f4-15c7-4f23-bf0b-662f09c931ef",
   "metadata": {},
   "source": [
    "<h3 style='font-size:30px;font-style:italic'> Random ID</h3>\n",
    "<div> \n",
    "    <ul style='font-size:20px'> \n",
    "        <li> \n",
    "            Existem serviços de nuvem - como o S3 - que exigem que os seus recursos tenham nomes globalmente únicos.\n",
    "        </li>\n",
    "        <li>\n",
    "            Para evitar preocupações quanto à nomeação de nossos componentes, podemos designar a eles uma hash do módulo random.\n",
    "        </li>\n",
    "    </ul>\n",
    " </div>"
   ]
  },
  {
   "cell_type": "markdown",
   "id": "870b20de-d99e-45ad-9989-0b3dcceff4cd",
   "metadata": {},
   "source": [
    " <center style='margin-top:20px'> \n",
    "        <figure>\n",
    "            <img src='img/04_random_bucket.png'>\n",
    "            <figcaption> Use ${} para formatar a sua string</figcaption>\n",
    "        </figure>\n",
    "    </center>"
   ]
  },
  {
   "cell_type": "markdown",
   "id": "007ce379-8a4d-4a76-817b-66f24eca47c2",
   "metadata": {},
   "source": [
    "<h2 style='font-size:30px'> Terraform Input Variables Block</h2>\n",
    "<div> \n",
    "    <ul style='font-size:20px'> \n",
    "        <li>\n",
    "            O Terraform nos permite declarar variáveis de inúmeras maneiras. Isso possibilita criarmos main.tf's mais organizados.\n",
    "        </li>\n",
    "        <li>\n",
    "            Havendo duas variáveis com mesma nomenclatura, o Terraform seguirá a seguinte ordem de precedência:\n",
    "        </li>\n",
    "    </ul>\n",
    " </div>"
   ]
  },
  {
   "cell_type": "markdown",
   "id": "2a886d3a-d5b4-46b5-9d48-a7d7aa13dff5",
   "metadata": {},
   "source": [
    " <center style='margin-top:20px'>\n",
    "                <img src='img/04_variables_precedence.png'>\n",
    "            </center>"
   ]
  },
  {
   "cell_type": "markdown",
   "id": "3681eb2d-78fa-453d-bd97-9aa9c187dfde",
   "metadata": {},
   "source": [
    "<div> \n",
    "    <ul style='font-size:20px'> \n",
    "        <li>\n",
    "            Uma vez declaradas as variáveis, você pode se referir a elas nos scripts como `var.&lt;variable_name&gt;`\n",
    "        </li>\n",
    "        <li>\n",
    "            Caso você não especifique valores, você pdoerá defini-los no plan da aplicação.\n",
    "        </li>\n",
    "    </ul>\n",
    " </div>"
   ]
  },
  {
   "cell_type": "markdown",
   "id": "768c3935-be2b-43cc-8508-b7134c039c2a",
   "metadata": {},
   "source": [
    "<h2 style='font-size:30px'> <a href='https://spacelift.io/blog/terraform-locals'>Terraform Local Variable Block</a></h2>\n",
    "<div> \n",
    "    <ul style='font-size:20px'> \n",
    "        <li>\n",
    "            Locals são constantes válidas somente no arquivo em que são declaradas. Seus valores não podem ser alterados, uma vez definidos.\n",
    "        </li>\n",
    "        <li>\n",
    "            Você deve se referir a um local com &lt;<strong> local</strong>.local_name&gt;\n",
    "        </li>\n",
    "    </ul>\n",
    " </div>"
   ]
  },
  {
   "cell_type": "markdown",
   "id": "c8c6ef68-a7e5-4c76-aaac-da470fb7b2c1",
   "metadata": {},
   "source": [
    " <center style='margin-top:20px'> \n",
    "        <figure>\n",
    "            <img src='img/04_locals.png'>\n",
    "            <figcaption> Exemplo de declaração de locals. Observe que podemos utilizar variáveis na definição das contantes</figcaption>\n",
    "        </figure>\n",
    "    </center>"
   ]
  },
  {
   "cell_type": "markdown",
   "id": "5a777ed6-7189-4cd5-b91f-27c5ba6945ce",
   "metadata": {},
   "source": [
    "<h2 style='font-size:30px'> Terraform Data Block</h2>\n",
    "<div> \n",
    "    <ul style='font-size:20px'> \n",
    "        <li>\n",
    "            Ao configurar nosso script Terraform, podemos querer ter em mãos dados sobre recursos já disponíveis em nosso provedor. Nesse caso, seria conveniente termos algum mecanismo de recuperar essa informação automaticamente.\n",
    "        </li>\n",
    "        <li>\n",
    "            Nesse contexto, devemos utilizar o chamado data block. Nele, especificamos o dado a ser resgatado e o designamos a uma variável.\n",
    "        </li>\n",
    "        <li>\n",
    "            Cada provedor possuirá os seus respectivos data sources quer podem ser coletados. Você pode verificá-los na documentação do Terraform.\n",
    "        </li>\n",
    "    </ul>\n",
    " </div>"
   ]
  },
  {
   "cell_type": "markdown",
   "id": "e98eaf51-9f20-43d7-b092-986113e7b929",
   "metadata": {},
   "source": [
    "* Declaração de um data source:\n",
    "```terraform\n",
    "data <data_source_name> <variable_name> {\n",
    "}\n",
    "```"
   ]
  },
  {
   "cell_type": "markdown",
   "id": "20e04468-33da-4e2c-97b8-a7be7f7ee5bb",
   "metadata": {},
   "source": [
    " <center style='margin-top:20px'> \n",
    "        <figure>\n",
    "            <img src='img/04_data_az.png'>\n",
    "            <figcaption> Data Sources são ótimos recursos, principalmente quando desejamos resgatar valores que podem mudar por conta de outro argumento (como nomes de AZ's). </figcaption>\n",
    "        </figure>\n",
    "    </center>"
   ]
  },
  {
   "cell_type": "markdown",
   "id": "5ad41d2a-7277-456d-9fe4-a53fe0b74464",
   "metadata": {},
   "source": [
    "<h2 style='font-size:30px'> Terraform Configuration Block</h2>\n",
    "<div> \n",
    "    <ul style='font-size:20px'> \n",
    "        <li>\n",
    "            Aula em que discutimos a utilidade do arquivo terraform.tf. É nele em que informamos as versões dos provedores necessárias para aplicarmos nossa infraestrutura. \n",
    "        </li>\n",
    "    </ul>\n",
    " </div>"
   ]
  },
  {
   "cell_type": "markdown",
   "id": "8df7aa6d-957e-497c-85a2-f6534b5dd46f",
   "metadata": {},
   "source": [
    " <center style='margin-top:20px'> \n",
    "        <figure>\n",
    "            <img src='img/04_config.png'>\n",
    "            <figcaption> Exemplo de um terraform.tf </figcaption>\n",
    "        </figure>\n",
    "    </center>"
   ]
  },
  {
   "cell_type": "markdown",
   "id": "6c760d0e-8805-459c-8529-6cb1e5e601bf",
   "metadata": {
    "jp-MarkdownHeadingCollapsed": true
   },
   "source": [
    "<h2 style='font-size:30px'> \n",
    "    <a href='https://spacelift.io/blog/what-are-terraform-modules-and-how-do-they-work'>Terraform Module Block\n",
    "    </a>\n",
    "</h2>\n",
    "<div> \n",
    "    <ul style='font-size:20px'> \n",
    "        <li>\n",
    "            Módulos são como bibliotecas que contêm o código para deployment de um recurso específico. Caso precisemos dele em nossa infra, basta nos referenciarmos ao módulo que a implantação ocorrerá automaticamente no apply. \n",
    "        </li>\n",
    "        <li>\n",
    "            A escrita de módulos evita repetição de códigos, além de garantir o cumprimento de regimentos de compliance.\n",
    "        </li>\n",
    "        <li>\n",
    "            Na verdade, todo projeto Terraform é um módulo, por si só. O script utilizado para o deploy é apelidado como <i> root module</i>, enquanto os módulos consumidos por esse como <i> child module</i>.\n",
    "        </li>\n",
    "    </ul>\n",
    " </div>"
   ]
  },
  {
   "cell_type": "markdown",
   "id": "4635abcd-18d8-4e3f-b0b9-dc9e60987bd7",
   "metadata": {},
   "source": [
    " <center style='margin-top:20px'> \n",
    "        <figure>\n",
    "            <img src='img/04_module.png'>\n",
    "            <figcaption> Invocação de um módulo. Ele será baixado ao executarmos `terraform init`.</figcaption>\n",
    "        </figure>\n",
    "    </center>"
   ]
  },
  {
   "cell_type": "markdown",
   "id": "7fbd8671-44ba-4b56-9b37-d6bed83b4ee8",
   "metadata": {},
   "source": [
    "<h2 style='font-size:30px'> Terraform Output Block</h2>\n",
    "<div> \n",
    "    <ul style='font-size:20px'> \n",
    "        <li>\n",
    "            Considerando todo main.tf como uma função de deploys, podemos criar possíveis valores de retorno de sua execução. Eles podem ser utilizados por outros módulos, em sua configuração, por exemplo.\n",
    "        </li>\n",
    "        <li>\n",
    "            Você pode informar os outputs no arquivo <i>outputs.tf</i>. Sua configuração pode ser exportada em json com `terraform output -json`. \n",
    "        </li>\n",
    "    </ul>\n",
    " </div>"
   ]
  },
  {
   "cell_type": "markdown",
   "id": "b3cf43b4-8137-49e8-8eb8-2bb840c9c897",
   "metadata": {},
   "source": [
    "<h2 style='font-size:30px'> Commenting Terraform Code</h2>\n",
    "<div> \n",
    "    <ul style='font-size:20px'> \n",
    "        <li>\n",
    "            Podemos fazer comentários de uma linha no Terraform com o uso de #, ou //. \n",
    "        </li>\n",
    "        <li>\n",
    "            Caso queira fazer comentários de múltiplas linhas, use /* */. \n",
    "        </li>\n",
    "    </ul>\n",
    " </div>"
   ]
  },
  {
   "cell_type": "markdown",
   "id": "eaff4bc6-da7b-4dd2-8041-3f3b843de325",
   "metadata": {},
   "source": [
    " <center style='margin-top:20px'>\n",
    "                <img src='img/04_output.png'>\n",
    "            </center>"
   ]
  },
  {
   "cell_type": "markdown",
   "id": "3591e9a2-b634-4d10-94b9-ddc0a6064b7a",
   "metadata": {},
   "source": [
    "<h2 style='font-size:30px'> Using Multiple Terraform Providers</h2>\n",
    "<div> \n",
    "    <ul style='font-size:20px'> \n",
    "        <li>\n",
    "            Aula em que se mostra que podemos provisionar recursos em múltiplos ambientes no mesmo <i>main.tf</i>.\n",
    "        </li>\n",
    "    </ul>\n",
    " </div>"
   ]
  },
  {
   "cell_type": "markdown",
   "id": "96bae25e-b3b5-4456-9811-5b63473ba083",
   "metadata": {},
   "source": [
    "<h2 style='font-size:30px'> Fetch, Version, and Upgrade Terraform Providers</h2>\n",
    "<div> \n",
    "    <ul style='font-size:20px'> \n",
    "        <li>\n",
    "            Quando invocamos `terraform init`, o Terraform automaticamente verifica a compatibilidade de nossas dependências e realiza as atualizações necessárias (-upgrade). \n",
    "        </li>\n",
    "        <li>\n",
    "            No final da execução, o programa registra o estado de nossas dependências num arquivo <i>.terraform.lock.hcl</i>. Nele, podemos conferir a versão atual de nossos provedores, assim como sua fonte de download.\n",
    "        </li>\n",
    "    </ul>\n",
    " </div>"
   ]
  },
  {
   "cell_type": "markdown",
   "id": "72ac401f-2547-4a17-84b2-bfb93e481ab9",
   "metadata": {},
   "source": [
    " <center style='margin-top:20px'> \n",
    "        <figure>\n",
    "            <img src='img/04_terraform_lock.png'>\n",
    "            <figcaption> Observe que os provedores são associados a hashes. Esses são utilizados por questões de segurança.</figcaption>\n",
    "        </figure>\n",
    "    </center>"
   ]
  },
  {
   "cell_type": "code",
   "execution_count": 5,
   "id": "cfe89d02-d4c3-447c-a112-dbe29de88ec9",
   "metadata": {},
   "outputs": [
    {
     "name": "stdout",
     "output_type": "stream",
     "text": [
      "[master 8ff4896] Aula 24\n",
      " 6 files changed, 117 insertions(+), 46 deletions(-)\n",
      " rename labs/04-hcl/terraform/{.terraform.tf.swp => .main.tf.swp} (62%)\n",
      "Enumerating objects: 20, done.\n",
      "Counting objects: 100% (20/20), done.\n",
      "Delta compression using up to 24 threads\n",
      "Compressing objects: 100% (10/10), done.\n",
      "Writing objects: 100% (11/11), 6.22 KiB | 6.22 MiB/s, done.\n",
      "Total 11 (delta 5), reused 0 (delta 0), pack-reused 0\n",
      "remote: Resolving deltas: 100% (5/5), completed with 5 local objects.\u001b[K\n",
      "To https://github.com/felipesveiga/terraform.git\n",
      "   b4e3a7e..8ff4896  master -> master\n"
     ]
    }
   ],
   "source": [
    "! git add .\n",
    "! git commit -m 'O Terraform  não encontra a versão do Ubuntu desejada'\n",
    "! git push"
   ]
  },
  {
   "cell_type": "markdown",
   "id": "9226e6b9-13fe-4463-92f0-9b686b2310cb",
   "metadata": {
    "editable": true,
    "slideshow": {
     "slide_type": ""
    },
    "tags": []
   },
   "source": [
    "<p style='color:red'> Iniciei Aula 25; O Terraform  não encontra a versão do Ubuntu desejada; Aula (3:25); </p>"
   ]
  }
 ],
 "metadata": {
  "kernelspec": {
   "display_name": "Python 3 (ipykernel)",
   "language": "python",
   "name": "python3"
  },
  "language_info": {
   "codemirror_mode": {
    "name": "ipython",
    "version": 3
   },
   "file_extension": ".py",
   "mimetype": "text/x-python",
   "name": "python",
   "nbconvert_exporter": "python",
   "pygments_lexer": "ipython3",
   "version": "3.10.12"
  }
 },
 "nbformat": 4,
 "nbformat_minor": 5
}

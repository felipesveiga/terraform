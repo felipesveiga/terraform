{
 "cells": [
  {
   "cell_type": "markdown",
   "id": "5074d9df-6890-4449-b045-689b50a5e875",
   "metadata": {},
   "source": [
    "<h1 style='font-size:40px'> Understand Terraform Basics</h1>"
   ]
  },
  {
   "cell_type": "markdown",
   "id": "ab1ad9a7-46f0-434d-9ab0-7d6cd390eebd",
   "metadata": {},
   "source": [
    "<h2 style='font-size:30px'> Terraform Basics</h2>\n",
    "<div> \n",
    "    <ul style='font-size:20px'> \n",
    "        <li>\n",
    "            Aula que introduzirá os principais comandos do Terraform.\n",
    "        </li>\n",
    "    </ul>\n",
    " </div>"
   ]
  },
  {
   "cell_type": "markdown",
   "id": "2e645250-de7c-4736-93c4-9af75944c86c",
   "metadata": {},
   "source": [
    "<h4 style='font-size:30px;font-style:italic;text-decoration:underline'> terraform init</h4>\n",
    "<div> \n",
    "    <ul style='font-size:20px'> \n",
    "        <li>\n",
    "            Executado, quando criamos qualquer arquivo de configuração em nosso diretório. Ele preparará o backend do projeto, além de baixar todos os plug-ins necessários para o deploy.\n",
    "        </li>\n",
    "    </ul>\n",
    " </div>"
   ]
  },
  {
   "cell_type": "markdown",
   "id": "df02fef9-f207-4c9e-a222-39edc382cca3",
   "metadata": {
    "jp-MarkdownHeadingCollapsed": true
   },
   "source": [
    "<h4 style='font-size:30px;font-style:italic;text-decoration:underline'> terraform validate</h4>\n",
    "<div> \n",
    "    <ul style='font-size:20px'> \n",
    "        <li>\n",
    "            Validador de sintaxe dos arquivos. Analisará se ocorreu algum erro de escrita.\n",
    "        </li>\n",
    "    </ul>\n",
    " </div>"
   ]
  },
  {
   "cell_type": "markdown",
   "id": "9557c058-45e9-4859-a478-51173537e2c9",
   "metadata": {},
   "source": [
    "<h4 style='font-size:30px;font-style:italic;text-decoration:underline'> terraform plan</h4>\n",
    "<div> \n",
    "    <ul style='font-size:20px'> \n",
    "        <li>\n",
    "            Comparará as configurações de nosso arquivo de state com o estado real de nossas aplicações na nuvem, a fim de atualizá-lo.\n",
    "        </li>\n",
    "        <li>\n",
    "            Uma vez feito isso, o comando comparará o arquivo de state com o de configurações. Caso este tenha diferenças, ele sugerirá a aplicação delas no ambiente de nuvem.\n",
    "        </li>\n",
    "    </ul>\n",
    " </div>"
   ]
  },
  {
   "cell_type": "markdown",
   "id": "e71effc1-b96e-4acb-ba2a-88bdb9eedb47",
   "metadata": {},
   "source": [
    "<h4 style='font-size:30px;font-style:italic;text-decoration:underline'> terraform apply</h4>\n",
    "<div> \n",
    "    <ul style='font-size:20px'> \n",
    "        <li>\n",
    "            Comando que aplicará o deploy, de fato!\n",
    "        </li>\n",
    "    </ul>\n",
    " </div>"
   ]
  },
  {
   "cell_type": "markdown",
   "id": "50dcbc04-ea59-4559-b0d6-5f8b867048f7",
   "metadata": {},
   "source": [
    "<h4 style='font-size:30px;font-style:italic;text-decoration:underline'> terraform destroy</h4>\n",
    "<div> \n",
    "    <ul style='font-size:20px'> \n",
    "        <li>\n",
    "            Comando de deleção dos recursos mencionados pelo arquivo de configuração.\n",
    "        </li>\n",
    "    </ul>\n",
    " </div>"
   ]
  },
  {
   "cell_type": "code",
   "execution_count": 1,
   "id": "cfe89d02-d4c3-447c-a112-dbe29de88ec9",
   "metadata": {},
   "outputs": [
    {
     "name": "stdout",
     "output_type": "stream",
     "text": [
      "[master 4ff1d6f] Seção 4\n",
      " 4 files changed, 160 insertions(+), 96 deletions(-)\n",
      " create mode 100644 .ipynb_checkpoints/04_terraform_basics-checkpoint.ipynb\n",
      " create mode 100644 04_terraform_basics.ipynb\n",
      "Enumerating objects: 8, done.\n",
      "Counting objects: 100% (8/8), done.\n",
      "Delta compression using up to 24 threads\n",
      "Compressing objects: 100% (5/5), done.\n",
      "Writing objects: 100% (5/5), 947 bytes | 947.00 KiB/s, done.\n",
      "Total 5 (delta 4), reused 0 (delta 0), pack-reused 0\n",
      "remote: Resolving deltas: 100% (4/4), completed with 3 local objects.\u001b[K\n",
      "To https://github.com/felipesveiga/terraform.git\n",
      "   b0158a9..4ff1d6f  master -> master\n"
     ]
    }
   ],
   "source": [
    "! git add .\n",
    "! git commit -m 'Seção 4'\n",
    "! git push"
   ]
  },
  {
   "cell_type": "markdown",
   "id": "9226e6b9-13fe-4463-92f0-9b686b2310cb",
   "metadata": {
    "editable": true,
    "slideshow": {
     "slide_type": ""
    },
    "tags": []
   },
   "source": [
    "<p style='color:red'> Iniciei Aula 9; Aula 9 (5:55)</p>"
   ]
  }
 ],
 "metadata": {
  "kernelspec": {
   "display_name": "Python 3 (ipykernel)",
   "language": "python",
   "name": "python3"
  },
  "language_info": {
   "codemirror_mode": {
    "name": "ipython",
    "version": 3
   },
   "file_extension": ".py",
   "mimetype": "text/x-python",
   "name": "python",
   "nbconvert_exporter": "python",
   "pygments_lexer": "ipython3",
   "version": "3.10.12"
  }
 },
 "nbformat": 4,
 "nbformat_minor": 5
}

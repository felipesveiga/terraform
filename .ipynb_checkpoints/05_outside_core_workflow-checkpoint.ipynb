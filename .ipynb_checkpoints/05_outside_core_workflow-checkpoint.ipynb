{
 "cells": [
  {
   "cell_type": "markdown",
   "id": "55d1c57b-2bf0-41e7-a6bd-0b292350f9af",
   "metadata": {},
   "source": [
    "<h1 style='font-size:40px'> Use Terraform Outside of Core Workflow</h1>"
   ]
  },
  {
   "cell_type": "markdown",
   "id": "d728b011-7600-43d5-a052-e6110c8de398",
   "metadata": {},
   "source": [
    "<h2 style='font-size:30px'> Auto Formatting Terraform Code</h2>\n",
    "<div> \n",
    "    <ul style='font-size:20px'> \n",
    "        <li>\n",
    "            Esta aula apenas enfatiza a importância do comando `terraform fmt` para a formatação dos arquivos.\n",
    "        </li>\n",
    "    </ul>\n",
    " </div>"
   ]
  },
  {
   "cell_type": "markdown",
   "id": "994b2f35-3686-4de4-94d3-cbd3dafe58c9",
   "metadata": {},
   "source": [
    "<h2 style='font-size:30px'> Replace Resources using Terraform Taint</h2>\n",
    "<div> \n",
    "    <ul style='font-size:20px'> \n",
    "        <li>\n",
    "            É possível que, mesmo após um apply, desejemos recriar um determinado recurso em nosso provedor. O que poderíamos fazer seria aplicar um taint a ele (`terraform taint &lt;resource_name.resource_nickname&gt;`).\n",
    "        </li>\n",
    "        <li>\n",
    "            Com ele, o Terraform automaticamente recriará o recurso em nosso próximo apply!\n",
    "        </li>\n",
    "        <li>\n",
    "            Observe que, havendo erro no deploy de algum recurso, o Terraform o marcará com taint automaticamente.\n",
    "        </li>\n",
    "    </ul>\n",
    " </div>"
   ]
  },
  {
   "cell_type": "markdown",
   "id": "63e7fc74-baeb-424d-b626-0dfbde72a162",
   "metadata": {},
   "source": [
    "<h3 style='font-size:30px;font-style:italic'> apply -replace</h3>\n",
    "<div> \n",
    "    <ul style='font-size:20px'>\n",
    "        <li> \n",
    "            Em versões futuras do Terraform, é recomendado preterirmos o comando taint para substituição do recurso. Ao invés disso, deveremos usar o comando <i> apply</i> com a flag `-replace=&lt;resource_name.resource_nickname&gt;`.\n",
    "        </li>\n",
    "     </ul>\n",
    "</div>"
   ]
  },
  {
   "cell_type": "code",
   "execution_count": null,
   "id": "bceae785-28ce-4b2e-8a92-65867c8226a9",
   "metadata": {},
   "outputs": [],
   "source": [
    "# Observação: use `terraform state list`, para obter a relação de todos os recursos\n",
    "# disponibilizados.\n",
    "# `terraform state show <resource_name.resource_nickname>` mostrará as configurações do recurso\n",
    "# em questão."
   ]
  },
  {
   "cell_type": "code",
   "execution_count": 1,
   "id": "5313ea56-a596-422d-b3fc-f159853f4c55",
   "metadata": {},
   "outputs": [
    {
     "name": "stdout",
     "output_type": "stream",
     "text": [
      "[master 09ba20a] Aula 27 (7:00)\n",
      " 5 files changed, 272 insertions(+), 118 deletions(-)\n",
      " create mode 100644 .ipynb_checkpoints/05_outside_core_workflow-checkpoint.ipynb\n",
      " create mode 100644 05_outside_core_workflow.ipynb\n",
      " delete mode 100644 labs/04-hcl/terraform/.main.tf.swp\n",
      "Enumerating objects: 14, done.\n",
      "Counting objects: 100% (14/14), done.\n",
      "Delta compression using up to 24 threads\n",
      "Compressing objects: 100% (7/7), done.\n",
      "Writing objects: 100% (8/8), 1.52 KiB | 1.52 MiB/s, done.\n",
      "Total 8 (delta 6), reused 0 (delta 0), pack-reused 0\n",
      "remote: Resolving deltas: 100% (6/6), completed with 5 local objects.\u001b[K\n",
      "To https://github.com/felipesveiga/terraform.git\n",
      "   3180119..09ba20a  master -> master\n"
     ]
    }
   ],
   "source": [
    "! git add .\n",
    "! git commit -m 'Fazer anotações Aula 28'\n",
    "! git push"
   ]
  },
  {
   "cell_type": "markdown",
   "id": "707fc116-e9e9-4ab3-aac4-b6c1e961f850",
   "metadata": {
    "editable": true,
    "slideshow": {
     "slide_type": ""
    },
    "tags": []
   },
   "source": [
    "<p style='color:red'> Vi Aula 27 me 28; Fazer anotações Aula 28</p>"
   ]
  },
  {
   "cell_type": "markdown",
   "id": "79215d53-f3ec-411d-98b0-8bcb554df37f",
   "metadata": {
    "editable": true,
    "slideshow": {
     "slide_type": ""
    },
    "tags": []
   },
   "source": [
    "<p style='color:red'> Usar a imagem \"ubuntu/images/hvm-ssd/ubuntu-focal-20.04-amd64-server-*\" no Ubuntu Server </p>"
   ]
  }
 ],
 "metadata": {
  "kernelspec": {
   "display_name": "Python 3 (ipykernel)",
   "language": "python",
   "name": "python3"
  },
  "language_info": {
   "codemirror_mode": {
    "name": "ipython",
    "version": 3
   },
   "file_extension": ".py",
   "mimetype": "text/x-python",
   "name": "python",
   "nbconvert_exporter": "python",
   "pygments_lexer": "ipython3",
   "version": "3.10.12"
  }
 },
 "nbformat": 4,
 "nbformat_minor": 5
}

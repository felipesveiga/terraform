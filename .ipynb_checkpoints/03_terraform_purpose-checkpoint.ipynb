{
 "cells": [
  {
   "cell_type": "markdown",
   "id": "8efdccea-37f5-4e9a-8f69-78762eebaea7",
   "metadata": {},
   "source": [
    "<h1 style='font-size:40px'> Understand the purpose of Terraform (vs other IaC)</h1>"
   ]
  },
  {
   "cell_type": "markdown",
   "id": "74d58b9a-f9b2-4721-9ce7-4682bb5695b5",
   "metadata": {},
   "source": [
    "<h2 style='font-size:30px'> Terraform Purpose</h2>\n",
    "<div> \n",
    "    <ul style='font-size:20px'> \n",
    "        <li>\n",
    "            Além do benefício principal de gerir sua infra via código, o TF possibilita a execução de dry-runs, a fim de simularmos o efeito de nossas alterações. Além disso, ele nos oferece uma relação sobre quais recursos serão modificados, uma vez implantada a modificação.\n",
    "        </li>\n",
    "        <li>\n",
    "            O Terraform monta um grafo em seu backend que estabelece a relação entre os recursos a serem criados. Caso exista um nó independente dos demais, ele pode criá-lo em paralelo.\n",
    "        </li>\n",
    "    </ul>\n",
    " </div>"
   ]
  },
  {
   "cell_type": "markdown",
   "id": "7fe81d66-dc13-404a-9fef-32912c55a526",
   "metadata": {},
   "source": [
    "<h2 style='font-size:30px'>  Benefits of Terraform State</h2>\n",
    "<div> \n",
    "    <ul style='font-size:20px'> \n",
    "        <li>\n",
    "            O Terraform mantém um arquivo de state que contém os dados do estado atual de sua infra. É com base nele que o programa definirá quais ações devem ser tomadas em uma nova execução.\n",
    "        </li>\n",
    "    </ul>\n",
    " </div>"
   ]
  }
 ],
 "metadata": {
  "kernelspec": {
   "display_name": "Python 3 (ipykernel)",
   "language": "python",
   "name": "python3"
  },
  "language_info": {
   "codemirror_mode": {
    "name": "ipython",
    "version": 3
   },
   "file_extension": ".py",
   "mimetype": "text/x-python",
   "name": "python",
   "nbconvert_exporter": "python",
   "pygments_lexer": "ipython3",
   "version": "3.10.12"
  }
 },
 "nbformat": 4,
 "nbformat_minor": 5
}

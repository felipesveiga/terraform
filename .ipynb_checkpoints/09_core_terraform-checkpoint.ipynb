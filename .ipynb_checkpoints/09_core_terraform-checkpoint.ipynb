{
 "cells": [
  {
   "cell_type": "markdown",
   "id": "08188401-64f3-4950-b665-446ca4dec317",
   "metadata": {},
   "source": [
    "<h1 style='font-size:40px'> Use the Core Terraform Workflow</h1>"
   ]
  },
  {
   "cell_type": "markdown",
   "id": "23ef3ba6-046b-4014-bcbf-7163b3cd400a",
   "metadata": {},
   "source": [
    "<h2 style='font-size:30px'> \n",
    "    <a href='https://spacelift.io/blog/terraform-init'>Initializing Terraform with the terraform init command</a></h2>\n",
    "<div> \n",
    "    <ul style='font-size:20px'> \n",
    "        <li>\n",
    "            O `terraform init` é o comando que inicializa o seu projeto Terraform. Ele baixa todos os plug-ins e módulos demandados pelos scripts.\n",
    "        </li>\n",
    "        <li>\n",
    "            O comando apenas baixará módulos que tenham sido definidos ou modificados no arquivo de configuração desde a última invocação. Para forçar a instalação de todos os módulos, use a flag `-upgrade`.\n",
    "        </li>\n",
    "    </ul>\n",
    " </div>"
   ]
  },
  {
   "cell_type": "markdown",
   "id": "78f4e332-123d-4672-a725-fbf342511a72",
   "metadata": {},
   "source": [
    "<h2 style='font-size:30px'> \n",
    "    Validating Terraform Configuration with terraform validate\n",
    "</h2>\n",
    "<div> \n",
    "    <ul style='font-size:20px'> \n",
    "        <li>\n",
    "            O comando `terraform validate` analisa a sintaxe dos arquivos de configuração. Caso haja erros, ele retornará uma mensagem de erro ao usuário.\n",
    "        </li>\n",
    "    </ul>\n",
    " </div>"
   ]
  },
  {
   "cell_type": "markdown",
   "id": "5dc2b979-2600-4a71-98ae-0869fb93df42",
   "metadata": {},
   "source": [
    "<h2 style='font-size:30px'> \n",
    "    Generate and Review an Execution Plan with terraform plan\n",
    "</h2>\n",
    "<div> \n",
    "    <ul style='font-size:20px'> \n",
    "        <li>\n",
    "            `terraform plan` é responsável por comparar o arquivo de configurações com o de state, mostrando ao usuário as alterações que serão aplicadas no caso de um apply.\n",
    "        </li>\n",
    "        <li>\n",
    "            O relatório desse comando apresentará símbolos, cujos significados são os seguintes:\n",
    "            <center style='font-size:20px;margin-top:20px'> \n",
    "                 <img src='img/09_terraform_plan.png'>\n",
    "            </center>\n",
    "        </li>\n",
    "        <li style='margin-top:20px'>\n",
    "            Para se certificar de que o seu state file está atualizado, invoque `terraform plan -refresh-only`.\n",
    "        </li>\n",
    "    </ul>\n",
    " </div>"
   ]
  },
  {
   "cell_type": "code",
   "execution_count": 1,
   "id": "4a8b395e-d9dc-4db8-97c6-0de4b084fd09",
   "metadata": {},
   "outputs": [
    {
     "name": "stdout",
     "output_type": "stream",
     "text": [
      "[master 993446a] Aula 44\n",
      " 3 files changed, 48 insertions(+), 14 deletions(-)\n",
      " delete mode 100644 labs/04-hcl/terraform/.main.tf.swp\n",
      "Enumerating objects: 13, done.\n",
      "Counting objects: 100% (13/13), done.\n",
      "Delta compression using up to 24 threads\n",
      "Compressing objects: 100% (6/6), done.\n",
      "Writing objects: 100% (7/7), 875 bytes | 875.00 KiB/s, done.\n",
      "Total 7 (delta 5), reused 0 (delta 0), pack-reused 0\n",
      "remote: Resolving deltas: 100% (5/5), completed with 5 local objects.\u001b[K\n",
      "To https://github.com/felipesveiga/terraform.git\n",
      "   d6dd628..993446a  master -> master\n"
     ]
    }
   ],
   "source": [
    "! git add .\n",
    "! git commit -m 'Aula 45'\n",
    "! git push"
   ]
  },
  {
   "cell_type": "markdown",
   "id": "949c77d5-5453-4e7f-ba06-a3a8c2f33ba3",
   "metadata": {
    "editable": true,
    "slideshow": {
     "slide_type": ""
    },
    "tags": []
   },
   "source": [
    "<p style='color:red'> Vi Aula 44; Aula 45</p>"
   ]
  },
  {
   "cell_type": "markdown",
   "id": "c8828603-83a5-4d68-a658-15c121bf2d80",
   "metadata": {
    "editable": true,
    "slideshow": {
     "slide_type": ""
    },
    "tags": []
   },
   "source": [
    "<p style='color:red'> Usar a imagem \"ubuntu/images/hvm-ssd/ubuntu-focal-20.04-amd64-server-*\" no Ubuntu Server </p>"
   ]
  }
 ],
 "metadata": {
  "kernelspec": {
   "display_name": "Python 3 (ipykernel)",
   "language": "python",
   "name": "python3"
  },
  "language_info": {
   "codemirror_mode": {
    "name": "ipython",
    "version": 3
   },
   "file_extension": ".py",
   "mimetype": "text/x-python",
   "name": "python",
   "nbconvert_exporter": "python",
   "pygments_lexer": "ipython3",
   "version": "3.10.12"
  }
 },
 "nbformat": 4,
 "nbformat_minor": 5
}

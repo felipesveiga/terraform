{
 "cells": [
  {
   "cell_type": "markdown",
   "id": "08188401-64f3-4950-b665-446ca4dec317",
   "metadata": {},
   "source": [
    "<h1 style='font-size:40px'> Use the Core Terraform Workflow</h1>"
   ]
  },
  {
   "cell_type": "markdown",
   "id": "23ef3ba6-046b-4014-bcbf-7163b3cd400a",
   "metadata": {},
   "source": [
    "<h2 style='font-size:30px'> \n",
    "    <a href='https://spacelift.io/blog/terraform-init'>Initializing Terraform with the terraform init command</a></h2>\n",
    "<div> \n",
    "    <ul style='font-size:20px'> \n",
    "        <li>\n",
    "            O `terraform init` é o comando que inicializa o seu projeto Terraform. Ele baixa todos os plug-ins e módulos demandados pelos scripts.\n",
    "        </li>\n",
    "        <li>\n",
    "            O comando apenas baixará módulos que tenham sido definidos ou modificados no arquivo de configuração desde a última invocação. Para forçar a instalação de todos os módulos, use a flag `-upgrade`.\n",
    "        </li>\n",
    "    </ul>\n",
    " </div>"
   ]
  },
  {
   "cell_type": "markdown",
   "id": "78f4e332-123d-4672-a725-fbf342511a72",
   "metadata": {},
   "source": [
    "<h2 style='font-size:30px'> \n",
    "    Validating Terraform Configuration with terraform validate\n",
    "</h2>\n",
    "<div> \n",
    "    <ul style='font-size:20px'> \n",
    "        <li>\n",
    "            O comando `terraform validate` analisa a sintaxe dos arquivos de configuração. Caso haja erros, ele retornará uma mensagem de erro ao usuário.\n",
    "        </li>\n",
    "    </ul>\n",
    " </div>"
   ]
  },
  {
   "cell_type": "markdown",
   "id": "5dc2b979-2600-4a71-98ae-0869fb93df42",
   "metadata": {},
   "source": [
    "<h2 style='font-size:30px'> \n",
    "    Generate and Review an Execution Plan with terraform plan\n",
    "</h2>\n",
    "<div> \n",
    "    <ul style='font-size:20px'> \n",
    "        <li>\n",
    "            `terraform plan` é responsável por comparar o arquivo de configurações com o de state, mostrando ao usuário as alterações que serão aplicadas no caso de um apply.\n",
    "        </li>\n",
    "        <li>\n",
    "            O relatório desse comando apresentará símbolos, cujos significados são os seguintes:\n",
    "            <center style='font-size:20px;margin-top:20px'> \n",
    "                 <img src='img/09_terraform_plan.png'>\n",
    "            </center>\n",
    "        </li>\n",
    "        <li style='margin-top:20px'>\n",
    "            Para se certificar de que o seu state file está atualizado, invoque `terraform plan -refresh-only`.\n",
    "        </li>\n",
    "    </ul>\n",
    " </div>"
   ]
  },
  {
   "cell_type": "markdown",
   "id": "89510294-8fd4-4fa7-8226-afe097c60dd4",
   "metadata": {},
   "source": [
    "<h2 style='font-size:30px'> \n",
    "    Execute changes to Infrastructure with terraform apply\n",
    "</h2>\n",
    "<div> \n",
    "    <ul style='font-size:20px'> \n",
    "        <li>\n",
    "            O `terraform apply` é responsável pelo deploy dos recursos descritos nos arquivos de configuração.\n",
    "        </li>\n",
    "        <li>\n",
    "            Lembre-se de que o upload dos recursos pode ser baseado no arquivo gerado pelo comando `terraform plan -out`.\n",
    "        </li>\n",
    "    </ul>\n",
    " </div>"
   ]
  },
  {
   "cell_type": "markdown",
   "id": "7499daf5-41fe-446f-a725-e0d712745bed",
   "metadata": {},
   "source": [
    "<h2 style='font-size:30px'> \n",
    "Delete Resources using the terraform destroy command</h2>\n",
    "<div> \n",
    "    <ul style='font-size:20px'> \n",
    "        <li>\n",
    "            O `terraform destroy` é responsável por remover todos os recursos tidos pelo arquivo de state.\n",
    "        </li>\n",
    "    </ul>\n",
    " </div>"
   ]
  }
 ],
 "metadata": {
  "kernelspec": {
   "display_name": "Python 3 (ipykernel)",
   "language": "python",
   "name": "python3"
  },
  "language_info": {
   "codemirror_mode": {
    "name": "ipython",
    "version": 3
   },
   "file_extension": ".py",
   "mimetype": "text/x-python",
   "name": "python",
   "nbconvert_exporter": "python",
   "pygments_lexer": "ipython3",
   "version": "3.10.12"
  }
 },
 "nbformat": 4,
 "nbformat_minor": 5
}

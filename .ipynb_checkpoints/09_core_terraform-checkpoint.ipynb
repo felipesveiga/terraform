{
 "cells": [
  {
   "cell_type": "markdown",
   "id": "08188401-64f3-4950-b665-446ca4dec317",
   "metadata": {},
   "source": [
    "<h1 style='font-size:40px'> Use the Core Terraform Workflow</h1>"
   ]
  },
  {
   "cell_type": "markdown",
   "id": "23ef3ba6-046b-4014-bcbf-7163b3cd400a",
   "metadata": {},
   "source": [
    "<h2 style='font-size:30px'> \n",
    "    <a href='https://spacelift.io/blog/terraform-init'>Initializing Terraform with the terraform init command</a></h2>\n",
    "<div> \n",
    "    <ul style='font-size:20px'> \n",
    "        <li>\n",
    "            O `terraform init` é o comando que inicializa o seu projeto Terraform. Ele baixa todos os plug-ins e módulos demandados pelos scripts.\n",
    "        </li>\n",
    "        <li>\n",
    "            O comando apenas baixará módulos que tenham sido definidos ou modificados no arquivo de configuração desde a última invocação. Para forçar a instalação de todos os módulos, use a flag `-upgrade`.\n",
    "        </li>\n",
    "    </ul>\n",
    " </div>"
   ]
  },
  {
   "cell_type": "code",
   "execution_count": 1,
   "id": "4a8b395e-d9dc-4db8-97c6-0de4b084fd09",
   "metadata": {},
   "outputs": [
    {
     "name": "stdout",
     "output_type": "stream",
     "text": [
      "[master 432165f] Aula 41\n",
      " 4 files changed, 234 insertions(+), 122 deletions(-)\n",
      " create mode 100644 .ipynb_checkpoints/09_core_terraform-checkpoint.ipynb\n",
      " create mode 100644 09_core_terraform.ipynb\n",
      "Enumerating objects: 8, done.\n",
      "Counting objects: 100% (8/8), done.\n",
      "Delta compression using up to 24 threads\n",
      "Compressing objects: 100% (5/5), done.\n",
      "Writing objects: 100% (5/5), 1.16 KiB | 1.16 MiB/s, done.\n",
      "Total 5 (delta 4), reused 0 (delta 0), pack-reused 0\n",
      "remote: Resolving deltas: 100% (4/4), completed with 3 local objects.\u001b[K\n",
      "To https://github.com/felipesveiga/terraform.git\n",
      "   c1b1ad5..432165f  master -> master\n"
     ]
    }
   ],
   "source": [
    "! git add .\n",
    "! git commit -m '4. Initialize the Terraform plugin'\n",
    "! git push"
   ]
  },
  {
   "cell_type": "markdown",
   "id": "949c77d5-5453-4e7f-ba06-a3a8c2f33ba3",
   "metadata": {
    "editable": true,
    "slideshow": {
     "slide_type": ""
    },
    "tags": []
   },
   "source": [
    "<p style='color:red'> Iniciei artigo Terraform Init; Continuar de 4. Initialize the Terraform plugin</p>"
   ]
  },
  {
   "cell_type": "markdown",
   "id": "c8828603-83a5-4d68-a658-15c121bf2d80",
   "metadata": {
    "editable": true,
    "slideshow": {
     "slide_type": ""
    },
    "tags": []
   },
   "source": [
    "<p style='color:red'> Usar a imagem \"ubuntu/images/hvm-ssd/ubuntu-focal-20.04-amd64-server-*\" no Ubuntu Server </p>"
   ]
  }
 ],
 "metadata": {
  "kernelspec": {
   "display_name": "Python 3 (ipykernel)",
   "language": "python",
   "name": "python3"
  },
  "language_info": {
   "codemirror_mode": {
    "name": "ipython",
    "version": 3
   },
   "file_extension": ".py",
   "mimetype": "text/x-python",
   "name": "python",
   "nbconvert_exporter": "python",
   "pygments_lexer": "ipython3",
   "version": "3.10.12"
  }
 },
 "nbformat": 4,
 "nbformat_minor": 5
}

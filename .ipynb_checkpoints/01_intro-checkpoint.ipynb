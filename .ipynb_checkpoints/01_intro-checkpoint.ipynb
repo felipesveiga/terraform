{
 "cells": [
  {
   "cell_type": "markdown",
   "id": "17ce3475-7788-4239-b413-359de60fe104",
   "metadata": {},
   "source": [
    "<h1 style='font-size:40px'> Course Introduction</h1>"
   ]
  },
  {
   "cell_type": "markdown",
   "id": "bb09942c-7352-4e1f-8e8d-5da99ac787f9",
   "metadata": {},
   "source": [
    "<h2 style='font-size:30px'> Course Introduction</h2>\n",
    "<div> \n",
    "    <ul style='font-size:20px'> \n",
    "        <li>\n",
    "            Curso focado bastante na parte prática do TerraForm. Cada um dos labs contará com um PDF que tem orientações gerais. \n",
    "        </li>\n",
    "        <li>\n",
    "            O <a href='https://github.com/btkrausen/hashicorp/tree/master/terraform'>repo do curso</a> tem arquivos .md com as soluções de cada um dos labs.\n",
    "        </li>\n",
    "    </ul>\n",
    " </div>"
   ]
  }
 ],
 "metadata": {
  "kernelspec": {
   "display_name": "Python 3 (ipykernel)",
   "language": "python",
   "name": "python3"
  },
  "language_info": {
   "codemirror_mode": {
    "name": "ipython",
    "version": 3
   },
   "file_extension": ".py",
   "mimetype": "text/x-python",
   "name": "python",
   "nbconvert_exporter": "python",
   "pygments_lexer": "ipython3",
   "version": "3.10.12"
  }
 },
 "nbformat": 4,
 "nbformat_minor": 5
}

{
 "cells": [
  {
   "cell_type": "markdown",
   "id": "a19abe35-2738-4939-b385-cf1f8ab44a05",
   "metadata": {},
   "source": [
    "<h1 style='font-size:40px'> Implement and Maintain State</h1>"
   ]
  },
  {
   "cell_type": "markdown",
   "id": "607d49b2-c852-4d81-81ed-d37cb3c08332",
   "metadata": {},
   "source": [
    "<h2 style='font-size:30px'> \n",
    "    Terraform State Locking</h2>\n",
    "<div> \n",
    "    <ul style='font-size:20px'> \n",
    "        <li>\n",
    "            Alguns backends possuem a capacidade de trancarem o arquivo de state durante os applys. Isso é um recurso interessante, a fim de evitar edições concomitantes ao arquivo de state.\n",
    "        </li>\n",
    "    </ul>\n",
    " </div>"
   ]
  },
  {
   "cell_type": "markdown",
   "id": "c5ff4b7b-352a-4fe6-bc83-66ffa9dd29f8",
   "metadata": {},
   "source": [
    "<h2 style='font-size:30px'> \n",
    "    Terraform State - Backend Authentication</h2>\n",
    "<div> \n",
    "    <ul style='font-size:20px'> \n",
    "        <li>\n",
    "            Um bloco backend define onde o arquivo de state será depositado. No caso do Terraform, conseguimos armazená-lo num bucket S3, por exemplo.\n",
    "        </li>\n",
    "    </ul>\n",
    " </div>"
   ]
  },
  {
   "cell_type": "markdown",
   "id": "2ea60cc2-9455-461b-8b75-652e1aba412e",
   "metadata": {},
   "source": [
    "<figure>\n",
    "        <center style='margin-top:20px'>\n",
    "            <img src='img/10_backend.png'>\n",
    "                <figcaption> O bloco deve ser declarado em seu terraform.tf</figcaption>\n",
    "        </center>\n",
    "    </figure>"
   ]
  },
  {
   "cell_type": "markdown",
   "id": "51bcc547-25cf-4728-b7d5-bd37f3814275",
   "metadata": {},
   "source": [
    "<div> \n",
    "    <ul style='font-size:20px'> \n",
    "        <li>\n",
    "            O Terraform ainda possibilita armazenarmos os states em seus servidores. Para isso, você deverá criar uma conta no Terraform Cloud.\n",
    "        </li>\n",
    "    </ul>\n",
    " </div>"
   ]
  },
  {
   "cell_type": "markdown",
   "id": "a34996ad-e890-4c49-9e2e-29c58a390ff4",
   "metadata": {},
   "source": [
    "<h2 style='font-size:30px'> \n",
    "    Terraform State - Backend Storage</h2>\n",
    "<div> \n",
    "    <ul style='font-size:20px'> \n",
    "        <li>\n",
    "            Aula em que exploramos alguns dos backends oferecidos pelo Terraform.\n",
    "        </li>\n",
    "        <li>\n",
    "            No backend S3, podemos aproveitar as funcionalidades de versionamento e encriptação dos buckets e aplicá-las em nosso arquivo de state.\n",
    "        </li>\n",
    "        <li>\n",
    "            Caso deseje aplicar locking, você deverá criar uma tabela no DynamoDB.\n",
    "        </li>\n",
    "    </ul>\n",
    " </div>"
   ]
  },
  {
   "cell_type": "markdown",
   "id": "6c45d341-fcaa-4f61-856e-ae067ab6fdba",
   "metadata": {},
   "source": [
    "<h2 style='font-size:30px'> \n",
    "    Terraform Remote State - Enhanced Backend</h2>\n",
    "<div> \n",
    "    <ul style='font-size:20px'> \n",
    "        <li>\n",
    "            O Remote Backend do Terraform permite que você execute todos os comandos da CLI num servidor externo do Terraform Cloud. \n",
    "        </li>\n",
    "        <li>\n",
    "            O arquivo de state ficará armazenado no ambiente de nuvem.\n",
    "        </li>\n",
    "        <li>\n",
    "            O ambiente oferecido permite que você deposite as credenciais de acesso num local centralizado e gerenciável.\n",
    "        </li>\n",
    "    </ul>\n",
    " </div>"
   ]
  },
  {
   "cell_type": "markdown",
   "id": "b2ae5c2b-ef17-43a6-9225-c79a535fa8c2",
   "metadata": {},
   "source": [
    "<figure>\n",
    "        <center style='margin-top:20px'>\n",
    "            <img src='img/10_remote_backend.png'>\n",
    "                <figcaption> Você deve informar o nome do host de onde provisionaremos o servidor. Caso esteja utilizando o Terraform Cloud, declare o nome da sua organização, assim como o Workspace onde serão executados os comandos.</figcaption>\n",
    "        </center>\n",
    "    </figure>"
   ]
  },
  {
   "cell_type": "code",
   "execution_count": 9,
   "id": "4a8b395e-d9dc-4db8-97c6-0de4b084fd09",
   "metadata": {
    "collapsed": true,
    "jupyter": {
     "outputs_hidden": true
    }
   },
   "outputs": [
    {
     "name": "stdout",
     "output_type": "stream",
     "text": [
      "[master 2baf7b0]  Continuar Experimento do Remote Backend do Terraform\n",
      " 19 files changed, 691 insertions(+), 24 deletions(-)\n",
      " create mode 100644 img/10_remote_backend.png\n",
      " create mode 100644 labs/10-backend/terraform/.terraform.lock.hcl\n",
      " create mode 100644 labs/10-backend/terraform/.terraform.lock.hcl.swp\n",
      " create mode 100644 labs/10-backend/terraform/ec2-deploy\n",
      " create mode 100644 labs/10-backend/terraform/main.tf\n",
      " create mode 100644 labs/10-backend/terraform/modules/server/main.tf\n",
      " create mode 100644 labs/10-backend/terraform/modules/server/outputs.tf\n",
      " create mode 100644 labs/10-backend/terraform/modules/server/server.tf\n",
      " create mode 100644 labs/10-backend/terraform/modules/server/variables.tf\n",
      " create mode 100644 labs/10-backend/terraform/modules/web_server/main.tf\n",
      " create mode 100644 labs/10-backend/terraform/modules/web_server/outputs.tf\n",
      " create mode 100644 labs/10-backend/terraform/modules/web_server/server.tf\n",
      " create mode 100644 labs/10-backend/terraform/modules/web_server/variables.tf\n",
      " create mode 100644 labs/10-backend/terraform/outputs.tf\n",
      " create mode 100644 labs/10-backend/terraform/terraform.tf\n",
      " create mode 100644 labs/10-backend/terraform/variables.tf\n",
      "Enumerating objects: 18, done.\n",
      "Counting objects: 100% (18/18), done.\n",
      "Delta compression using up to 24 threads\n",
      "Compressing objects: 100% (9/9), done.\n",
      "Writing objects: 100% (10/10), 25.77 KiB | 25.77 MiB/s, done.\n",
      "Total 10 (delta 7), reused 0 (delta 0), pack-reused 0\n",
      "remote: Resolving deltas: 100% (7/7), completed with 7 local objects.\u001b[K\n",
      "To https://github.com/felipesveiga/terraform.git\n",
      "   2ec7a73..2baf7b0  master -> master\n"
     ]
    }
   ],
   "source": [
    "! git add .\n",
    "! git commit -m 'Inserir variáveis AWS no Workspace'\n",
    "! git push"
   ]
  },
  {
   "cell_type": "markdown",
   "id": "59f597c1-0d41-4781-b8ed-96b196da6ec9",
   "metadata": {
    "editable": true,
    "slideshow": {
     "slide_type": ""
    },
    "tags": []
   },
   "source": [
    "<p style='color:red'> Iniciei Experimento do Remote Backend do Terraform; Inserir variáveis AWS no Workspace</p>"
   ]
  },
  {
   "cell_type": "markdown",
   "id": "48270b98-f9a3-4361-9557-2b34475e1b28",
   "metadata": {
    "editable": true,
    "slideshow": {
     "slide_type": ""
    },
    "tags": []
   },
   "source": [
    "<p style='color:red'> Usar a imagem \"ubuntu/images/hvm-ssd/ubuntu-focal-20.04-amd64-server-*\" no Ubuntu Server </p>"
   ]
  }
 ],
 "metadata": {
  "kernelspec": {
   "display_name": "Python 3 (ipykernel)",
   "language": "python",
   "name": "python3"
  },
  "language_info": {
   "codemirror_mode": {
    "name": "ipython",
    "version": 3
   },
   "file_extension": ".py",
   "mimetype": "text/x-python",
   "name": "python",
   "nbconvert_exporter": "python",
   "pygments_lexer": "ipython3",
   "version": "3.10.12"
  }
 },
 "nbformat": 4,
 "nbformat_minor": 5
}

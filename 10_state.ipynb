{
 "cells": [
  {
   "cell_type": "markdown",
   "id": "a19abe35-2738-4939-b385-cf1f8ab44a05",
   "metadata": {},
   "source": [
    "<h1 style='font-size:40px'> Implement and Maintain State</h1>"
   ]
  },
  {
   "cell_type": "markdown",
   "id": "607d49b2-c852-4d81-81ed-d37cb3c08332",
   "metadata": {},
   "source": [
    "<h2 style='font-size:30px'> \n",
    "    Terraform State Locking</h2>\n",
    "<div> \n",
    "    <ul style='font-size:20px'> \n",
    "        <li>\n",
    "            Alguns backends possuem a capacidade de trancarem o arquivo de state durante os applys. Isso é um recurso interessante, a fim de evitar edições concomitantes ao arquivo de state.\n",
    "        </li>\n",
    "    </ul>\n",
    " </div>"
   ]
  },
  {
   "cell_type": "markdown",
   "id": "c5ff4b7b-352a-4fe6-bc83-66ffa9dd29f8",
   "metadata": {},
   "source": [
    "<h2 style='font-size:30px'> \n",
    "    Terraform State - Backend Authentication</h2>\n",
    "<div> \n",
    "    <ul style='font-size:20px'> \n",
    "        <li>\n",
    "            Um bloco backend define onde o arquivo de state será depositado. No caso do Terraform, conseguimos armazená-lo num bucket S3, por exemplo.\n",
    "        </li>\n",
    "    </ul>\n",
    " </div>"
   ]
  },
  {
   "cell_type": "markdown",
   "id": "2ea60cc2-9455-461b-8b75-652e1aba412e",
   "metadata": {},
   "source": [
    "<figure>\n",
    "        <center style='margin-top:20px'>\n",
    "            <img src='img/10_backend.png'>\n",
    "                <figcaption> O bloco deve ser declarado em seu terraform.tf</figcaption>\n",
    "        </center>\n",
    "    </figure>"
   ]
  },
  {
   "cell_type": "markdown",
   "id": "51bcc547-25cf-4728-b7d5-bd37f3814275",
   "metadata": {},
   "source": [
    "<div> \n",
    "    <ul style='font-size:20px'> \n",
    "        <li>\n",
    "            O Terraform ainda possibilita armazenarmos os states em seus servidores. Para isso, você deverá criar uma conta no Terraform Cloud.\n",
    "        </li>\n",
    "    </ul>\n",
    " </div>"
   ]
  },
  {
   "cell_type": "markdown",
   "id": "a34996ad-e890-4c49-9e2e-29c58a390ff4",
   "metadata": {},
   "source": [
    "<h2 style='font-size:30px'> \n",
    "    Terraform State - Backend Storage</h2>\n",
    "<div> \n",
    "    <ul style='font-size:20px'> \n",
    "        <li>\n",
    "            Aula em que exploramos alguns dos backends oferecidos pelo Terraform.\n",
    "        </li>\n",
    "        <li>\n",
    "            No backend S3, podemos aproveitar as funcionalidades de versionamento e encriptação dos buckets e aplicá-las em nosso arquivo de state.\n",
    "        </li>\n",
    "        <li>\n",
    "            Caso deseje aplicar locking, você deverá criar uma tabela no DynamoDB.\n",
    "        </li>\n",
    "    </ul>\n",
    " </div>"
   ]
  },
  {
   "cell_type": "markdown",
   "id": "6c45d341-fcaa-4f61-856e-ae067ab6fdba",
   "metadata": {},
   "source": [
    "<h2 style='font-size:30px'> \n",
    "    Terraform Remote State - Enhanced Backend</h2>\n",
    "<div> \n",
    "    <ul style='font-size:20px'> \n",
    "        <li>\n",
    "            O Remote Backend do Terraform permite que você execute todos os comandos da CLI num servidor externo do Terraform Cloud. \n",
    "        </li>\n",
    "        <li>\n",
    "            O arquivo de state ficará armazenado no ambiente de nuvem.\n",
    "        </li>\n",
    "        <li>\n",
    "            O ambiente oferecido permite que você deposite as credenciais de acesso num local centralizado e gerenciável.\n",
    "        </li>\n",
    "    </ul>\n",
    " </div>"
   ]
  },
  {
   "cell_type": "markdown",
   "id": "b2ae5c2b-ef17-43a6-9225-c79a535fa8c2",
   "metadata": {},
   "source": [
    "<figure>\n",
    "        <center style='margin-top:20px'>\n",
    "            <img src='img/10_remote_backend.png'>\n",
    "                <figcaption> Você deve informar o nome do host de onde provisionaremos o servidor. Caso esteja utilizando o Terraform Cloud, declare o nome da sua organização, assim como o Workspace onde serão executados os comandos.</figcaption>\n",
    "        </center>\n",
    "    </figure>"
   ]
  },
  {
   "cell_type": "markdown",
   "id": "b82c725a-3c38-4965-bffa-4d5ead4192c1",
   "metadata": {},
   "source": [
    "<figure>\n",
    "        <center style='margin-top:20px'>\n",
    "            <img src='img/10_workspace_list.png'>\n",
    "                <figcaption> O workspace possui uma interface em que podemos enxergar todas as execuções feitas.</figcaption>\n",
    "        </center>\n",
    "    </figure>"
   ]
  },
  {
   "cell_type": "markdown",
   "id": "41a0eb2a-82a7-4155-bcfc-8f275b75838d",
   "metadata": {},
   "source": [
    "<h3 style='font-size:30px;font-style:italic'>Workspace Variables</h3>\n",
    "<div> \n",
    "    <ul style='font-size:20px'>\n",
    "        <li> \n",
    "            Você pode definir variáveis dentro de seu workspace do Terraform Cloud. Elas terão precedência sobre aquelas definidas nos arquivos variables.tf.\n",
    "        </li>\n",
    "     </ul>\n",
    "</div>"
   ]
  },
  {
   "cell_type": "markdown",
   "id": "82170479-ca3b-4ea2-bc95-50b66c306036",
   "metadata": {},
   "source": [
    "<figure>\n",
    "        <center style='margin-top:20px'>\n",
    "            <img src='img/10_workspace_variables.png'>\n",
    "        </center>\n",
    "    </figure>"
   ]
  },
  {
   "cell_type": "markdown",
   "id": "6bb352a8-116b-4859-84e0-9906011b8bd6",
   "metadata": {},
   "source": [
    "<h2 style='font-size:30px'> Terraform State Migration\n",
    "    </h2>\n",
    "<div> \n",
    "    <ul style='font-size:20px'> \n",
    "        <li>\n",
    "            Conforme os seus projetos forem amadurecendo, é possível que você deseje mudar o local onde são armazenados os arquivos de state.\n",
    "        </li>\n",
    "        <li>\n",
    "            Nessa situação, você deverá alterar o seu terraform.tf, além de declarar o comando `terraform init --migrate-state`. Este último sinaliza a CLI para reconfigurar o backend do  repositório e tentar migrar o arquivo de state.\n",
    "        </li>\n",
    "    </ul>\n",
    " </div>"
   ]
  },
  {
   "cell_type": "code",
   "execution_count": 12,
   "id": "4a8b395e-d9dc-4db8-97c6-0de4b084fd09",
   "metadata": {},
   "outputs": [
    {
     "name": "stdout",
     "output_type": "stream",
     "text": [
      "[master 86ebf15] Aula 52\n",
      " 5 files changed, 56 insertions(+), 26 deletions(-)\n",
      " create mode 100644 img/10_workspace_list.png\n",
      " delete mode 100644 labs/10-backend/terraform/.main.tf.swp\n",
      " delete mode 100644 labs/10-backend/terraform/.variables.tf.swp\n",
      "Enumerating objects: 16, done.\n",
      "Counting objects: 100% (16/16), done.\n",
      "Delta compression using up to 24 threads\n",
      "Compressing objects: 100% (8/8), done.\n",
      "Writing objects: 100% (9/9), 103.43 KiB | 25.86 MiB/s, done.\n",
      "Total 9 (delta 6), reused 0 (delta 0), pack-reused 0\n",
      "remote: Resolving deltas: 100% (6/6), completed with 6 local objects.\u001b[K\n",
      "To https://github.com/felipesveiga/terraform.git\n",
      "   1c414ec..86ebf15  master -> master\n"
     ]
    }
   ],
   "source": [
    "! git add .\n",
    "! git commit -m 'Aplicar um apply com o remote backend e tentar migrar o arquivo de state para o backend local'\n",
    "! git push"
   ]
  },
  {
   "cell_type": "markdown",
   "id": "59f597c1-0d41-4781-b8ed-96b196da6ec9",
   "metadata": {
    "editable": true,
    "slideshow": {
     "slide_type": ""
    },
    "tags": []
   },
   "source": [
    "<p style='color:red'> Vi Aula 52; Aplicar um apply com o remote backend e tentar migrar o arquivo de state para o backend local; Aula 53</p>"
   ]
  },
  {
   "cell_type": "markdown",
   "id": "48270b98-f9a3-4361-9557-2b34475e1b28",
   "metadata": {
    "editable": true,
    "slideshow": {
     "slide_type": ""
    },
    "tags": []
   },
   "source": [
    "<p style='color:red'> Usar a imagem \"ubuntu/images/hvm-ssd/ubuntu-focal-20.04-amd64-server-*\" no Ubuntu Server </p>"
   ]
  }
 ],
 "metadata": {
  "kernelspec": {
   "display_name": "Python 3 (ipykernel)",
   "language": "python",
   "name": "python3"
  },
  "language_info": {
   "codemirror_mode": {
    "name": "ipython",
    "version": 3
   },
   "file_extension": ".py",
   "mimetype": "text/x-python",
   "name": "python",
   "nbconvert_exporter": "python",
   "pygments_lexer": "ipython3",
   "version": "3.10.12"
  }
 },
 "nbformat": 4,
 "nbformat_minor": 5
}

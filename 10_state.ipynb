{
 "cells": [
  {
   "cell_type": "markdown",
   "id": "a19abe35-2738-4939-b385-cf1f8ab44a05",
   "metadata": {},
   "source": [
    "<h1 style='font-size:40px'> Implement and Maintain State</h1>"
   ]
  },
  {
   "cell_type": "markdown",
   "id": "607d49b2-c852-4d81-81ed-d37cb3c08332",
   "metadata": {},
   "source": [
    "<h2 style='font-size:30px'> \n",
    "    Terraform State Locking</h2>\n",
    "<div> \n",
    "    <ul style='font-size:20px'> \n",
    "        <li>\n",
    "            Alguns backends possuem a capacidade de trancarem o arquivo de state durante os applys. Isso é um recurso interessante, a fim de evitar edições concomitantes ao arquivo de state.\n",
    "        </li>\n",
    "    </ul>\n",
    " </div>"
   ]
  },
  {
   "cell_type": "markdown",
   "id": "c5ff4b7b-352a-4fe6-bc83-66ffa9dd29f8",
   "metadata": {},
   "source": [
    "<h2 style='font-size:30px'> \n",
    "    Terraform State - Backend Authentication</h2>\n",
    "<div> \n",
    "    <ul style='font-size:20px'> \n",
    "        <li>\n",
    "            Um bloco backend define onde o arquivo de state será depositado. No caso do Terraform, conseguimos armazená-lo num bucket S3, por exemplo.\n",
    "        </li>\n",
    "    </ul>\n",
    " </div>"
   ]
  },
  {
   "cell_type": "markdown",
   "id": "2ea60cc2-9455-461b-8b75-652e1aba412e",
   "metadata": {},
   "source": [
    "<figure>\n",
    "        <center style='margin-top:20px'>\n",
    "            <img src='img/10_backend.png'>\n",
    "                <figcaption> O bloco deve ser declarado em seu terraform.tf</figcaption>\n",
    "        </center>\n",
    "    </figure>"
   ]
  },
  {
   "cell_type": "markdown",
   "id": "51bcc547-25cf-4728-b7d5-bd37f3814275",
   "metadata": {},
   "source": [
    "<div> \n",
    "    <ul style='font-size:20px'> \n",
    "        <li>\n",
    "            O Terraform ainda possibilita armazenarmos os states em seus servidores. Para isso, você deverá criar uma conta no Terraform Cloud.\n",
    "        </li>\n",
    "    </ul>\n",
    " </div>"
   ]
  },
  {
   "cell_type": "markdown",
   "id": "a34996ad-e890-4c49-9e2e-29c58a390ff4",
   "metadata": {},
   "source": [
    "<h2 style='font-size:30px'> \n",
    "    Terraform State - Backend Storage</h2>\n",
    "<div> \n",
    "    <ul style='font-size:20px'> \n",
    "        <li>\n",
    "            Aula em que exploramos alguns dos backends oferecidos pelo Terraform.\n",
    "        </li>\n",
    "        <li>\n",
    "            No backend S3, podemos aproveitar as funcionalidades de versionamento e encriptação dos buckets e aplicá-las em nosso arquivo de state.\n",
    "        </li>\n",
    "        <li>\n",
    "            Caso deseje aplicar locking, você deverá criar uma tabela no DynamoDB.\n",
    "        </li>\n",
    "    </ul>\n",
    " </div>"
   ]
  },
  {
   "cell_type": "markdown",
   "id": "6c45d341-fcaa-4f61-856e-ae067ab6fdba",
   "metadata": {},
   "source": [
    "<h2 style='font-size:30px'> \n",
    "    Terraform Remote State - Enhanced Backend</h2>\n",
    "<div> \n",
    "    <ul style='font-size:20px'> \n",
    "        <li>\n",
    "            O Remote Backend do Terraform permite que você execute todos os comandos da CLI num servidor externo do Terraform Cloud. \n",
    "        </li>\n",
    "        <li>\n",
    "            O arquivo de state ficará armazenado no ambiente de nuvem.\n",
    "        </li>\n",
    "        <li>\n",
    "            O ambiente oferecido permite que você deposite as credenciais de acesso num local centralizado e gerenciável.\n",
    "        </li>\n",
    "    </ul>\n",
    " </div>"
   ]
  },
  {
   "cell_type": "markdown",
   "id": "b2ae5c2b-ef17-43a6-9225-c79a535fa8c2",
   "metadata": {},
   "source": [
    "<figure>\n",
    "        <center style='margin-top:20px'>\n",
    "            <img src='img/10_remote_backend.png'>\n",
    "                <figcaption> Você deve informar o nome do host de onde provisionaremos o servidor. Caso esteja utilizando o Terraform Cloud, declare o nome da sua organização, assim como o Workspace onde serão executados os comandos.</figcaption>\n",
    "        </center>\n",
    "    </figure>"
   ]
  },
  {
   "cell_type": "markdown",
   "id": "b82c725a-3c38-4965-bffa-4d5ead4192c1",
   "metadata": {},
   "source": [
    "<figure>\n",
    "        <center style='margin-top:20px'>\n",
    "            <img src='img/10_workspace_list.png'>\n",
    "                <figcaption> O workspace possui uma interface em que podemos enxergar todas as execuções feitas.</figcaption>\n",
    "        </center>\n",
    "    </figure>"
   ]
  },
  {
   "cell_type": "markdown",
   "id": "41a0eb2a-82a7-4155-bcfc-8f275b75838d",
   "metadata": {},
   "source": [
    "<h3 style='font-size:30px;font-style:italic'>Workspace Variables</h3>\n",
    "<div> \n",
    "    <ul style='font-size:20px'>\n",
    "        <li> \n",
    "            Você pode definir variáveis dentro de seu workspace do Terraform Cloud. Elas terão precedência sobre aquelas definidas nos arquivos variables.tf.\n",
    "        </li>\n",
    "     </ul>\n",
    "</div>"
   ]
  },
  {
   "cell_type": "markdown",
   "id": "82170479-ca3b-4ea2-bc95-50b66c306036",
   "metadata": {},
   "source": [
    "<figure>\n",
    "        <center style='margin-top:20px'>\n",
    "            <img src='img/10_workspace_variables.png'>\n",
    "        </center>\n",
    "    </figure>"
   ]
  },
  {
   "cell_type": "markdown",
   "id": "6bb352a8-116b-4859-84e0-9906011b8bd6",
   "metadata": {},
   "source": [
    "<h2 style='font-size:30px'> Terraform State Migration\n",
    "    </h2>\n",
    "<div> \n",
    "    <ul style='font-size:20px'> \n",
    "        <li>\n",
    "            Conforme os seus projetos forem amadurecendo, é possível que você deseje mudar o local onde são armazenados os arquivos de state.\n",
    "        </li>\n",
    "        <li>\n",
    "            Nessa situação, você deverá alterar o seu terraform.tf, além de declarar o comando `terraform init --migrate-state`. Este último sinaliza a CLI para reconfigurar o backend do  repositório e tentar migrar o arquivo de state.\n",
    "        </li>\n",
    "    </ul>\n",
    " </div>"
   ]
  },
  {
   "cell_type": "markdown",
   "id": "4ba1e678-2c3e-4653-977d-6ec3879c35c2",
   "metadata": {},
   "source": [
    "<figure>\n",
    "        <center style='margin-top:20px'>\n",
    "            <img src='img/10_migrate_state.png'>\n",
    "                <figcaption> Quando modificamos o nosso <i> terraform.tf</i>, o comando `terraform init --migrate-state` já nos perguntará se desejamos migrar o state para o novo local definido.</figcaption>\n",
    "        </center>\n",
    "    </figure>"
   ]
  },
  {
   "cell_type": "markdown",
   "id": "d3d31238-107f-4bc9-8663-e12b6c57be1f",
   "metadata": {},
   "source": [
    "<h2 style='font-size:30px'> Terraform State Refresh\n",
    "    </h2>\n",
    "<div> \n",
    "    <ul style='font-size:20px'> \n",
    "        <li>\n",
    "            Como vimos anteriormente, o comando `terraform refresh` atualiza o arquivo de state, conforme o estado atual da aplicação em seu devido ambiente.\n",
    "        </li>\n",
    "        <li>\n",
    "            Vale ressaltar que esse comando é automaticamente executado nos plans e applys. Além disso, o Terraform tentará sobrescrever o drift presente na aplicação, caso essa modificação não tenha sido incluída no <i>main.tf</i>.\n",
    "        </li>\n",
    "    </ul>\n",
    " </div>"
   ]
  },
  {
   "cell_type": "markdown",
   "id": "3c4169c1-a6df-428d-b29f-d60607653357",
   "metadata": {},
   "source": [
    "<h3 style='font-size:30px;font-style:italic'> Controlling State Refresh</h3>\n",
    "<div> \n",
    "    <ul style='font-size:20px'>\n",
    "        <li> \n",
    "            O comando refresh deve ser evitado devido a um edge case. Caso as credenciais de acesso estejam incorretas, o provider poderá ser levado a pensar que todos os recursos foram deletados no ambiente e, assim, apagar os seus registros do arquivo de state.\n",
    "        </li>\n",
    "        <li>\n",
    "            Para evitar essa situação, recomenda-se declarar o comando `terraform plan --refresh-only`. Nele, executa-se apenas a parte do plan em que os dados do state são comparados com o estado da aplicação.\n",
    "        </li>\n",
    "        <li>\n",
    "            Caso deseje efetuar a atualização do state, execute `terraform apply --refresh-only`.\n",
    "        </li>\n",
    "     </ul>\n",
    "</div>"
   ]
  },
  {
   "cell_type": "markdown",
   "id": "3616a300-ec7d-4ae1-b245-e0a342ee2a13",
   "metadata": {},
   "source": [
    "<h2 style='font-size:30px'> Terraform Backend Configuration\n",
    "    </h2>\n",
    "<div> \n",
    "    <ul style='font-size:20px'> \n",
    "        <li>\n",
    "            Em ambientes empresariais, podemos desejar uma certa mutabilidade sobre as configurações de backend do ambiente Terraform. Por exemplo, uma equipe pode querer manter o arquivo de state da infra antes de uma alteração no <i> main.tf</i> para efeitos de comparação.\n",
    "        </li>\n",
    "        <li>\n",
    "            Nessa situação, é possível usar os chamados arquivos de configuração de backend. Eles são documentos .hcl que definem valores de parâmetros do nosso backend block. Conseguimos trocar a configuração sempre que desejarmos com um `terraform init --backend-config=&lt;file_path&gt;`.\n",
    "        </li>\n",
    "        <li>\n",
    "            Note que o uso dessa flag implicará na substituição dos argumentos definidos no bloco backend pelos valores informados no arquivo .hcl.\n",
    "        </li>\n",
    "    </ul>\n",
    " </div>"
   ]
  },
  {
   "cell_type": "markdown",
   "id": "90ea3a8b-ec8f-41a8-8794-74f8de8de44e",
   "metadata": {},
   "source": [
    "<h2 style='font-size:30px'> Sensitive Data in Terraform State\n",
    "    </h2>\n",
    "<div> \n",
    "    <ul style='font-size:20px'> \n",
    "        <li>\n",
    "            Em certas situações, o arquivo de state pode carregar consigo informações sensíveis, como senhas. Por conta disso, é recomendado que os desenvolvedores tratem esse documento como sigiloso, a fim de evitar a exposição dessas informações.\n",
    "        </li>\n",
    "        <li>\n",
    "            Você tem a capacidade de dar uma marcação de `sensitive` a variáveis que carreguem dados internos. Caso elas venham a ser usadas como output de seu módulo, você deverá passar um `sensitive=true` no seu output block para comprovar a sua ciência de que está compartilhando informações sensíveis.\n",
    "        </li>\n",
    "        <li>\n",
    "            É extremamente aconselhado que você use backends com suporte a encriptação de dados, como o do S3.\n",
    "        </li>\n",
    "    </ul>\n",
    " </div>"
   ]
  },
  {
   "cell_type": "markdown",
   "id": "c963bba2-584d-4785-8237-b94b8135aa41",
   "metadata": {},
   "source": [
    "<figure>\n",
    "        <center style='margin-top:20px'>\n",
    "            <img src='img/10_sensitive.png'>\n",
    "                <figcaption> Exemplo de marcação de uma variável como sensível</figcaption>\n",
    "        </center>\n",
    "    </figure>"
   ]
  },
  {
   "cell_type": "markdown",
   "id": "fc26eba8-61d5-462e-bf28-9ac70f934046",
   "metadata": {},
   "source": [
    "<figure>\n",
    "        <center style='margin-top:20px'>\n",
    "            <img src='img/10_sensitive_output.png'>\n",
    "                <figcaption> Note que essa variável deverá ter a mesma marcação, caso seja usada num output block.</figcaption>\n",
    "        </center>\n",
    "    </figure>"
   ]
  }
 ],
 "metadata": {
  "kernelspec": {
   "display_name": "Python 3 (ipykernel)",
   "language": "python",
   "name": "python3"
  },
  "language_info": {
   "codemirror_mode": {
    "name": "ipython",
    "version": 3
   },
   "file_extension": ".py",
   "mimetype": "text/x-python",
   "name": "python",
   "nbconvert_exporter": "python",
   "pygments_lexer": "ipython3",
   "version": "3.10.12"
  }
 },
 "nbformat": 4,
 "nbformat_minor": 5
}

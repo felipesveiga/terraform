{
 "cells": [
  {
   "cell_type": "markdown",
   "id": "08188401-64f3-4950-b665-446ca4dec317",
   "metadata": {},
   "source": [
    "<h1 style='font-size:40px'> Use the Core Terraform Workflow</h1>"
   ]
  },
  {
   "cell_type": "markdown",
   "id": "23ef3ba6-046b-4014-bcbf-7163b3cd400a",
   "metadata": {},
   "source": [
    "<h2 style='font-size:30px'> Understanding the Terraform Workflow</h2>\n",
    "<div> \n",
    "    <ul style='font-size:20px'> \n",
    "        <li>\n",
    "        </li>\n",
    "    </ul>\n",
    " </div>"
   ]
  },
  {
   "cell_type": "code",
   "execution_count": 3,
   "id": "4a8b395e-d9dc-4db8-97c6-0de4b084fd09",
   "metadata": {},
   "outputs": [
    {
     "name": "stdout",
     "output_type": "stream",
     "text": [
      "[master c1b1ad5] Aula 40\n",
      " 11 files changed, 261 insertions(+), 34 deletions(-)\n",
      " create mode 100644 img/06_output_refer.png\n",
      " create mode 100644 labs/04-hcl/terraform/.main.tf.swp\n",
      " create mode 100644 labs/04-hcl/terraform/modules/server/main.tf\n",
      " create mode 100644 labs/04-hcl/terraform/modules/server/outputs.tf\n",
      " create mode 100644 labs/04-hcl/terraform/modules/server/variables.tf\n",
      " create mode 100644 labs/04-hcl/terraform/modules/web_server/main.tf\n",
      " create mode 100644 labs/04-hcl/terraform/modules/web_server/outputs.tf\n",
      " create mode 100644 labs/04-hcl/terraform/modules/web_server/server.tf\n",
      " create mode 100644 labs/04-hcl/terraform/modules/web_server/variables.tf\n",
      "Enumerating objects: 24, done.\n",
      "Counting objects: 100% (24/24), done.\n",
      "Delta compression using up to 24 threads\n",
      "Compressing objects: 100% (14/14), done.\n",
      "Writing objects: 100% (15/15), 17.70 KiB | 17.70 MiB/s, done.\n",
      "Total 15 (delta 6), reused 0 (delta 0), pack-reused 0\n",
      "remote: Resolving deltas: 100% (6/6), completed with 6 local objects.\u001b[K\n",
      "To https://github.com/felipesveiga/terraform.git\n",
      "   8596359..c1b1ad5  master -> master\n"
     ]
    }
   ],
   "source": [
    "! git add .\n",
    "! git commit -m 'Aula 41'\n",
    "! git push"
   ]
  },
  {
   "cell_type": "markdown",
   "id": "949c77d5-5453-4e7f-ba06-a3a8c2f33ba3",
   "metadata": {
    "editable": true,
    "slideshow": {
     "slide_type": ""
    },
    "tags": []
   },
   "source": [
    "<p style='color:red'> Vi Aula 40; Fiz Quiz seção 8; Aula 41</p>"
   ]
  },
  {
   "cell_type": "markdown",
   "id": "c8828603-83a5-4d68-a658-15c121bf2d80",
   "metadata": {
    "editable": true,
    "slideshow": {
     "slide_type": ""
    },
    "tags": []
   },
   "source": [
    "<p style='color:red'> Usar a imagem \"ubuntu/images/hvm-ssd/ubuntu-focal-20.04-amd64-server-*\" no Ubuntu Server </p>"
   ]
  }
 ],
 "metadata": {
  "kernelspec": {
   "display_name": "Python 3 (ipykernel)",
   "language": "python",
   "name": "python3"
  },
  "language_info": {
   "codemirror_mode": {
    "name": "ipython",
    "version": 3
   },
   "file_extension": ".py",
   "mimetype": "text/x-python",
   "name": "python",
   "nbconvert_exporter": "python",
   "pygments_lexer": "ipython3",
   "version": "3.10.12"
  }
 },
 "nbformat": 4,
 "nbformat_minor": 5
}

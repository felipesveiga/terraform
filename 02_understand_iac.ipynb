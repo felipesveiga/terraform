{
 "cells": [
  {
   "cell_type": "markdown",
   "id": "c00cacad-5862-4f7c-a15b-4384aa34072f",
   "metadata": {},
   "source": [
    "<h1 style='font-size:40px'> Understand Infrastructure as Code (IaC) Concepts</h1>"
   ]
  },
  {
   "cell_type": "markdown",
   "id": "1a9401ee-f2fc-4949-90af-05698e153736",
   "metadata": {},
   "source": [
    "<h2 style='font-size:30px'> What is Infrastructure as Code</h2>\n",
    "<div> \n",
    "    <ul style='font-size:20px'> \n",
    "        <li>\n",
    "            Os produtos de IaC permitem o gerenciamento de recursos de nuvem por meio de códigos.\n",
    "        </li>\n",
    "        <li>\n",
    "            Sua principal vantagem é a possibilidade de se automatizar atividades em ambientes de nuvem, sem termos que interagir com a GUI do provedor.\n",
    "        </li>\n",
    "        <li>\n",
    "            A principal vantagem do TerraForm é a de que ele funciona para todos os principais provedores de nuvem do mercado!\n",
    "        </li>\n",
    "    </ul>\n",
    " </div>"
   ]
  },
  {
   "cell_type": "markdown",
   "id": "0c475158-190f-4b58-8030-02e8d759c7d7",
   "metadata": {},
   "source": [
    "<h2 style='font-size:30px'> Benefits of Infrastructure as Code</h2>\n",
    "<div> \n",
    "    <ul style='font-size:20px'> \n",
    "        <li>\n",
    "            Faremos um lab introdutório que vai expor os benefícios de IaC na AWS.\n",
    "        </li>\n",
    "        <li>\n",
    "            Vamos criar toda a infra proposta pelo pdf via console, e, depois, via código.\n",
    "        </li>\n",
    "    </ul>\n",
    " </div>"
   ]
  }
 ],
 "metadata": {
  "kernelspec": {
   "display_name": "Python 3 (ipykernel)",
   "language": "python",
   "name": "python3"
  },
  "language_info": {
   "codemirror_mode": {
    "name": "ipython",
    "version": 3
   },
   "file_extension": ".py",
   "mimetype": "text/x-python",
   "name": "python",
   "nbconvert_exporter": "python",
   "pygments_lexer": "ipython3",
   "version": "3.10.12"
  }
 },
 "nbformat": 4,
 "nbformat_minor": 5
}

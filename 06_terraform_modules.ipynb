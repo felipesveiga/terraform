{
 "cells": [
  {
   "cell_type": "markdown",
   "id": "27fcfd30-7bb0-4062-b7df-a41447ad256e",
   "metadata": {},
   "source": [
    "<h1 style='font-size:40px'> Interact with Terraform Modules</h1>"
   ]
  },
  {
   "cell_type": "markdown",
   "id": "75b68afb-e038-4ba3-b285-d682035050f4",
   "metadata": {},
   "source": [
    "<h2 style='font-size:30px'> Terraform Modules </h2>\n",
    "<div> \n",
    "    <ul style='font-size:20px'> \n",
    "        <li>\n",
    "        </li>\n",
    "    </ul>\n",
    " </div>"
   ]
  },
  {
   "cell_type": "code",
   "execution_count": 5,
   "id": "044341b5-4b51-408f-a697-9ba8c33323db",
   "metadata": {},
   "outputs": [
    {
     "name": "stdout",
     "output_type": "stream",
     "text": [
      "[master d454c97] Quiz seção 5\n",
      " 2 files changed, 74 insertions(+), 24 deletions(-)\n",
      "Enumerating objects: 7, done.\n",
      "Counting objects: 100% (7/7), done.\n",
      "Delta compression using up to 24 threads\n",
      "Compressing objects: 100% (4/4), done.\n",
      "Writing objects: 100% (4/4), 1.08 KiB | 1.08 MiB/s, done.\n",
      "Total 4 (delta 3), reused 0 (delta 0), pack-reused 0\n",
      "remote: Resolving deltas: 100% (3/3), completed with 3 local objects.\u001b[K\n",
      "To https://github.com/felipesveiga/terraform.git\n",
      "   d6a7723..d454c97  master -> master\n"
     ]
    }
   ],
   "source": [
    "! git add .\n",
    "! git commit -m 'Aula 32 (3:40)'\n",
    "! git push"
   ]
  },
  {
   "cell_type": "markdown",
   "id": "2549695d-5744-4569-a172-510ddfa70f1d",
   "metadata": {
    "editable": true,
    "slideshow": {
     "slide_type": ""
    },
    "tags": []
   },
   "source": [
    "<p style='color:red'> Fiz Quiz seção 5; Iniciei Aula 32; Aula 32 (3:40)</p>"
   ]
  },
  {
   "cell_type": "markdown",
   "id": "81a313c9-4a31-4be2-bd0d-416dd336708e",
   "metadata": {
    "editable": true,
    "slideshow": {
     "slide_type": ""
    },
    "tags": []
   },
   "source": [
    "<p style='color:red'> Usar a imagem \"ubuntu/images/hvm-ssd/ubuntu-focal-20.04-amd64-server-*\" no Ubuntu Server </p>"
   ]
  }
 ],
 "metadata": {
  "kernelspec": {
   "display_name": "Python 3 (ipykernel)",
   "language": "python",
   "name": "python3"
  },
  "language_info": {
   "codemirror_mode": {
    "name": "ipython",
    "version": 3
   },
   "file_extension": ".py",
   "mimetype": "text/x-python",
   "name": "python",
   "nbconvert_exporter": "python",
   "pygments_lexer": "ipython3",
   "version": "3.10.12"
  }
 },
 "nbformat": 4,
 "nbformat_minor": 5
}

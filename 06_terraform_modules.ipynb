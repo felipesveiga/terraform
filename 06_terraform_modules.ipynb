{
 "cells": [
  {
   "cell_type": "markdown",
   "id": "27fcfd30-7bb0-4062-b7df-a41447ad256e",
   "metadata": {},
   "source": [
    "<h1 style='font-size:40px'> Interact with Terraform Modules</h1>"
   ]
  },
  {
   "cell_type": "markdown",
   "id": "75b68afb-e038-4ba3-b285-d682035050f4",
   "metadata": {},
   "source": [
    "<h2 style='font-size:30px'> Terraform Modules </h2>\n",
    "<div> \n",
    "    <ul style='font-size:20px'> \n",
    "        <li>\n",
    "            Aula em que reforçamos o uso a importância e conveniência de módulos no Terraform.\n",
    "        </li>\n",
    "    </ul>\n",
    " </div>"
   ]
  },
  {
   "cell_type": "markdown",
   "id": "aa12e5c4-be97-4a8a-bac8-ec1d50b58ed9",
   "metadata": {
    "jp-MarkdownHeadingCollapsed": true
   },
   "source": [
    "<h2 style='font-size:30px'> Terraform Modules - Sources</h2>\n",
    "<div> \n",
    "    <ul style='font-size:20px'> \n",
    "        <li>\n",
    "            Podemos obter módulos Terraform de inúmeras localidades (GitHub, Module Registry, SpaceLift). Para isso, passe a URL desejada no argumento `source` do bloco `module`.\n",
    "        </li>\n",
    "    </ul>\n",
    " </div>"
   ]
  },
  {
   "cell_type": "markdown",
   "id": "d0eed7b1-16f4-4a0d-818f-b2209d28cffd",
   "metadata": {},
   "source": [
    "<h2 style='font-size:30px'> Terraform Modules - Inputs and Outputs</h2>\n",
    "<div> \n",
    "    <ul style='font-size:20px'> \n",
    "        <li>\n",
    "            Podemos enxergar módulos TF como funções que admitem inputs e retornam algum valor.\n",
    "        </li>\n",
    "        <li>\n",
    "            Os inputs configuram as ações a serem executadas pelo módulo (tamanho da instância, OS...). Já os outputs são informações importantes sobre o módulo ou seu acionamento que são disponibilizadas após a rodagem do código. \n",
    "        </li>\n",
    "        <li>\n",
    "            Inputs podem ser definidos em blocos variable, enquanto que outputs num bloco output.\n",
    "        </li>\n",
    "    </ul>\n",
    " </div>"
   ]
  },
  {
   "cell_type": "markdown",
   "id": "4312cba8-5d56-4fc3-acdc-9b56b9612568",
   "metadata": {},
   "source": [
    "<p>\n",
    "    <strong> Nota:</strong> Caso queira que um input torne-se opcional, apenas defina o argumento <i> default</i>.\n",
    "</p>"
   ]
  },
  {
   "cell_type": "markdown",
   "id": "ac2c486f-a5ec-418b-8285-c7677cbb9f36",
   "metadata": {},
   "source": [
    " <center style='margin-top:20px'> \n",
    "        <figure>\n",
    "            <img src='img/06_output_refer.png'>\n",
    "            <figcaption> Para se referir ao output de um módulo, apenas informe <i>&lt;module.module_name.output_name&gt;</i></figcaption>\n",
    "        </figure>\n",
    "    </center>"
   ]
  },
  {
   "cell_type": "markdown",
   "id": "ac7a23ad-0677-4a4b-9e8f-780a77a6aeec",
   "metadata": {},
   "source": [
    "<h2 style='font-size:30px'> Terraform Modules - Public Registry</h2>\n",
    "<div> \n",
    "    <ul style='font-size:20px'> \n",
    "        <li>\n",
    "            A publicação de um módulo Terraform envolve a sua publicação no GitHub.\n",
    "        </li>\n",
    "        <li>\n",
    "            O nome dele deverá seguir a seguinte convenção &lt;terraform-PROVIDER_NAME-NAME&gt;. O repo deverá conter um arquivo <i> main.tf</i>, <i> variables.tf</i> e <i> outputs.tf</i>.\n",
    "        </li>\n",
    "        <li>\n",
    "            Quando rodado o `terraform init`, o Terraform aloca os módulos baixados na pasta <i> .terraform/modules</i>.\n",
    "        </li>\n",
    "    </ul>\n",
    " </div>"
   ]
  }
 ],
 "metadata": {
  "kernelspec": {
   "display_name": "Python 3 (ipykernel)",
   "language": "python",
   "name": "python3"
  },
  "language_info": {
   "codemirror_mode": {
    "name": "ipython",
    "version": 3
   },
   "file_extension": ".py",
   "mimetype": "text/x-python",
   "name": "python",
   "nbconvert_exporter": "python",
   "pygments_lexer": "ipython3",
   "version": "3.10.12"
  }
 },
 "nbformat": 4,
 "nbformat_minor": 5
}

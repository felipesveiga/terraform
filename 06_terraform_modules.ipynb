{
 "cells": [
  {
   "cell_type": "markdown",
   "id": "27fcfd30-7bb0-4062-b7df-a41447ad256e",
   "metadata": {},
   "source": [
    "<h1 style='font-size:40px'> Interact with Terraform Modules</h1>"
   ]
  },
  {
   "cell_type": "markdown",
   "id": "75b68afb-e038-4ba3-b285-d682035050f4",
   "metadata": {},
   "source": [
    "<h2 style='font-size:30px'> Terraform Modules </h2>\n",
    "<div> \n",
    "    <ul style='font-size:20px'> \n",
    "        <li>\n",
    "            Aula em que reforçamos o uso a importância e conveniência de módulos no Terraform.\n",
    "        </li>\n",
    "    </ul>\n",
    " </div>"
   ]
  },
  {
   "cell_type": "markdown",
   "id": "aa12e5c4-be97-4a8a-bac8-ec1d50b58ed9",
   "metadata": {
    "jp-MarkdownHeadingCollapsed": true
   },
   "source": [
    "<h2 style='font-size:30px'> Terraform Modules - Sources</h2>\n",
    "<div> \n",
    "    <ul style='font-size:20px'> \n",
    "        <li>\n",
    "            Podemos obter módulos Terraform de inúmeras localidades (GitHub, Module Registry, SpaceLift). Para isso, passe a URL desejada no argumento `source` do bloco `module`.\n",
    "        </li>\n",
    "    </ul>\n",
    " </div>"
   ]
  },
  {
   "cell_type": "markdown",
   "id": "d0eed7b1-16f4-4a0d-818f-b2209d28cffd",
   "metadata": {},
   "source": [
    "<h2 style='font-size:30px'> Terraform Modules - Inputs and Outputs</h2>\n",
    "<div> \n",
    "    <ul style='font-size:20px'> \n",
    "        <li>\n",
    "            Podemos enxergar módulos TF como funções que admitem inputs e retornam algum valor.\n",
    "        </li>\n",
    "        <li>\n",
    "            Os inputs configuram as ações a serem executadas pelo módulo (tamanho da instância, OS...). Já os outputs são informações importantes sobre o módulo ou seu acionamento que são disponibilizadas após a rodagem do código. \n",
    "        </li>\n",
    "        <li>\n",
    "            Inputs podem ser definidos em blocos variable, enquanto que outputs num bloco output.\n",
    "        </li>\n",
    "    </ul>\n",
    " </div>"
   ]
  },
  {
   "cell_type": "markdown",
   "id": "4312cba8-5d56-4fc3-acdc-9b56b9612568",
   "metadata": {},
   "source": [
    "<p>\n",
    "    <strong> Nota:</strong> Caso queira que um input torne-se opcional, apenas defina o argumento <i> default</i>.\n",
    "</p>"
   ]
  },
  {
   "cell_type": "markdown",
   "id": "ac2c486f-a5ec-418b-8285-c7677cbb9f36",
   "metadata": {},
   "source": [
    " <center style='margin-top:20px'> \n",
    "        <figure>\n",
    "            <img src='img/06_output_refer.png'>\n",
    "            <figcaption> Para se referir ao output de um módulo, apenas informe <i>&lt;module.module_name.output_name&gt;</i></figcaption>\n",
    "        </figure>\n",
    "    </center>"
   ]
  },
  {
   "cell_type": "markdown",
   "id": "ac7a23ad-0677-4a4b-9e8f-780a77a6aeec",
   "metadata": {},
   "source": [
    "<h2 style='font-size:30px'> Terraform Modules - Public Registry</h2>\n",
    "<div> \n",
    "    <ul style='font-size:20px'> \n",
    "        <li>\n",
    "            A publicação de um módulo Terraform envolve a sua publicação no GitHub.\n",
    "        </li>\n",
    "        <li>\n",
    "            O nome dele deverá seguir a seguinte convenção &lt;terraform-PROVIDER_NAME-NAME&gt;. O repo deverá conter um arquivo <i> main.tf</i>, <i> variables.tf</i> e <i> outputs.tf</i>.\n",
    "        </li>\n",
    "    </ul>\n",
    " </div>"
   ]
  },
  {
   "cell_type": "code",
   "execution_count": 2,
   "id": "044341b5-4b51-408f-a697-9ba8c33323db",
   "metadata": {},
   "outputs": [
    {
     "name": "stdout",
     "output_type": "stream",
     "text": [
      "[master 8596359] Aula 33 (4:00)\n",
      " 6 files changed, 64 insertions(+), 28 deletions(-)\n",
      " rename labs/04-hcl/terraform/{ => modules}/server/server.tf (83%)\n",
      " delete mode 100644 labs/04-hcl/terraform/server/.server.tf.swp\n",
      " create mode 100644 labs/pdf/.ipynb_checkpoints/06-Terraform-Modules-checkpoint.pdf\n",
      "Enumerating objects: 21, done.\n",
      "Counting objects: 100% (21/21), done.\n",
      "Delta compression using up to 24 threads\n",
      "Compressing objects: 100% (10/10), done.\n",
      "Writing objects: 100% (13/13), 1.78 KiB | 1.78 MiB/s, done.\n",
      "Total 13 (delta 7), reused 0 (delta 0), pack-reused 0\n",
      "remote: Resolving deltas: 100% (7/7), completed with 7 local objects.\u001b[K\n",
      "To https://github.com/felipesveiga/terraform.git\n",
      "   ed56821..8596359  master -> master\n"
     ]
    }
   ],
   "source": [
    "! git add .\n",
    "! git commit -m 'Aula 40'\n",
    "! git push"
   ]
  },
  {
   "cell_type": "markdown",
   "id": "2549695d-5744-4569-a172-510ddfa70f1d",
   "metadata": {
    "editable": true,
    "slideshow": {
     "slide_type": ""
    },
    "tags": []
   },
   "source": [
    "<p style='color:red'> Vi Aula 38 e 39; Aula 40</p>"
   ]
  },
  {
   "cell_type": "markdown",
   "id": "81a313c9-4a31-4be2-bd0d-416dd336708e",
   "metadata": {
    "editable": true,
    "slideshow": {
     "slide_type": ""
    },
    "tags": []
   },
   "source": [
    "<p style='color:red'> Usar a imagem \"ubuntu/images/hvm-ssd/ubuntu-focal-20.04-amd64-server-*\" no Ubuntu Server </p>"
   ]
  }
 ],
 "metadata": {
  "kernelspec": {
   "display_name": "Python 3 (ipykernel)",
   "language": "python",
   "name": "python3"
  },
  "language_info": {
   "codemirror_mode": {
    "name": "ipython",
    "version": 3
   },
   "file_extension": ".py",
   "mimetype": "text/x-python",
   "name": "python",
   "nbconvert_exporter": "python",
   "pygments_lexer": "ipython3",
   "version": "3.10.12"
  }
 },
 "nbformat": 4,
 "nbformat_minor": 5
}

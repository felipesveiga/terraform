{
 "cells": [
  {
   "cell_type": "markdown",
   "id": "27fcfd30-7bb0-4062-b7df-a41447ad256e",
   "metadata": {},
   "source": [
    "<h1 style='font-size:40px'> Interact with Terraform Modules</h1>"
   ]
  },
  {
   "cell_type": "markdown",
   "id": "75b68afb-e038-4ba3-b285-d682035050f4",
   "metadata": {},
   "source": [
    "<h2 style='font-size:30px'> Terraform Modules </h2>\n",
    "<div> \n",
    "    <ul style='font-size:20px'> \n",
    "        <li>\n",
    "            Aula em que reforçamos o uso a importância e conveniência de módulos no Terraform.\n",
    "        </li>\n",
    "    </ul>\n",
    " </div>"
   ]
  },
  {
   "cell_type": "code",
   "execution_count": 1,
   "id": "044341b5-4b51-408f-a697-9ba8c33323db",
   "metadata": {},
   "outputs": [
    {
     "name": "stdout",
     "output_type": "stream",
     "text": [
      "[master ed56821] Aula 32 (3:40)\n",
      " 7 files changed, 234 insertions(+), 118 deletions(-)\n",
      " create mode 100644 .ipynb_checkpoints/06_terraform_modules-checkpoint.ipynb\n",
      " create mode 100644 06_terraform_modules.ipynb\n",
      " create mode 100644 labs/04-hcl/terraform/server/.server.tf.swp\n",
      " create mode 100644 labs/04-hcl/terraform/server/server.tf\n",
      " create mode 100644 labs/pdf/06-Terraform-Modules.pdf\n",
      "Enumerating objects: 20, done.\n",
      "Counting objects: 100% (20/20), done.\n",
      "Delta compression using up to 24 threads\n",
      "Compressing objects: 100% (12/12), done.\n",
      "Writing objects: 100% (13/13), 450.84 KiB | 28.18 MiB/s, done.\n",
      "Total 13 (delta 8), reused 0 (delta 0), pack-reused 0\n",
      "remote: Resolving deltas: 100% (8/8), completed with 6 local objects.\u001b[K\n",
      "To https://github.com/felipesveiga/terraform.git\n",
      "   d454c97..ed56821  master -> master\n"
     ]
    }
   ],
   "source": [
    "! git add .\n",
    "! git commit -m 'Aula 33 (4:00)'\n",
    "! git push"
   ]
  },
  {
   "cell_type": "markdown",
   "id": "2549695d-5744-4569-a172-510ddfa70f1d",
   "metadata": {
    "editable": true,
    "slideshow": {
     "slide_type": ""
    },
    "tags": []
   },
   "source": [
    "<p style='color:red'> Vi Aula 32; Iniciei Aula 33; Aula 33 (4:00)</p>"
   ]
  },
  {
   "cell_type": "markdown",
   "id": "81a313c9-4a31-4be2-bd0d-416dd336708e",
   "metadata": {
    "editable": true,
    "slideshow": {
     "slide_type": ""
    },
    "tags": []
   },
   "source": [
    "<p style='color:red'> Usar a imagem \"ubuntu/images/hvm-ssd/ubuntu-focal-20.04-amd64-server-*\" no Ubuntu Server </p>"
   ]
  }
 ],
 "metadata": {
  "kernelspec": {
   "display_name": "Python 3 (ipykernel)",
   "language": "python",
   "name": "python3"
  },
  "language_info": {
   "codemirror_mode": {
    "name": "ipython",
    "version": 3
   },
   "file_extension": ".py",
   "mimetype": "text/x-python",
   "name": "python",
   "nbconvert_exporter": "python",
   "pygments_lexer": "ipython3",
   "version": "3.10.12"
  }
 },
 "nbformat": 4,
 "nbformat_minor": 5
}

{
 "cells": [
  {
   "cell_type": "markdown",
   "id": "5074d9df-6890-4449-b045-689b50a5e875",
   "metadata": {},
   "source": [
    "<h1 style='font-size:40px'> Understand Terraform Basics</h1>"
   ]
  },
  {
   "cell_type": "markdown",
   "id": "ab1ad9a7-46f0-434d-9ab0-7d6cd390eebd",
   "metadata": {},
   "source": [
    "<h2 style='font-size:30px'> Terraform Basics</h2>\n",
    "<div> \n",
    "    <ul style='font-size:20px'> \n",
    "        <li>\n",
    "            Aula que introduzirá os principais comandos do Terraform.\n",
    "        </li>\n",
    "    </ul>\n",
    " </div>"
   ]
  },
  {
   "cell_type": "markdown",
   "id": "2e645250-de7c-4736-93c4-9af75944c86c",
   "metadata": {},
   "source": [
    "<h4 style='font-size:30px;font-style:italic;text-decoration:underline'> terraform init</h4>\n",
    "<div> \n",
    "    <ul style='font-size:20px'> \n",
    "        <li>\n",
    "            Executado, quando criamos qualquer arquivo de configuração em nosso diretório. Ele preparará o backend do projeto, além de baixar todos os plug-ins necessários para o deploy.\n",
    "        </li>\n",
    "    </ul>\n",
    " </div>"
   ]
  },
  {
   "cell_type": "markdown",
   "id": "df02fef9-f207-4c9e-a222-39edc382cca3",
   "metadata": {
    "jp-MarkdownHeadingCollapsed": true
   },
   "source": [
    "<h4 style='font-size:30px;font-style:italic;text-decoration:underline'> terraform validate</h4>\n",
    "<div> \n",
    "    <ul style='font-size:20px'> \n",
    "        <li>\n",
    "            Validador de sintaxe dos arquivos. Analisará se ocorreu algum erro de escrita.\n",
    "        </li>\n",
    "    </ul>\n",
    " </div>"
   ]
  },
  {
   "cell_type": "markdown",
   "id": "9557c058-45e9-4859-a478-51173537e2c9",
   "metadata": {},
   "source": [
    "<h4 style='font-size:30px;font-style:italic;text-decoration:underline'> terraform plan</h4>\n",
    "<div> \n",
    "    <ul style='font-size:20px'> \n",
    "        <li>\n",
    "            Comparará as configurações de nosso arquivo de state com o estado real de nossas aplicações na nuvem, a fim de atualizá-lo.\n",
    "        </li>\n",
    "        <li>\n",
    "            Uma vez feito isso, o comando comparará o arquivo de state com o de configurações. Caso este tenha diferenças, ele sugerirá a aplicação delas no ambiente de nuvem.\n",
    "        </li>\n",
    "    </ul>\n",
    " </div>"
   ]
  },
  {
   "cell_type": "markdown",
   "id": "e71effc1-b96e-4acb-ba2a-88bdb9eedb47",
   "metadata": {},
   "source": [
    "<h4 style='font-size:30px;font-style:italic;text-decoration:underline'> terraform apply</h4>\n",
    "<div> \n",
    "    <ul style='font-size:20px'> \n",
    "        <li>\n",
    "            Comando que aplicará o deploy, de fato!\n",
    "        </li>\n",
    "    </ul>\n",
    " </div>"
   ]
  },
  {
   "cell_type": "markdown",
   "id": "50dcbc04-ea59-4559-b0d6-5f8b867048f7",
   "metadata": {},
   "source": [
    "<h4 style='font-size:30px;font-style:italic;text-decoration:underline'> terraform destroy</h4>\n",
    "<div> \n",
    "    <ul style='font-size:20px'> \n",
    "        <li>\n",
    "            Comando de deleção dos recursos mencionados pelo arquivo de configuração.\n",
    "        </li>\n",
    "    </ul>\n",
    " </div>"
   ]
  },
  {
   "cell_type": "markdown",
   "id": "f3fd50a3-26df-455e-b4c0-720a71f868ce",
   "metadata": {
    "jp-MarkdownHeadingCollapsed": true
   },
   "source": [
    "<h3 style='font-size:30px;font-style:italic'> Salvamento de Plans</h3>\n",
    "<div> \n",
    "    <ul style='font-size:20px'> \n",
    "        <li> \n",
    "            Caso deseje, podemos salvar um determinado execution plan para um apply futuro. Para isso, digite `terraform plan -out &lt;plan_name&gt;`.\n",
    "        </li>\n",
    "        <li>\n",
    "            Para aplicá-lo, apenas informe `terraform apply &lt;plan_name&gt;`.\n",
    "        </li>\n",
    "    </ul>\n",
    " </div>"
   ]
  },
  {
   "cell_type": "markdown",
   "id": "2752c903-7706-49bd-b4b9-1bb297c67eda",
   "metadata": {},
   "source": [
    "<h3 style='font-size:30px;font-style:italic'> Destruction Plans</h3>\n",
    "<div> \n",
    "    <ul style='font-size:20px'> \n",
    "        <li> \n",
    "            Podemos gerar um plano de destruição, que detalhará a remoção de nossos recursos com `terraform plan -destroy`.\n",
    "        </li>\n",
    "    </ul>\n",
    " </div>"
   ]
  },
  {
   "cell_type": "code",
   "execution_count": 3,
   "id": "cfe89d02-d4c3-447c-a112-dbe29de88ec9",
   "metadata": {},
   "outputs": [
    {
     "name": "stdout",
     "output_type": "stream",
     "text": [
      "[master 9fd8cd5] Ficar testando os comandos de plan, apply e destroy ensinados\n",
      " 12 files changed, 949 insertions(+), 27 deletions(-)\n",
      " create mode 100644 labs/02-benefits-iaac/terraform/.terraform.lock.hcl\n",
      " create mode 100644 labs/02-benefits-iaac/terraform/.terraform/providers/registry.terraform.io/hashicorp/aws/5.55.0/linux_amd64/LICENSE.txt\n",
      " create mode 100755 labs/02-benefits-iaac/terraform/.terraform/providers/registry.terraform.io/hashicorp/aws/5.55.0/linux_amd64/terraform-provider-aws_v5.55.0_x5\n",
      " create mode 100644 labs/02-benefits-iaac/terraform/terraform.tfstate\n",
      " create mode 100644 labs/04-terraform-basics/.terraform.lock.hcl\n",
      " create mode 100644 labs/04-terraform-basics/.terraform/providers/registry.terraform.io/hashicorp/random/3.6.2/linux_amd64/LICENSE.txt\n",
      " create mode 100755 labs/04-terraform-basics/.terraform/providers/registry.terraform.io/hashicorp/random/3.6.2/linux_amd64/terraform-provider-random_v3.6.2_x5\n",
      " create mode 100644 labs/04-terraform-basics/main.tf\n",
      " create mode 100644 labs/04-terraform-basics/terraform.tfstate\n",
      " create mode 100644 labs/04-terraform-basics/terraform.tfstate.backup\n",
      "Enumerating objects: 39, done.\n",
      "Counting objects: 100% (38/38), done.\n",
      "Delta compression using up to 24 threads\n",
      "Compressing objects: 100% (18/18), done.\n",
      "Writing objects: 100% (32/32), 114.67 MiB | 5.99 MiB/s, done.\n",
      "Total 32 (delta 5), reused 0 (delta 0), pack-reused 0\n",
      "remote: Resolving deltas: 100% (5/5), completed with 3 local objects.\u001b[K\n",
      "remote: \u001b[1;31merror\u001b[m: Trace: d6fd71f8fde5762ce8f4c0c472ddda6c3122d7646ad677e44bbb610aac23605b\u001b[K\n",
      "remote: \u001b[1;31merror\u001b[m: See https://gh.io/lfs for more information.\u001b[K\n",
      "remote: \u001b[1;31merror\u001b[m: File labs/02-benefits-iaac/terraform/.terraform/providers/registry.terraform.io/hashicorp/aws/5.55.0/linux_amd64/terraform-provider-aws_v5.55.0_x5 is 491.41 MB; this exceeds GitHub's file size limit of 100.00 MB\u001b[K\n",
      "remote: \u001b[1;31merror\u001b[m: GH001: Large files detected. You may want to try Git Large File Storage - https://git-lfs.github.com.\u001b[K\n",
      "To https://github.com/felipesveiga/terraform.git\n",
      " \u001b[31m! [remote rejected]\u001b[m master -> master (pre-receive hook declined)\n",
      "\u001b[31merror: failed to push some refs to 'https://github.com/felipesveiga/terraform.git'\n",
      "\u001b[m"
     ]
    }
   ],
   "source": [
    "! git add .\n",
    "! git commit -m 'Ficar testando os comandos de plan, apply e destroy ensinados'\n",
    "! git push"
   ]
  },
  {
   "cell_type": "markdown",
   "id": "9226e6b9-13fe-4463-92f0-9b686b2310cb",
   "metadata": {
    "editable": true,
    "slideshow": {
     "slide_type": ""
    },
    "tags": []
   },
   "source": [
    "<p style='color:red'> Vi Aula 9; Ficar testando os comandos de plan, apply e destroy ensinados; Aula 10</p>"
   ]
  }
 ],
 "metadata": {
  "kernelspec": {
   "display_name": "Python 3 (ipykernel)",
   "language": "python",
   "name": "python3"
  },
  "language_info": {
   "codemirror_mode": {
    "name": "ipython",
    "version": 3
   },
   "file_extension": ".py",
   "mimetype": "text/x-python",
   "name": "python",
   "nbconvert_exporter": "python",
   "pygments_lexer": "ipython3",
   "version": "3.10.12"
  }
 },
 "nbformat": 4,
 "nbformat_minor": 5
}

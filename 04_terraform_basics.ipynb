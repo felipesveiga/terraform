{
 "cells": [
  {
   "cell_type": "markdown",
   "id": "5074d9df-6890-4449-b045-689b50a5e875",
   "metadata": {},
   "source": [
    "<h1 style='font-size:40px'> Understand Terraform Basics</h1>"
   ]
  },
  {
   "cell_type": "markdown",
   "id": "ab1ad9a7-46f0-434d-9ab0-7d6cd390eebd",
   "metadata": {},
   "source": [
    "<h2 style='font-size:30px'> Terraform Basics</h2>\n",
    "<div> \n",
    "    <ul style='font-size:20px'> \n",
    "        <li>\n",
    "            Aula que introduzirá os principais comandos do Terraform.\n",
    "        </li>\n",
    "    </ul>\n",
    " </div>"
   ]
  },
  {
   "cell_type": "markdown",
   "id": "2e645250-de7c-4736-93c4-9af75944c86c",
   "metadata": {},
   "source": [
    "<h4 style='font-size:30px;font-style:italic;text-decoration:underline'> terraform init</h4>\n",
    "<div> \n",
    "    <ul style='font-size:20px'> \n",
    "        <li>\n",
    "            Executado, quando criamos qualquer arquivo de configuração em nosso diretório. Ele preparará o backend do projeto, além de baixar todos os plug-ins necessários para o deploy.\n",
    "        </li>\n",
    "    </ul>\n",
    " </div>"
   ]
  },
  {
   "cell_type": "markdown",
   "id": "df02fef9-f207-4c9e-a222-39edc382cca3",
   "metadata": {
    "jp-MarkdownHeadingCollapsed": true
   },
   "source": [
    "<h4 style='font-size:30px;font-style:italic;text-decoration:underline'> terraform validate</h4>\n",
    "<div> \n",
    "    <ul style='font-size:20px'> \n",
    "        <li>\n",
    "            Validador de sintaxe dos arquivos. Analisará se ocorreu algum erro de escrita.\n",
    "        </li>\n",
    "    </ul>\n",
    " </div>"
   ]
  },
  {
   "cell_type": "markdown",
   "id": "9557c058-45e9-4859-a478-51173537e2c9",
   "metadata": {},
   "source": [
    "<h4 style='font-size:30px;font-style:italic;text-decoration:underline'> terraform plan</h4>\n",
    "<div> \n",
    "    <ul style='font-size:20px'> \n",
    "        <li>\n",
    "            Comparará as configurações de nosso arquivo de state com o estado real de nossas aplicações na nuvem, a fim de atualizá-lo.\n",
    "        </li>\n",
    "        <li>\n",
    "            Uma vez feito isso, o comando comparará o arquivo de state com o de configurações. Caso este tenha diferenças, ele sugerirá a aplicação delas no ambiente de nuvem.\n",
    "        </li>\n",
    "    </ul>\n",
    " </div>"
   ]
  },
  {
   "cell_type": "markdown",
   "id": "e71effc1-b96e-4acb-ba2a-88bdb9eedb47",
   "metadata": {},
   "source": [
    "<h4 style='font-size:30px;font-style:italic;text-decoration:underline'> terraform apply</h4>\n",
    "<div> \n",
    "    <ul style='font-size:20px'> \n",
    "        <li>\n",
    "            Comando que aplicará o deploy, de fato!\n",
    "        </li>\n",
    "        <li>\n",
    "            Uma vez executado, o arquivo de state (em `resources`) listará todos os recursos atualmente tidos pela sua aplicação.\n",
    "        </li>\n",
    "    </ul>\n",
    " </div>"
   ]
  },
  {
   "cell_type": "markdown",
   "id": "50dcbc04-ea59-4559-b0d6-5f8b867048f7",
   "metadata": {},
   "source": [
    "<h4 style='font-size:30px;font-style:italic;text-decoration:underline'> terraform destroy</h4>\n",
    "<div> \n",
    "    <ul style='font-size:20px'> \n",
    "        <li>\n",
    "            Comando de deleção dos recursos mencionados pelo arquivo de configuração.\n",
    "        </li>\n",
    "    </ul>\n",
    " </div>"
   ]
  },
  {
   "cell_type": "markdown",
   "id": "f3fd50a3-26df-455e-b4c0-720a71f868ce",
   "metadata": {
    "jp-MarkdownHeadingCollapsed": true
   },
   "source": [
    "<h3 style='font-size:30px;font-style:italic'> Salvamento de Plans</h3>\n",
    "<div> \n",
    "    <ul style='font-size:20px'> \n",
    "        <li> \n",
    "            Caso deseje, podemos salvar um determinado execution plan para um apply futuro. Para isso, digite `terraform plan -out &lt;plan_name&gt;`.\n",
    "        </li>\n",
    "        <li>\n",
    "            Para aplicá-lo, apenas informe `terraform apply &lt;plan_name&gt;`.\n",
    "        </li>\n",
    "    </ul>\n",
    " </div>"
   ]
  },
  {
   "cell_type": "markdown",
   "id": "2752c903-7706-49bd-b4b9-1bb297c67eda",
   "metadata": {},
   "source": [
    "<h3 style='font-size:30px;font-style:italic'> Destruction Plans</h3>\n",
    "<div> \n",
    "    <ul style='font-size:20px'> \n",
    "        <li> \n",
    "            Podemos gerar um plano de destruição, que detalhará a remoção de nossos recursos com `terraform plan -destroy`.\n",
    "        </li>\n",
    "        <li>\n",
    "            Caso você salve um determinado plano de destruição `-out`, você deverá executá-lo com `apply`, e não `destroy`.  \n",
    "        </li>\n",
    "    </ul>\n",
    " </div>"
   ]
  },
  {
   "cell_type": "markdown",
   "id": "3cbe3abd-22be-4020-b3f8-bf399b76ef0c",
   "metadata": {},
   "source": [
    "<h2 style='font-size:30px'> HashiCorp Configuration Language (HCL)\n",
    "</h2>\n",
    "<div> \n",
    "    <ul style='font-size:20px'> \n",
    "        <li>\n",
    "            Os arquivos .tf seguem uma sintaxe muita parecida com a do json.\n",
    "        </li>\n",
    "        <li>\n",
    "            A primeira palavra de cada declaração deve informar o que você deseja provisionar (resource, por exemplo). Esse termo será seguido por duas outras strings, uma com o nome do tipo de componente a ser requisitado, e a outra com um apelido definido pelo próprio usuário.\n",
    "        </li>\n",
    "        <li>\n",
    "            Em seguida, você deverá especificar um dicionário com as configurações do recurso da ser requisitado.\n",
    "        </li>\n",
    "    </ul>\n",
    "    <center style='margin-top:20px'>\n",
    "                <img src='img/04_hcl_example.png'>\n",
    "            </center>\n",
    " </div>"
   ]
  },
  {
   "cell_type": "markdown",
   "id": "507ae39e-41cb-44ca-8148-87a844ce131f",
   "metadata": {},
   "source": [
    "<h2 style='font-size:30px'>  Terraform Plug-in Based Architecture\n",
    "</h2>\n",
    "<div> \n",
    "    <ul style='font-size:20px'> \n",
    "        <li>\n",
    "            A interação do Terraform com diferentes provedores de nuvem ocorre por meio de plug-ins. Eles são declarados logo no início de nosso main.tf.\n",
    "        </li>\n",
    "        <li>\n",
    "            O arquivo terraform.tf declara as versões do Terraform e dos provedores para que o apply possa ser realizado. O comando `terraform providers` sinalizará quais provedores são necessários para o projeto, com base nesse arquivo.\n",
    "        </li>\n",
    "        <li>\n",
    "            `terraform version`, por sua vez, sinaliza as versões dos plug-ins atualmente instaladas em sua máquina.\n",
    "        </li>\n",
    "    </ul>\n",
    "     <figure>\n",
    "        <center style='margin-top:20px'>\n",
    "            <img src='img/04_terraform_tf.png'>\n",
    "                <figcaption> Exemplo de um terraform.tf</figcaption>\n",
    "        </center>\n",
    "    </figure>\n",
    " </div>"
   ]
  },
  {
   "cell_type": "code",
   "execution_count": 6,
   "id": "cfe89d02-d4c3-447c-a112-dbe29de88ec9",
   "metadata": {},
   "outputs": [
    {
     "name": "stdout",
     "output_type": "stream",
     "text": [
      "[master 11cbb15] Aula 11\n",
      " 5 files changed, 36 insertions(+), 41 deletions(-)\n",
      " create mode 100644 img/04_hcl_example.png\n",
      " create mode 100644 labs/04-hcl/terraform/ec2-deploy\n",
      "Enumerating objects: 18, done.\n",
      "Counting objects: 100% (18/18), done.\n",
      "Delta compression using up to 24 threads\n",
      "Compressing objects: 100% (9/9), done.\n",
      "Writing objects: 100% (11/11), 22.65 KiB | 22.65 MiB/s, done.\n",
      "Total 11 (delta 5), reused 0 (delta 0), pack-reused 0\n",
      "remote: Resolving deltas: 100% (5/5), completed with 5 local objects.\u001b[K\n",
      "To https://github.com/felipesveiga/terraform.git\n",
      "   3a19d60..11cbb15  master -> master\n"
     ]
    }
   ],
   "source": [
    "! git add .\n",
    "! git commit -m 'Aula 12'\n",
    "! git push"
   ]
  },
  {
   "cell_type": "markdown",
   "id": "9226e6b9-13fe-4463-92f0-9b686b2310cb",
   "metadata": {
    "editable": true,
    "slideshow": {
     "slide_type": ""
    },
    "tags": []
   },
   "source": [
    "<p style='color:red'>Vi Aula 11; Aula 12</p>"
   ]
  }
 ],
 "metadata": {
  "kernelspec": {
   "display_name": "Python 3 (ipykernel)",
   "language": "python",
   "name": "python3"
  },
  "language_info": {
   "codemirror_mode": {
    "name": "ipython",
    "version": 3
   },
   "file_extension": ".py",
   "mimetype": "text/x-python",
   "name": "python",
   "nbconvert_exporter": "python",
   "pygments_lexer": "ipython3",
   "version": "3.10.12"
  }
 },
 "nbformat": 4,
 "nbformat_minor": 5
}

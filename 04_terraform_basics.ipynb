{
 "cells": [
  {
   "cell_type": "markdown",
   "id": "5074d9df-6890-4449-b045-689b50a5e875",
   "metadata": {},
   "source": [
    "<h1 style='font-size:40px'> Understand Terraform Basics</h1>"
   ]
  },
  {
   "cell_type": "markdown",
   "id": "ab1ad9a7-46f0-434d-9ab0-7d6cd390eebd",
   "metadata": {},
   "source": [
    "<h2 style='font-size:30px'> Terraform Basics</h2>\n",
    "<div> \n",
    "    <ul style='font-size:20px'> \n",
    "        <li>\n",
    "            Aula que introduzirá os principais comandos do Terraform.\n",
    "        </li>\n",
    "    </ul>\n",
    " </div>"
   ]
  },
  {
   "cell_type": "markdown",
   "id": "2e645250-de7c-4736-93c4-9af75944c86c",
   "metadata": {},
   "source": [
    "<h4 style='font-size:30px;font-style:italic;text-decoration:underline'> terraform init</h4>\n",
    "<div> \n",
    "    <ul style='font-size:20px'> \n",
    "        <li>\n",
    "            Executado, quando criamos qualquer arquivo de configuração em nosso diretório. Ele preparará o backend do projeto, além de baixar todos os plug-ins necessários para o deploy.\n",
    "        </li>\n",
    "    </ul>\n",
    " </div>"
   ]
  },
  {
   "cell_type": "markdown",
   "id": "df02fef9-f207-4c9e-a222-39edc382cca3",
   "metadata": {
    "jp-MarkdownHeadingCollapsed": true
   },
   "source": [
    "<h4 style='font-size:30px;font-style:italic;text-decoration:underline'> terraform validate</h4>\n",
    "<div> \n",
    "    <ul style='font-size:20px'> \n",
    "        <li>\n",
    "            Validador de sintaxe dos arquivos. Analisará se ocorreu algum erro de escrita.\n",
    "        </li>\n",
    "    </ul>\n",
    " </div>"
   ]
  },
  {
   "cell_type": "markdown",
   "id": "9557c058-45e9-4859-a478-51173537e2c9",
   "metadata": {},
   "source": [
    "<h4 style='font-size:30px;font-style:italic;text-decoration:underline'> terraform plan</h4>\n",
    "<div> \n",
    "    <ul style='font-size:20px'> \n",
    "        <li>\n",
    "            Comparará as configurações de nosso arquivo de state com o estado real de nossas aplicações na nuvem, a fim de atualizá-lo.\n",
    "        </li>\n",
    "        <li>\n",
    "            Uma vez feito isso, o comando comparará o arquivo de state com o de configurações. Caso este tenha diferenças, ele sugerirá a aplicação delas no ambiente de nuvem.\n",
    "        </li>\n",
    "    </ul>\n",
    " </div>"
   ]
  },
  {
   "cell_type": "markdown",
   "id": "e71effc1-b96e-4acb-ba2a-88bdb9eedb47",
   "metadata": {},
   "source": [
    "<h4 style='font-size:30px;font-style:italic;text-decoration:underline'> terraform apply</h4>\n",
    "<div> \n",
    "    <ul style='font-size:20px'> \n",
    "        <li>\n",
    "            Comando que aplicará o deploy, de fato!\n",
    "        </li>\n",
    "        <li>\n",
    "            Uma vez executado, o arquivo de state (em `resources`) listará todos os recursos atualmente tidos pela sua aplicação.\n",
    "        </li>\n",
    "    </ul>\n",
    " </div>"
   ]
  },
  {
   "cell_type": "markdown",
   "id": "50dcbc04-ea59-4559-b0d6-5f8b867048f7",
   "metadata": {},
   "source": [
    "<h4 style='font-size:30px;font-style:italic;text-decoration:underline'> terraform destroy</h4>\n",
    "<div> \n",
    "    <ul style='font-size:20px'> \n",
    "        <li>\n",
    "            Comando de deleção dos recursos mencionados pelo arquivo de configuração.\n",
    "        </li>\n",
    "    </ul>\n",
    " </div>"
   ]
  },
  {
   "cell_type": "markdown",
   "id": "f3fd50a3-26df-455e-b4c0-720a71f868ce",
   "metadata": {
    "jp-MarkdownHeadingCollapsed": true
   },
   "source": [
    "<h3 style='font-size:30px;font-style:italic'> Salvamento de Plans</h3>\n",
    "<div> \n",
    "    <ul style='font-size:20px'> \n",
    "        <li> \n",
    "            Caso deseje, podemos salvar um determinado execution plan para um apply futuro. Para isso, digite `terraform plan -out &lt;plan_name&gt;`.\n",
    "        </li>\n",
    "        <li>\n",
    "            Para aplicá-lo, apenas informe `terraform apply &lt;plan_name&gt;`.\n",
    "        </li>\n",
    "    </ul>\n",
    " </div>"
   ]
  },
  {
   "cell_type": "markdown",
   "id": "2752c903-7706-49bd-b4b9-1bb297c67eda",
   "metadata": {},
   "source": [
    "<h3 style='font-size:30px;font-style:italic'> Destruction Plans</h3>\n",
    "<div> \n",
    "    <ul style='font-size:20px'> \n",
    "        <li> \n",
    "            Podemos gerar um plano de destruição, que detalhará a remoção de nossos recursos com `terraform plan -destroy`.\n",
    "        </li>\n",
    "        <li>\n",
    "            Caso você salve um determinado plano de destruição `-out`, você deverá executá-lo com `apply`, e não `destroy`.  \n",
    "        </li>\n",
    "    </ul>\n",
    " </div>"
   ]
  },
  {
   "cell_type": "markdown",
   "id": "3cbe3abd-22be-4020-b3f8-bf399b76ef0c",
   "metadata": {},
   "source": [
    "<h2 style='font-size:30px'> HashiCorp Configuration Language (HCL)\n",
    "</h2>\n",
    "<div> \n",
    "    <ul style='font-size:20px'> \n",
    "        <li>\n",
    "            Os arquivos .tf seguem uma sintaxe muita parecida com a do json.\n",
    "        </li>\n",
    "        <li>\n",
    "            Na primeira palavra de cada declaração deve informar o que você deseja provisionar (resource, por exemplo). Esse termo será seguido por duas outras strings, uma com o nome do tipo de componente a ser requisitado, e a outra com um apelido definido pelo próprio usuário.\n",
    "        </li>\n",
    "    </ul>\n",
    " </div>"
   ]
  },
  {
   "cell_type": "code",
   "execution_count": null,
   "id": "12c0fca1-a1e4-4f04-b57d-2180ab08c073",
   "metadata": {},
   "outputs": [],
   "source": [
    "# Como desconsiderar os arquivos dos diretórios .terraform do push?"
   ]
  },
  {
   "cell_type": "code",
   "execution_count": 5,
   "id": "cfe89d02-d4c3-447c-a112-dbe29de88ec9",
   "metadata": {},
   "outputs": [
    {
     "name": "stdout",
     "output_type": "stream",
     "text": [
      "[master cc23f27] Ficar testando os comandos de plan, apply e destroy ensinados\n",
      " 4 files changed, 177 insertions(+), 1 deletion(-)\n",
      " create mode 100644 labs/04-hcl/terraform/.terraform.lock.hcl\n",
      " create mode 100644 labs/04-hcl/terraform/main.tf\n",
      " create mode 100644 labs/04-hcl/terraform/variables.tf\n",
      "Enumerating objects: 69, done.\n",
      "Counting objects: 100% (68/68), done.\n",
      "Delta compression using up to 24 threads\n",
      "Compressing objects: 100% (44/44), done.\n",
      "Writing objects: 100% (62/62), 114.67 MiB | 6.58 MiB/s, done.\n",
      "Total 62 (delta 21), reused 0 (delta 0), pack-reused 0\n",
      "remote: Resolving deltas: 100% (21/21), completed with 3 local objects.\u001b[K\n",
      "remote: \u001b[1;31merror\u001b[m: Trace: 6d7d03ff912e49d2a6de1a02ed1311600d7433dd298ac7c1d461cde89ff7c3e9\u001b[K\n",
      "remote: \u001b[1;31merror\u001b[m: See https://gh.io/lfs for more information.\u001b[K\n",
      "remote: \u001b[1;31merror\u001b[m: File labs/02-benefits-iaac/terraform/.terraform/providers/registry.terraform.io/hashicorp/aws/5.55.0/linux_amd64/terraform-provider-aws_v5.55.0_x5 is 491.41 MB; this exceeds GitHub's file size limit of 100.00 MB\u001b[K\n",
      "remote: \u001b[1;31merror\u001b[m: GH001: Large files detected. You may want to try Git Large File Storage - https://git-lfs.github.com.\u001b[K\n",
      "To https://github.com/felipesveiga/terraform.git\n",
      " \u001b[31m! [remote rejected]\u001b[m master -> master (pre-receive hook declined)\n",
      "\u001b[31merror: failed to push some refs to 'https://github.com/felipesveiga/terraform.git'\n",
      "\u001b[m"
     ]
    }
   ],
   "source": [
    "! git add .\n",
    "! git commit -m 'Ficar testando os comandos de plan, apply e destroy ensinados'\n",
    "! git push"
   ]
  },
  {
   "cell_type": "markdown",
   "id": "9226e6b9-13fe-4463-92f0-9b686b2310cb",
   "metadata": {
    "editable": true,
    "slideshow": {
     "slide_type": ""
    },
    "tags": []
   },
   "source": [
    "<p style='color:red'>Iniciei Aula 10;  Aula 10 (5:25)</p>"
   ]
  }
 ],
 "metadata": {
  "kernelspec": {
   "display_name": "Python 3 (ipykernel)",
   "language": "python",
   "name": "python3"
  },
  "language_info": {
   "codemirror_mode": {
    "name": "ipython",
    "version": 3
   },
   "file_extension": ".py",
   "mimetype": "text/x-python",
   "name": "python",
   "nbconvert_exporter": "python",
   "pygments_lexer": "ipython3",
   "version": "3.10.12"
  }
 },
 "nbformat": 4,
 "nbformat_minor": 5
}

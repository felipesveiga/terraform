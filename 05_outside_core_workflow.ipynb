{
 "cells": [
  {
   "cell_type": "markdown",
   "id": "55d1c57b-2bf0-41e7-a6bd-0b292350f9af",
   "metadata": {},
   "source": [
    "<h1 style='font-size:40px'> Use Terraform Outside of Core Workflow</h1>"
   ]
  },
  {
   "cell_type": "markdown",
   "id": "d728b011-7600-43d5-a052-e6110c8de398",
   "metadata": {},
   "source": [
    "<h2 style='font-size:30px'> Auto Formatting Terraform Code</h2>\n",
    "<div> \n",
    "    <ul style='font-size:20px'> \n",
    "        <li>\n",
    "            Esta aula apenas enfatiza a importância do comando `terraform fmt` para a formatação dos arquivos.\n",
    "        </li>\n",
    "    </ul>\n",
    " </div>"
   ]
  },
  {
   "cell_type": "markdown",
   "id": "994b2f35-3686-4de4-94d3-cbd3dafe58c9",
   "metadata": {},
   "source": [
    "<h2 style='font-size:30px'> Replace Resources using Terraform Taint</h2>\n",
    "<div> \n",
    "    <ul style='font-size:20px'> \n",
    "        <li>\n",
    "            É possível que, mesmo após um apply, desejemos recriar um determinado recurso em nosso provedor. O que poderíamos fazer seria aplicar um taint a ele (`terraform taint &lt;resource_name.resource_nickname&gt;`).\n",
    "        </li>\n",
    "        <li>\n",
    "            Com ele, o Terraform automaticamente recriará o recurso em nosso próximo apply!\n",
    "        </li>\n",
    "        <li>\n",
    "            Observe que, havendo erro no deploy de algum recurso, o Terraform o marcará com taint automaticamente.\n",
    "        </li>\n",
    "    </ul>\n",
    " </div>"
   ]
  },
  {
   "cell_type": "markdown",
   "id": "63e7fc74-baeb-424d-b626-0dfbde72a162",
   "metadata": {},
   "source": [
    "<h3 style='font-size:30px;font-style:italic'> apply -replace</h3>\n",
    "<div> \n",
    "    <ul style='font-size:20px'>\n",
    "        <li> \n",
    "            Em versões futuras do Terraform, é recomendado preterirmos o comando taint para substituição do recurso. Ao invés disso, deveremos usar o comando <i> apply</i> com a flag `-replace=&lt;resource_name.resource_nickname&gt;`.\n",
    "        </li>\n",
    "     </ul>\n",
    "</div>"
   ]
  },
  {
   "cell_type": "markdown",
   "id": "99a2366a-f5ee-42a6-806c-0915e1c51292",
   "metadata": {},
   "source": [
    "<h2 style='font-size:30px'> \n",
    "    <a href='https://spacelift.io/blog/importing-exisiting-infrastructure-into-terraform'>Terraform Import\n",
    "    </a>\n",
    "</h2>\n",
    "<div> \n",
    "    <ul style='font-size:20px'> \n",
    "        <li>\n",
    "            O `terraform import` é um comando que sincroniza o nosso arquivo de state com as configurações de recursos que não foram gerados pelo nosso main.tf (manualmente, por exemplo).\n",
    "        </li>\n",
    "        <li>\n",
    "            Apenas observe que, uma vez aplicado o comando, apenas o arquivo de state receberá as informações do recurso; já o main.tf não.\n",
    "        </li>\n",
    "        <li>\n",
    "            Isso significa que, uma vez importado o recurso, você deverá registrar toda a sua configuração no main. Caso o contrário, ele poderá ser destruído, ou substituído por outro com configuração distinta.\n",
    "        </li>\n",
    "    </ul>\n",
    " </div>"
   ]
  },
  {
   "cell_type": "markdown",
   "id": "34ebb4c4-6c17-47ed-b6c2-7a2780f314c8",
   "metadata": {},
   "source": [
    "<h3 style='font-size:30px;font-style:italic'> Por que usar `terraform import`?</h3>\n",
    "<div> \n",
    "    <ul style='font-size:20px'>\n",
    "        <li> \n",
    "            Sincronismo de seu state com informações de recursos provisionados por ClickOps.\n",
    "        </li>\n",
    "        <li>\n",
    "            Recuperação de dados, em caso de perda de seu state.\n",
    "        </li>\n",
    "     </ul>\n",
    "</div>"
   ]
  },
  {
   "cell_type": "code",
   "execution_count": null,
   "id": "bceae785-28ce-4b2e-8a92-65867c8226a9",
   "metadata": {},
   "outputs": [],
   "source": [
    "# Observação: use `terraform state list`, para obter a relação de todos os recursos\n",
    "# disponibilizados.\n",
    "# `terraform state show <resource_name.resource_nickname>` mostrará as configurações do recurso\n",
    "# em questão."
   ]
  },
  {
   "cell_type": "markdown",
   "id": "cd101f95-21f0-4d89-b097-dcf7356df010",
   "metadata": {},
   "source": [
    "<h2 style='font-size:30px'> \n",
    "    Terraform Workspaces - OSS\n",
    "</h2>\n",
    "<div> \n",
    "    <ul style='font-size:20px'> \n",
    "        <li>\n",
    "            Workspaces são como ambientes virtuais do Terraform, em que isolamos diferentes arquivos de state.\n",
    "        </li>\n",
    "        <li>\n",
    "            Uma boa prática a ser feita seria criarmos workspaces para cada ambiente de nossa empresa (dev, hom e prod).\n",
    "        </li>\n",
    "    </ul>\n",
    " </div>"
   ]
  },
  {
   "cell_type": "markdown",
   "id": "907f44e5-04ec-4fc6-84dc-c82728900214",
   "metadata": {},
   "source": [
    "<h2 style='font-size:30px'> \n",
    "    Terraform State CLI\n",
    "</h2>\n",
    "<div> \n",
    "    <ul style='font-size:20px'> \n",
    "        <li>\n",
    "            `terraform state` oferece uma série de comandos que podem ser executados para consultarmos dados do arquivo <i> terraform.tfstate</i>.\n",
    "        </li>\n",
    "        <li>\n",
    "            Use `terraform state list` menciona o nome de todos os recursos contidos no documento. O comando <i> show &lt;resource_name.resource_nickname&gt;</i> menciona toda a configuração de um determinado recurso.\n",
    "        </li>\n",
    "    </ul>\n",
    " </div>"
   ]
  },
  {
   "cell_type": "markdown",
   "id": "bacf4a38-c8e3-4300-8e95-900fe5e9a26c",
   "metadata": {},
   "source": [
    "<h2 style='font-size:30px'> \n",
    "    Debugging Terraform\n",
    "</h2>\n",
    "<div> \n",
    "    <ul style='font-size:20px'> \n",
    "        <li>\n",
    "            Todos os comandos da CLI do Terraform são capazes de lançar logs durante sua execução. Para isso, basta definir a variável de ambiente <i> TF_LOG=&lt;LOG_LEVEL&gt;</i>. \n",
    "        </li>\n",
    "        <li>\n",
    "            Caso deseje que os logs sejam armazenados num arquivo próprio, defina a variável <i> TF_LOG_PATH=&lt;PATH_FILE&gt;</i>.\n",
    "        </li>\n",
    "    </ul>\n",
    " </div>"
   ]
  },
  {
   "cell_type": "code",
   "execution_count": 4,
   "id": "5313ea56-a596-422d-b3fc-f159853f4c55",
   "metadata": {},
   "outputs": [
    {
     "name": "stdout",
     "output_type": "stream",
     "text": [
      "[master d6a7723] Aula 30\n",
      " 4 files changed, 89 insertions(+), 17 deletions(-)\n",
      " delete mode 100644 labs/04-hcl/terraform/.terraform.tf.swp\n",
      "Enumerating objects: 15, done.\n",
      "Counting objects: 100% (15/15), done.\n",
      "Delta compression using up to 24 threads\n",
      "Compressing objects: 100% (7/7), done.\n",
      "Writing objects: 100% (8/8), 1009 bytes | 1009.00 KiB/s, done.\n",
      "Total 8 (delta 6), reused 0 (delta 0), pack-reused 0\n",
      "remote: Resolving deltas: 100% (6/6), completed with 6 local objects.\u001b[K\n",
      "To https://github.com/felipesveiga/terraform.git\n",
      "   dea4c6f..d6a7723  master -> master\n"
     ]
    }
   ],
   "source": [
    "! git add .\n",
    "! git commit -m 'Quiz seção 5'\n",
    "! git push"
   ]
  },
  {
   "cell_type": "markdown",
   "id": "707fc116-e9e9-4ab3-aac4-b6c1e961f850",
   "metadata": {
    "editable": true,
    "slideshow": {
     "slide_type": ""
    },
    "tags": []
   },
   "source": [
    "<p style='color:red'> Vi Aula 30 e Aula 31; Quiz seção 5</p>"
   ]
  },
  {
   "cell_type": "markdown",
   "id": "79215d53-f3ec-411d-98b0-8bcb554df37f",
   "metadata": {
    "editable": true,
    "slideshow": {
     "slide_type": ""
    },
    "tags": []
   },
   "source": [
    "<p style='color:red'> Usar a imagem \"ubuntu/images/hvm-ssd/ubuntu-focal-20.04-amd64-server-*\" no Ubuntu Server </p>"
   ]
  }
 ],
 "metadata": {
  "kernelspec": {
   "display_name": "texts-same-article",
   "language": "python",
   "name": "texts-same-article"
  },
  "language_info": {
   "codemirror_mode": {
    "name": "ipython",
    "version": 3
   },
   "file_extension": ".py",
   "mimetype": "text/x-python",
   "name": "python",
   "nbconvert_exporter": "python",
   "pygments_lexer": "ipython3",
   "version": "3.10.12"
  }
 },
 "nbformat": 4,
 "nbformat_minor": 5
}

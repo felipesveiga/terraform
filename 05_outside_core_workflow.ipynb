{
 "cells": [
  {
   "cell_type": "markdown",
   "id": "55d1c57b-2bf0-41e7-a6bd-0b292350f9af",
   "metadata": {},
   "source": [
    "<h1 style='font-size:40px'> Use Terraform Outside of Core Workflow</h1>"
   ]
  },
  {
   "cell_type": "markdown",
   "id": "d728b011-7600-43d5-a052-e6110c8de398",
   "metadata": {},
   "source": [
    "<h2 style='font-size:30px'> Auto Formatting Terraform Code</h2>\n",
    "<div> \n",
    "    <ul style='font-size:20px'> \n",
    "        <li>\n",
    "            Esta aula apenas enfatiza a importância do comando `terraform fmt` para a formatação dos arquivos.\n",
    "        </li>\n",
    "    </ul>\n",
    " </div>"
   ]
  },
  {
   "cell_type": "markdown",
   "id": "994b2f35-3686-4de4-94d3-cbd3dafe58c9",
   "metadata": {},
   "source": [
    "<h2 style='font-size:30px'> Replace Resources using Terraform Taint</h2>\n",
    "<div> \n",
    "    <ul style='font-size:20px'> \n",
    "        <li>\n",
    "            É possível que, mesmo após um apply, desejemos recriar um determinado recurso em nosso provedor. O que poderíamos fazer seria aplicar um taint a ele (`terraform taint &lt;resource_name.resource_nickname&gt;`).\n",
    "        </li>\n",
    "        <li>\n",
    "            Com ele, o Terraform automaticamente recriará o recurso em nosso próximo apply!\n",
    "        </li>\n",
    "        <li>\n",
    "            Observe que, havendo erro no deploy de algum recurso, o Terraform o marcará com taint automaticamente.\n",
    "        </li>\n",
    "    </ul>\n",
    " </div>"
   ]
  },
  {
   "cell_type": "markdown",
   "id": "63e7fc74-baeb-424d-b626-0dfbde72a162",
   "metadata": {},
   "source": [
    "<h3 style='font-size:30px;font-style:italic'> apply -replace</h3>\n",
    "<div> \n",
    "    <ul style='font-size:20px'>\n",
    "        <li> \n",
    "            Em versões futuras do Terraform, é recomendado preterirmos o comando taint para substituição do recurso. Ao invés disso, deveremos usar o comando <i> apply</i> com a flag `-replace=&lt;resource_name.resource_nickname&gt;`.\n",
    "        </li>\n",
    "     </ul>\n",
    "</div>"
   ]
  },
  {
   "cell_type": "markdown",
   "id": "99a2366a-f5ee-42a6-806c-0915e1c51292",
   "metadata": {},
   "source": [
    "<h2 style='font-size:30px'> \n",
    "    <a href='https://spacelift.io/blog/importing-exisiting-infrastructure-into-terraform'>Terraform Import\n",
    "    </a>\n",
    "</h2>\n",
    "<div> \n",
    "    <ul style='font-size:20px'> \n",
    "        <li>\n",
    "            O `terraform import` é um comando que sincroniza o nosso arquivo de state com as configurações de recursos que não foram gerados pelo nosso main.tf (manualmente, por exemplo).\n",
    "        </li>\n",
    "        <li>\n",
    "            Apenas observe que, uma vez aplicado o comando, apenas o arquivo de state receberá as informações do recurso; já o main.tf não.\n",
    "        </li>\n",
    "    </ul>\n",
    " </div>"
   ]
  },
  {
   "cell_type": "code",
   "execution_count": null,
   "id": "bceae785-28ce-4b2e-8a92-65867c8226a9",
   "metadata": {},
   "outputs": [],
   "source": [
    "# Observação: use `terraform state list`, para obter a relação de todos os recursos\n",
    "# disponibilizados.\n",
    "# `terraform state show <resource_name.resource_nickname>` mostrará as configurações do recurso\n",
    "# em questão."
   ]
  },
  {
   "cell_type": "code",
   "execution_count": 2,
   "id": "5313ea56-a596-422d-b3fc-f159853f4c55",
   "metadata": {},
   "outputs": [
    {
     "name": "stdout",
     "output_type": "stream",
     "text": [
      "[master b7cee7e] Fazer anotações Aula 28\n",
      " 2 files changed, 74 insertions(+), 28 deletions(-)\n",
      "Enumerating objects: 7, done.\n",
      "Counting objects: 100% (7/7), done.\n",
      "Delta compression using up to 24 threads\n",
      "Compressing objects: 100% (4/4), done.\n",
      "Writing objects: 100% (4/4), 1.10 KiB | 1.10 MiB/s, done.\n",
      "Total 4 (delta 3), reused 0 (delta 0), pack-reused 0\n",
      "remote: Resolving deltas: 100% (3/3), completed with 3 local objects.\u001b[K\n",
      "To https://github.com/felipesveiga/terraform.git\n",
      "   09ba20a..b7cee7e  master -> master\n"
     ]
    }
   ],
   "source": [
    "! git add .\n",
    "! git commit -m 'Fazer anotações Aula 28'\n",
    "! git push"
   ]
  },
  {
   "cell_type": "markdown",
   "id": "707fc116-e9e9-4ab3-aac4-b6c1e961f850",
   "metadata": {
    "editable": true,
    "slideshow": {
     "slide_type": ""
    },
    "tags": []
   },
   "source": [
    "<p style='color:red'> Iniciei anotações `terraform import`; Continuar artigo (Terraform import use cases)</p>"
   ]
  },
  {
   "cell_type": "markdown",
   "id": "79215d53-f3ec-411d-98b0-8bcb554df37f",
   "metadata": {
    "editable": true,
    "slideshow": {
     "slide_type": ""
    },
    "tags": []
   },
   "source": [
    "<p style='color:red'> Usar a imagem \"ubuntu/images/hvm-ssd/ubuntu-focal-20.04-amd64-server-*\" no Ubuntu Server </p>"
   ]
  }
 ],
 "metadata": {
  "kernelspec": {
   "display_name": "Python 3 (ipykernel)",
   "language": "python",
   "name": "python3"
  },
  "language_info": {
   "codemirror_mode": {
    "name": "ipython",
    "version": 3
   },
   "file_extension": ".py",
   "mimetype": "text/x-python",
   "name": "python",
   "nbconvert_exporter": "python",
   "pygments_lexer": "ipython3",
   "version": "3.10.12"
  }
 },
 "nbformat": 4,
 "nbformat_minor": 5
}

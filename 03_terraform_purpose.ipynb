{
 "cells": [
  {
   "cell_type": "markdown",
   "id": "8efdccea-37f5-4e9a-8f69-78762eebaea7",
   "metadata": {},
   "source": [
    "<h1 style='font-size:40px'> Understand the purpose of Terraform (vs other IaC)</h1>"
   ]
  },
  {
   "cell_type": "markdown",
   "id": "74d58b9a-f9b2-4721-9ce7-4682bb5695b5",
   "metadata": {},
   "source": [
    "<h2 style='font-size:30px'> Terraform Purpose</h2>\n",
    "<div> \n",
    "    <ul style='font-size:20px'> \n",
    "        <li>\n",
    "            Além do benefíciop principal de gerir sua infra via código, o TF possibilita a execução de dry-runs a fim de simularmos o efeito de nossas alterações. Fora isso, ele nos oferece uma relação sobre quais recursos serão modificados, uma vez implantada a modificação.\n",
    "        </li>\n",
    "        <li>\n",
    "            O Terraform monta um grafo em seu backend que estabelece a relação entre os recursos a serem criados. Caso exista um nó independente dos demais, ele pode criá-lo em paralelo.\n",
    "        </li>\n",
    "    </ul>\n",
    " </div>"
   ]
  },
  {
   "cell_type": "markdown",
   "id": "7fe81d66-dc13-404a-9fef-32912c55a526",
   "metadata": {},
   "source": [
    "<h2 style='font-size:30px'>  Benefits of Terraform State</h2>\n",
    "<div> \n",
    "    <ul style='font-size:20px'> \n",
    "        <li>\n",
    "            O TerraFrom mantém um arquivo de state que contém os dados do estado atual de sua infra. É com base nele que o programa definirá quais ações devem ser tomadas em uma nova execução.\n",
    "        </li>\n",
    "    </ul>\n",
    " </div>"
   ]
  },
  {
   "cell_type": "code",
   "execution_count": 1,
   "id": "cfe89d02-d4c3-447c-a112-dbe29de88ec9",
   "metadata": {},
   "outputs": [
    {
     "name": "stdout",
     "output_type": "stream",
     "text": [
      "[master b0ac444] Aula 7 (5:45)\n",
      " 4 files changed, 122 insertions(+), 96 deletions(-)\n",
      " create mode 100644 .ipynb_checkpoints/03_terraform_purpose-checkpoint.ipynb\n",
      " create mode 100644 03_terraform_purpose.ipynb\n",
      "Enumerating objects: 8, done.\n",
      "Counting objects: 100% (8/8), done.\n",
      "Delta compression using up to 24 threads\n",
      "Compressing objects: 100% (5/5), done.\n",
      "Writing objects: 100% (5/5), 885 bytes | 885.00 KiB/s, done.\n",
      "Total 5 (delta 2), reused 0 (delta 0), pack-reused 0\n",
      "remote: Resolving deltas: 100% (2/2), completed with 1 local object.\u001b[K\n",
      "To https://github.com/felipesveiga/terraform.git\n",
      "   e597d5d..b0ac444  master -> master\n"
     ]
    }
   ],
   "source": [
    "! git add .\n",
    "! git commit -m 'Implantar projeto da seção 2 (Benefits of IaaC)'\n",
    "! git push"
   ]
  },
  {
   "cell_type": "markdown",
   "id": "81ee4be8-d5ca-4299-9443-4d61209613dc",
   "metadata": {
    "editable": true,
    "slideshow": {
     "slide_type": ""
    },
    "tags": []
   },
   "source": [
    "<p style='color:red'> Vi Aula 7 e iniciei 8; Implantar projeto da seção 2 (Benefits of IaaC), acho que só falta especificar credenciais AWS; Aula 8 (3:30)</p>"
   ]
  }
 ],
 "metadata": {
  "kernelspec": {
   "display_name": "Python 3 (ipykernel)",
   "language": "python",
   "name": "python3"
  },
  "language_info": {
   "codemirror_mode": {
    "name": "ipython",
    "version": 3
   },
   "file_extension": ".py",
   "mimetype": "text/x-python",
   "name": "python",
   "nbconvert_exporter": "python",
   "pygments_lexer": "ipython3",
   "version": "3.10.12"
  }
 },
 "nbformat": 4,
 "nbformat_minor": 5
}

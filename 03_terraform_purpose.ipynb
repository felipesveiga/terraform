{
 "cells": [
  {
   "cell_type": "markdown",
   "id": "8efdccea-37f5-4e9a-8f69-78762eebaea7",
   "metadata": {},
   "source": [
    "<h1 style='font-size:40px'> Understand the purpose of Terraform (vs other IaC)</h1>"
   ]
  },
  {
   "cell_type": "markdown",
   "id": "74d58b9a-f9b2-4721-9ce7-4682bb5695b5",
   "metadata": {},
   "source": [
    "<h2 style='font-size:30px'> Terraform Purpose</h2>\n",
    "<div> \n",
    "    <ul style='font-size:20px'> \n",
    "        <li>\n",
    "        </li>\n",
    "    </ul>\n",
    " </div>"
   ]
  },
  {
   "cell_type": "markdown",
   "id": "81ee4be8-d5ca-4299-9443-4d61209613dc",
   "metadata": {
    "editable": true,
    "slideshow": {
     "slide_type": ""
    },
    "tags": []
   },
   "source": [
    "<p style='color:red'> Terminei seção 2 e iniciei Aula 7; Aula 7 (5:45)</p>"
   ]
  }
 ],
 "metadata": {
  "kernelspec": {
   "display_name": "Python 3 (ipykernel)",
   "language": "python",
   "name": "python3"
  },
  "language_info": {
   "codemirror_mode": {
    "name": "ipython",
    "version": 3
   },
   "file_extension": ".py",
   "mimetype": "text/x-python",
   "name": "python",
   "nbconvert_exporter": "python",
   "pygments_lexer": "ipython3",
   "version": "3.10.12"
  }
 },
 "nbformat": 4,
 "nbformat_minor": 5
}

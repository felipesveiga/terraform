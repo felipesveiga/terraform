{
 "cells": [
  {
   "cell_type": "markdown",
   "id": "14567855-f5c6-48b8-a928-21edc48586ea",
   "metadata": {},
   "source": [
    "<h1 style='font-size:40px'> Read, Generate and Modify Configuration</h1>\n",
    "<div> \n",
    "    <ul style='font-size:20px'> \n",
    "        <li>\n",
    "            Esta seção revisitará conceitos já apresentados ao longo do curso, a fim de aprofundá-los.\n",
    "        </li>\n",
    "    </ul>\n",
    " </div>"
   ]
  },
  {
   "cell_type": "markdown",
   "id": "4ede5450-3cd8-4722-bc28-fef49ea63c2d",
   "metadata": {},
   "source": [
    "<h2 style='font-size:30px'> \n",
    "    Local Variables</h2>\n",
    "<div> \n",
    "    <ul style='font-size:20px'> \n",
    "        <li>\n",
    "            As Local Variables possuem algumas restrições, comparadas às variáveis tradicionais. Elas apenas podem ser referenciadas dentro do arquivo em que estão sendo usadas, e não podem ter seu valor alterado (penso que seria mais apropriado chamá-las de local constants).\n",
    "        </li>\n",
    "        <li>\n",
    "            Um truque legal ensinado é que, caso deseje usar múltiplas variáveis no parâmetro de um recurso, você pode criar um local cujo valor seja um dicionário com os argumentos e valores necessários. Quando for escrever a configuração do recurso, se referencie ao conjunto de variáveis como &lt; locals.argument_name&gt;. \n",
    "        </li>\n",
    "    </ul>\n",
    " </div>"
   ]
  },
  {
   "cell_type": "markdown",
   "id": "2032029b-d7b4-48d4-9d52-a8fa00f7d463",
   "metadata": {},
   "source": [
    " <center style='margin-top:20px'> \n",
    "        <figure>\n",
    "            <img src='img/11_locals_argument.png'>\n",
    "            <figcaption> Exemplo de declaração de um local que se refere a múltiplas variáveis.</figcaption>\n",
    "        </figure>\n",
    "    </center>"
   ]
  },
  {
   "cell_type": "code",
   "execution_count": 1,
   "id": "447d956c-5a72-49ef-abfa-9f6ab157603e",
   "metadata": {},
   "outputs": [
    {
     "name": "stdout",
     "output_type": "stream",
     "text": [
      "[master 50c5d08] Aula 55\n",
      " 4 files changed, 24 insertions(+), 26 deletions(-)\n",
      " delete mode 100644 labs/10-backend/terraform/.main.tf.swp\n",
      " create mode 100644 labs/pdf/10_Terraform_Backend_Configuration.pdf\n",
      "Enumerating objects: 16, done.\n",
      "Counting objects: 100% (16/16), done.\n",
      "Delta compression using up to 24 threads\n",
      "Compressing objects: 100% (8/8), done.\n",
      "Writing objects: 100% (9/9), 512.55 KiB | 28.47 MiB/s, done.\n",
      "Total 9 (delta 6), reused 0 (delta 0), pack-reused 0\n",
      "remote: Resolving deltas: 100% (6/6), completed with 6 local objects.\u001b[K\n",
      "To https://github.com/felipesveiga/terraform.git\n",
      "   456ee4e..50c5d08  master -> master\n"
     ]
    }
   ],
   "source": [
    "! git add .\n",
    "! git commit -m 'Aula 57'\n",
    "! git push"
   ]
  },
  {
   "cell_type": "markdown",
   "id": "9877bab8-b775-4500-99d5-bef44197897d",
   "metadata": {
    "editable": true,
    "slideshow": {
     "slide_type": ""
    },
    "tags": []
   },
   "source": [
    "<p style='color:red'> Vi Aula 56; Aula 57</p>"
   ]
  },
  {
   "cell_type": "markdown",
   "id": "a26683a0-3b18-45b2-b852-045032031f92",
   "metadata": {
    "editable": true,
    "slideshow": {
     "slide_type": ""
    },
    "tags": []
   },
   "source": [
    "<p style='color:red'> Usar a imagem \"ubuntu/images/hvm-ssd/ubuntu-focal-20.04-amd64-server-*\" no Ubuntu Server </p>"
   ]
  }
 ],
 "metadata": {
  "kernelspec": {
   "display_name": "Python 3 (ipykernel)",
   "language": "python",
   "name": "python3"
  },
  "language_info": {
   "codemirror_mode": {
    "name": "ipython",
    "version": 3
   },
   "file_extension": ".py",
   "mimetype": "text/x-python",
   "name": "python",
   "nbconvert_exporter": "python",
   "pygments_lexer": "ipython3",
   "version": "3.10.12"
  }
 },
 "nbformat": 4,
 "nbformat_minor": 5
}

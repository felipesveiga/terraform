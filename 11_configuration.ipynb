{
 "cells": [
  {
   "cell_type": "markdown",
   "id": "14567855-f5c6-48b8-a928-21edc48586ea",
   "metadata": {},
   "source": [
    "<h1 style='font-size:40px'> Read, Generate and Modify Configuration</h1>\n",
    "<div> \n",
    "    <ul style='font-size:20px'> \n",
    "        <li>\n",
    "            Esta seção revisitará conceitos já apresentados ao longo do curso, a fim de aprofundá-los.\n",
    "        </li>\n",
    "    </ul>\n",
    " </div>"
   ]
  },
  {
   "cell_type": "markdown",
   "id": "4ede5450-3cd8-4722-bc28-fef49ea63c2d",
   "metadata": {},
   "source": [
    "<h2 style='font-size:30px'> \n",
    "    Local Variables</h2>\n",
    "<div> \n",
    "    <ul style='font-size:20px'> \n",
    "        <li>\n",
    "            As Local Variables possuem algumas restrições, comparadas às variáveis tradicionais. Elas apenas podem ser referenciadas dentro do arquivo em que estão sendo usadas, e não podem ter seu valor alterado (penso que seria mais apropriado chamá-las de local constants).\n",
    "        </li>\n",
    "        <li>\n",
    "            Um truque legal ensinado é que, caso deseje usar múltiplas variáveis no parâmetro de um recurso, você pode criar um local cujo valor seja um dicionário com os argumentos e valores necessários. Quando for escrever a configuração do recurso, se referencie ao conjunto de variáveis como &lt; locals.argument_name&gt;. \n",
    "        </li>\n",
    "    </ul>\n",
    " </div>"
   ]
  },
  {
   "cell_type": "markdown",
   "id": "2032029b-d7b4-48d4-9d52-a8fa00f7d463",
   "metadata": {},
   "source": [
    " <center style='margin-top:20px'> \n",
    "        <figure>\n",
    "            <img src='img/11_locals_argument.png'>\n",
    "            <figcaption> Exemplo de declaração de um local que se refere a múltiplas variáveis.</figcaption>\n",
    "        </figure>\n",
    "    </center>"
   ]
  },
  {
   "cell_type": "markdown",
   "id": "315e02f8-aa65-4a0b-bc6e-48a96b5f6fa7",
   "metadata": {},
   "source": [
    "<h2 style='font-size:30px'> \n",
    "     Input Variables</h2>\n",
    "<div> \n",
    "    <ul style='font-size:20px'> \n",
    "        <li>\n",
    "            As variáveis de input admitem uma maior flexibilidade do que as locals. Conseguimos importá-las em diferentes arquivos e redefini-las.\n",
    "        </li>\n",
    "    </ul>\n",
    " </div>"
   ]
  },
  {
   "cell_type": "markdown",
   "id": "dc81d385-b243-4d80-8274-7ad7dcd776a0",
   "metadata": {},
   "source": [
    " <center style='margin-top:20px'> \n",
    "        <figure>\n",
    "            <img src='img/04_variables_precedence.png'>\n",
    "            <figcaption> Podemos editar os valores de variáveis respeitando a ordem de precedência imposta pelo Terraform.</figcaption>\n",
    "        </figure>\n",
    "    </center>"
   ]
  },
  {
   "cell_type": "markdown",
   "id": "4356c3dc-c449-4c9e-84a8-5fbb2d7695f4",
   "metadata": {},
   "source": [
    "<h3 style='font-size:30px;font-style:italic'> Variáveis de Ambiente</h3>\n",
    "<div> \n",
    "    <ul style='font-size:20px'>\n",
    "        <li> \n",
    "            Para fazer o Terraform utilizar uma variável de ambiente como input variable, você deverá exportá-la em seu terminal, tendo o prefixo \"TF_VAR_\".\n",
    "        </li>\n",
    "        <li>\n",
    "            Observe que, caso esteja usando um backend remoto, você deverá definir as variáveis de ambiente dentro da plataforma utilizada, e não em seu terminal!\n",
    "        </li>\n",
    "     </ul>\n",
    "</div>"
   ]
  },
  {
   "cell_type": "markdown",
   "id": "8c94c18b-bcf0-494d-a9d4-e9ebceff229c",
   "metadata": {},
   "source": [
    " <center style='margin-top:20px'> \n",
    "        <figure>\n",
    "            <img src='img/11_export_variable.png'>\n",
    "            <figcaption> Exemplo da declaração de uma variável \"variable_sub_cidr\".</figcaption>\n",
    "        </figure>\n",
    "    </center>"
   ]
  },
  {
   "cell_type": "markdown",
   "id": "4b0d83ea-c267-4e8d-ae52-fbde08cedb4c",
   "metadata": {
    "jp-MarkdownHeadingCollapsed": true
   },
   "source": [
    "<h3 style='font-size:30px;font-style:italic'> terraform.tfvars</h3>\n",
    "<div> \n",
    "    <ul style='font-size:20px'>\n",
    "        <li> \n",
    "            Em arquivos .tfvars, você deve apenas declarar o nome da variável e o respectivo valor que deseja dar a ela.\n",
    "        </li>\n",
    "        <li>\n",
    "            É a maneira mais utilizada na declaração de variáveis.\n",
    "        </li>\n",
    "     </ul>\n",
    "</div>"
   ]
  },
  {
   "cell_type": "markdown",
   "id": "3ed87f08-03fb-4478-8d8c-9e84df3e102c",
   "metadata": {},
   "source": [
    "<h3 style='font-size:30px;font-style:italic'> CLI</h3>\n",
    "<div> \n",
    "    <ul style='font-size:20px'>\n",
    "        <li> \n",
    "            A CLI é a entidade com a maior precedência na declaração de input variables. Quando for rodar um plan ou apply, passe a flag `-var &lt; variable_name&gt;=&lt; variable_value&gt;`.\n",
    "        </li>\n",
    "     </ul>\n",
    "</div>"
   ]
  },
  {
   "cell_type": "markdown",
   "id": "43e9becb-264e-4315-b30a-7388fe41576f",
   "metadata": {
    "tags": []
   },
   "source": [
    "<h4 style='font-size:30px;font-style:italic;text-decoration:underline'> Observação</h4>\n",
    "<div> \n",
    "    <ul style='font-size:20px'>\n",
    "        <li> \n",
    "            Todos os recursos apresentados servem apenas para a definição do valor das variáveis já declaradas num <i>variables.tf</i>. O desenvolvedor não consegue criar uma nova variável a partir da CLI, ou em um .tfvars.\n",
    "        </li>\n",
    "     </ul>\n",
    "</div>"
   ]
  },
  {
   "cell_type": "markdown",
   "id": "0e1673c6-54b7-4c9f-abb2-6808ffa60d4d",
   "metadata": {},
   "source": [
    "<h2 style='font-size:30px'> \n",
    "     Terraform Outputs</h2>\n",
    "<div> \n",
    "    <ul style='font-size:20px'> \n",
    "        <li>\n",
    "            Como vimos em outros labs, outputs funcionam como valores disponibilizados por um módulo para serem consumidos por outros. Caso deseje ter acesso aos outputs de seu módulo atual, execute `terraform output`.\n",
    "        </li>\n",
    "        <li>\n",
    "            Outputs declarados com `sensitive=true` terão seus valores omitidos no output do terminal.\n",
    "        </li>\n",
    "    </ul>\n",
    " </div>"
   ]
  },
  {
   "cell_type": "markdown",
   "id": "e27e5bf1-12ac-4862-9e2e-bfc026e77150",
   "metadata": {},
   "source": [
    "<h2 style='font-size:30px'> \n",
    "     Variable Validation and Suppression</h2>\n",
    "<div> \n",
    "    <ul style='font-size:20px'> \n",
    "        <li>\n",
    "            O Terraform oferece um bloco <i> validation</i>, que pode ser usado dentro da definição de uma variável. Ele atua como uma cláusula `assert`, que verifica se o valor da variável respeita regras impostas.\n",
    "        </li>\n",
    "    </ul>\n",
    " </div>"
   ]
  },
  {
   "cell_type": "markdown",
   "id": "87304ff0-175a-4753-a9c7-e260780397ef",
   "metadata": {},
   "source": [
    " <center style='margin-top:20px'> \n",
    "        <figure>\n",
    "            <img src='img/11_variable_val.png'>\n",
    "            <figcaption> Exemplo de um bloco de validação. Repare que podemos utilizar as funções built-in do Terraform, para nos auxiliar na construção das cláusulas.</figcaption>\n",
    "        </figure>\n",
    "    </center>"
   ]
  },
  {
   "cell_type": "markdown",
   "id": "893ab40f-725c-4f5e-9664-f9f669a98d25",
   "metadata": {},
   "source": [
    "<div> \n",
    "    <ul style='font-size:20px'> \n",
    "        <li>\n",
    "            É mencionada novamente a capacidade de supressão de dados sensíveis dos outputs. Além disso, foi mostrado como tais informações são exibidas, caso utilizemos o Terraform Cloud como backend:\n",
    "        </li>\n",
    "    </ul>\n",
    " </div>"
   ]
  },
  {
   "cell_type": "markdown",
   "id": "e24d7522-7bf4-415d-94eb-33b1fa64f3fa",
   "metadata": {},
   "source": [
    " <center style='margin-top:20px'> \n",
    "        <figure>\n",
    "            <img src='img/11_tfcloud_sensitive.png'>\n",
    "            <figcaption> Observe que os outputs sensíveis ficam omitidos no site do Terraform Cloud.</figcaption>\n",
    "        </figure>\n",
    "    </center>"
   ]
  },
  {
   "cell_type": "markdown",
   "id": "9bb03304-443e-4766-839c-bada85cc1efc",
   "metadata": {},
   "source": [
    "<h2 style='font-size:30px'> \n",
    "     Secure Secrets in Terraform Code</h2>\n",
    "<div> \n",
    "    <ul style='font-size:20px'> \n",
    "        <li>\n",
    "            Até o momento, aprendemos algumas maneiras de evitar a exposição de variáveis sensíveis. Podemos sinalizá-las como sensitive, assim como apenas declarar o seu valor via linha de comando, mas nenhuma dessas maneiras é bastante eficaz. Seria interessante usufruir tanto do automatismo no resgate dos dados, quanto de sua confidencialidade.\n",
    "        </li>\n",
    "        <li>\n",
    "            Para isso, soluções como o Hashicorp Vault foram criadas. Elas consistem em repositórios seguros, de onde os dados sensíveis podem ser coletados.\n",
    "        </li>\n",
    "    </ul>\n",
    " </div>"
   ]
  },
  {
   "cell_type": "markdown",
   "id": "1841c770-5ea1-4691-81b0-7726cc3ee9e4",
   "metadata": {},
   "source": [
    "<h3 style='font-size:30px;font-style:italic'> Uso do Hashicorp Vault</h3>\n",
    "<div> \n",
    "    <ul style='font-size:20px'>\n",
    "        <li> \n",
    "            O uso do Hashicorp Vault envolve o uso de uma CLI própria. Com ela, deveremos criar o vault onde nossos valores sensíveis serão guardados.\n",
    "        </li>\n",
    "        <li>\n",
    "            Uma vez depositadas as variáveis, deveremos declarar um backend Vault em nosso projeto Terraform. Feito isso, cada variável poderá ser coletada com um data block.\n",
    "        </li>\n",
    "        <li>\n",
    "            Além disso, o Terraform já está programado para reconhecer qualquer dado proveniente do Vault como sensível. Por isso, ele jamais exporá o seu valor (caso você o ponha como output, por exemplo).\n",
    "        </li>\n",
    "     </ul>\n",
    "</div>"
   ]
  },
  {
   "cell_type": "markdown",
   "id": "d28c985a-1b24-4930-bc23-861dc4e382b4",
   "metadata": {},
   "source": [
    " <center style='margin-top:20px'> \n",
    "        <figure>\n",
    "            <img src='img/11_vault_data.png'>\n",
    "            <figcaption> Caso queira resgatar o valor puro de seu dado sensível, resgate o atributo `.data[&lt;nome_variavel&gt;]` de sua variável.</figcaption>\n",
    "        </figure>\n",
    "    </center>"
   ]
  },
  {
   "cell_type": "markdown",
   "id": "471eb61d-9a7c-4cd6-aff1-3dbd561225a5",
   "metadata": {},
   "source": [
    "<h2 style='font-size:30px'> \n",
    "     Variable Collection and Structure Types</h2>\n",
    "<div> \n",
    "    <ul style='font-size:20px'> \n",
    "        <li>\n",
    "            Nessa aula, aprendemos os data types admitidos pelo Terraform.\n",
    "        </li>\n",
    "        <li>\n",
    "            De maneira geral, os tipos são bastante semelhantes com os da maioria das linguagens de programação.\n",
    "        </li>\n",
    "        <li>\n",
    "            Os tipos primitivos do Terraform são string, bool e number. Este último contempla tanto inteiros, quanto floats.\n",
    "        </li>\n",
    "    </ul>\n",
    " </div>"
   ]
  },
  {
   "cell_type": "markdown",
   "id": "99e356bb-438b-4eb2-9aab-6704fbb8e926",
   "metadata": {},
   "source": [
    "<h3 style='font-size:30px;font-style:italic'> Estruturas de Dados</h3>"
   ]
  },
  {
   "cell_type": "markdown",
   "id": "2edec039-5a72-4538-8014-c3c5ed2027b4",
   "metadata": {
    "tags": []
   },
   "source": [
    "<h4 style='font-size:30px;font-style:italic;text-decoration:underline'> List</h4>\n",
    "<div> \n",
    "    <ul style='font-size:20px'>\n",
    "        <li> \n",
    "            As listas no Terraform são sequências de dados de mesmo tipo. Ou seja, não é admitido um ordenamento com um number e um bool, por exemplo.\n",
    "        </li>\n",
    "     </ul>\n",
    "</div>"
   ]
  },
  {
   "cell_type": "markdown",
   "id": "14fb9661-c496-4c9e-b4df-e96b122d7ced",
   "metadata": {
    "tags": []
   },
   "source": [
    "<h4 style='font-size:30px;font-style:italic;text-decoration:underline'> Tuple</h4>\n",
    "<div> \n",
    "    <ul style='font-size:20px'>\n",
    "        <li> \n",
    "            Tuplas no Terraform são ordenamentos que admitem diversidade de data types.\n",
    "        </li>\n",
    "     </ul>\n",
    "</div>"
   ]
  },
  {
   "cell_type": "markdown",
   "id": "c6ac4dfb-892f-43f6-85cb-2f5ef2d90940",
   "metadata": {},
   "source": [
    "<div> \n",
    "    <ul style='font-size:20px'>\n",
    "        <li> \n",
    "            Listas e Tuplas têm 0 como primeiro índice. Elas são declaradas usando colchetes [].\n",
    "        </li>\n",
    "     </ul>\n",
    "</div>"
   ]
  },
  {
   "cell_type": "markdown",
   "id": "1a2ef95c-b2b2-4768-8877-702aa0e2b3e7",
   "metadata": {
    "tags": []
   },
   "source": [
    "<h4 style='font-size:30px;font-style:italic;text-decoration:underline'> Map</h4>\n",
    "<div> \n",
    "    <ul style='font-size:20px'>\n",
    "        <li> \n",
    "            Equivalente aos dicionários. São relações de chave-valor.\n",
    "        </li>\n",
    "     </ul>\n",
    "</div>"
   ]
  },
  {
   "cell_type": "code",
   "execution_count": 1,
   "id": "447d956c-5a72-49ef-abfa-9f6ab157603e",
   "metadata": {},
   "outputs": [
    {
     "name": "stdout",
     "output_type": "stream",
     "text": [
      "[master 354565f] Aula 62\n",
      " 3 files changed, 68 insertions(+), 28 deletions(-)\n",
      " create mode 100644 img/11_vault_data.png\n",
      "Enumerating objects: 10, done.\n",
      "Counting objects: 100% (10/10), done.\n",
      "Delta compression using up to 24 threads\n",
      "Compressing objects: 100% (6/6), done.\n",
      "Writing objects: 100% (6/6), 33.89 KiB | 33.89 MiB/s, done.\n",
      "Total 6 (delta 4), reused 0 (delta 0), pack-reused 0\n",
      "remote: Resolving deltas: 100% (4/4), completed with 4 local objects.\u001b[K\n",
      "To https://github.com/felipesveiga/terraform.git\n",
      "   01d945c..354565f  master -> master\n"
     ]
    }
   ],
   "source": [
    "! git add .\n",
    "! git commit -m 'Aula 61 (3:15)'\n",
    "! git push"
   ]
  },
  {
   "cell_type": "markdown",
   "id": "9877bab8-b775-4500-99d5-bef44197897d",
   "metadata": {
    "editable": true,
    "slideshow": {
     "slide_type": ""
    },
    "tags": []
   },
   "source": [
    "<p style='color:red'> Iniciei Aula 61; Aula 61 (3:15)</p>"
   ]
  },
  {
   "cell_type": "markdown",
   "id": "a26683a0-3b18-45b2-b852-045032031f92",
   "metadata": {
    "editable": true,
    "slideshow": {
     "slide_type": ""
    },
    "tags": []
   },
   "source": [
    "<p style='color:red'> Usar a imagem \"ubuntu/images/hvm-ssd/ubuntu-focal-20.04-amd64-server-*\" no Ubuntu Server </p>"
   ]
  }
 ],
 "metadata": {
  "kernelspec": {
   "display_name": "Python 3 (ipykernel)",
   "language": "python",
   "name": "python3"
  },
  "language_info": {
   "codemirror_mode": {
    "name": "ipython",
    "version": 3
   },
   "file_extension": ".py",
   "mimetype": "text/x-python",
   "name": "python",
   "nbconvert_exporter": "python",
   "pygments_lexer": "ipython3",
   "version": "3.10.12"
  }
 },
 "nbformat": 4,
 "nbformat_minor": 5
}
